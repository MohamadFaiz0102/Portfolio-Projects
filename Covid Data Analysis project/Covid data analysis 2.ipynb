{
 "cells": [
  {
   "cell_type": "code",
   "execution_count": 2,
   "id": "4ed40df9",
   "metadata": {},
   "outputs": [],
   "source": [
    "import pandas as pd\n",
    "import numpy as np\n",
    "import matplotlib.pyplot as plt"
   ]
  },
  {
   "cell_type": "markdown",
   "id": "38b5e00d",
   "metadata": {},
   "source": [
    "### Import filtered CSV file"
   ]
  },
  {
   "cell_type": "code",
   "execution_count": 3,
   "id": "a8e59af8",
   "metadata": {},
   "outputs": [
    {
     "name": "stderr",
     "output_type": "stream",
     "text": [
      "C:\\Users\\Faiz\\anaconda3\\lib\\site-packages\\IPython\\core\\interactiveshell.py:3441: DtypeWarning: Columns (3) have mixed types.Specify dtype option on import or set low_memory=False.\n",
      "  exec(code_obj, self.user_global_ns, self.user_ns)\n"
     ]
    },
    {
     "data": {
      "text/html": [
       "<div>\n",
       "<style scoped>\n",
       "    .dataframe tbody tr th:only-of-type {\n",
       "        vertical-align: middle;\n",
       "    }\n",
       "\n",
       "    .dataframe tbody tr th {\n",
       "        vertical-align: top;\n",
       "    }\n",
       "\n",
       "    .dataframe thead th {\n",
       "        text-align: right;\n",
       "    }\n",
       "</style>\n",
       "<table border=\"1\" class=\"dataframe\">\n",
       "  <thead>\n",
       "    <tr style=\"text-align: right;\">\n",
       "      <th></th>\n",
       "      <th>Unnamed: 0</th>\n",
       "      <th>Num Cases</th>\n",
       "      <th>Date Announced</th>\n",
       "      <th>Age Bracket</th>\n",
       "      <th>Gender</th>\n",
       "      <th>Detected City</th>\n",
       "      <th>Detected District</th>\n",
       "      <th>Detected State</th>\n",
       "      <th>Current Status</th>\n",
       "      <th>Day</th>\n",
       "      <th>Month</th>\n",
       "      <th>Year</th>\n",
       "    </tr>\n",
       "  </thead>\n",
       "  <tbody>\n",
       "    <tr>\n",
       "      <th>0</th>\n",
       "      <td>0</td>\n",
       "      <td>1.0</td>\n",
       "      <td>30/01/2020</td>\n",
       "      <td>20</td>\n",
       "      <td>F</td>\n",
       "      <td>Thrissur</td>\n",
       "      <td>Thrissur</td>\n",
       "      <td>Kerala</td>\n",
       "      <td>Recovered</td>\n",
       "      <td>30</td>\n",
       "      <td>1</td>\n",
       "      <td>2020</td>\n",
       "    </tr>\n",
       "    <tr>\n",
       "      <th>1</th>\n",
       "      <td>1</td>\n",
       "      <td>1.0</td>\n",
       "      <td>02/02/2020</td>\n",
       "      <td>NaN</td>\n",
       "      <td>NaN</td>\n",
       "      <td>Alappuzha</td>\n",
       "      <td>Alappuzha</td>\n",
       "      <td>Kerala</td>\n",
       "      <td>Recovered</td>\n",
       "      <td>2</td>\n",
       "      <td>2</td>\n",
       "      <td>2020</td>\n",
       "    </tr>\n",
       "    <tr>\n",
       "      <th>2</th>\n",
       "      <td>2</td>\n",
       "      <td>1.0</td>\n",
       "      <td>03/02/2020</td>\n",
       "      <td>NaN</td>\n",
       "      <td>NaN</td>\n",
       "      <td>Kasaragod</td>\n",
       "      <td>Kasaragod</td>\n",
       "      <td>Kerala</td>\n",
       "      <td>Recovered</td>\n",
       "      <td>3</td>\n",
       "      <td>2</td>\n",
       "      <td>2020</td>\n",
       "    </tr>\n",
       "    <tr>\n",
       "      <th>3</th>\n",
       "      <td>3</td>\n",
       "      <td>1.0</td>\n",
       "      <td>02/03/2020</td>\n",
       "      <td>45</td>\n",
       "      <td>M</td>\n",
       "      <td>East Delhi (Mayur Vihar)</td>\n",
       "      <td>East Delhi</td>\n",
       "      <td>Delhi</td>\n",
       "      <td>Recovered</td>\n",
       "      <td>2</td>\n",
       "      <td>3</td>\n",
       "      <td>2020</td>\n",
       "    </tr>\n",
       "    <tr>\n",
       "      <th>4</th>\n",
       "      <td>4</td>\n",
       "      <td>1.0</td>\n",
       "      <td>02/03/2020</td>\n",
       "      <td>24</td>\n",
       "      <td>M</td>\n",
       "      <td>Hyderabad</td>\n",
       "      <td>Hyderabad</td>\n",
       "      <td>Telangana</td>\n",
       "      <td>Recovered</td>\n",
       "      <td>2</td>\n",
       "      <td>3</td>\n",
       "      <td>2020</td>\n",
       "    </tr>\n",
       "  </tbody>\n",
       "</table>\n",
       "</div>"
      ],
      "text/plain": [
       "   Unnamed: 0  Num Cases Date Announced Age Bracket Gender  \\\n",
       "0           0        1.0     30/01/2020          20      F   \n",
       "1           1        1.0     02/02/2020         NaN    NaN   \n",
       "2           2        1.0     03/02/2020         NaN    NaN   \n",
       "3           3        1.0     02/03/2020          45      M   \n",
       "4           4        1.0     02/03/2020          24      M   \n",
       "\n",
       "              Detected City Detected District Detected State Current Status  \\\n",
       "0                  Thrissur          Thrissur         Kerala      Recovered   \n",
       "1                 Alappuzha         Alappuzha         Kerala      Recovered   \n",
       "2                 Kasaragod         Kasaragod         Kerala      Recovered   \n",
       "3  East Delhi (Mayur Vihar)        East Delhi          Delhi      Recovered   \n",
       "4                 Hyderabad         Hyderabad      Telangana      Recovered   \n",
       "\n",
       "   Day  Month  Year  \n",
       "0   30      1  2020  \n",
       "1    2      2  2020  \n",
       "2    3      2  2020  \n",
       "3    2      3  2020  \n",
       "4    2      3  2020  "
      ]
     },
     "execution_count": 3,
     "metadata": {},
     "output_type": "execute_result"
    }
   ],
   "source": [
    "covid=pd.read_csv('CovidIndia.csv')\n",
    "covid.head()"
   ]
  },
  {
   "cell_type": "code",
   "execution_count": 4,
   "id": "6b47f88d",
   "metadata": {},
   "outputs": [
    {
     "name": "stdout",
     "output_type": "stream",
     "text": [
      "<class 'pandas.core.frame.DataFrame'>\n",
      "RangeIndex: 145849 entries, 0 to 145848\n",
      "Data columns (total 12 columns):\n",
      " #   Column             Non-Null Count   Dtype  \n",
      "---  ------             --------------   -----  \n",
      " 0   Unnamed: 0         145849 non-null  int64  \n",
      " 1   Num Cases          145846 non-null  float64\n",
      " 2   Date Announced     145849 non-null  object \n",
      " 3   Age Bracket        60013 non-null   object \n",
      " 4   Gender             62808 non-null   object \n",
      " 5   Detected City      10949 non-null   object \n",
      " 6   Detected District  137451 non-null  object \n",
      " 7   Detected State     145840 non-null  object \n",
      " 8   Current Status     145847 non-null  object \n",
      " 9   Day                145849 non-null  int64  \n",
      " 10  Month              145849 non-null  int64  \n",
      " 11  Year               145849 non-null  int64  \n",
      "dtypes: float64(1), int64(4), object(7)\n",
      "memory usage: 13.4+ MB\n"
     ]
    }
   ],
   "source": [
    "covid.info()"
   ]
  },
  {
   "cell_type": "markdown",
   "id": "41597bce",
   "metadata": {},
   "source": [
    "### Removing unnecessary columns"
   ]
  },
  {
   "cell_type": "code",
   "execution_count": 5,
   "id": "f1628de3",
   "metadata": {},
   "outputs": [
    {
     "data": {
      "text/html": [
       "<div>\n",
       "<style scoped>\n",
       "    .dataframe tbody tr th:only-of-type {\n",
       "        vertical-align: middle;\n",
       "    }\n",
       "\n",
       "    .dataframe tbody tr th {\n",
       "        vertical-align: top;\n",
       "    }\n",
       "\n",
       "    .dataframe thead th {\n",
       "        text-align: right;\n",
       "    }\n",
       "</style>\n",
       "<table border=\"1\" class=\"dataframe\">\n",
       "  <thead>\n",
       "    <tr style=\"text-align: right;\">\n",
       "      <th></th>\n",
       "      <th>Num Cases</th>\n",
       "      <th>Date Announced</th>\n",
       "      <th>Age Bracket</th>\n",
       "      <th>Gender</th>\n",
       "      <th>Detected City</th>\n",
       "      <th>Detected District</th>\n",
       "      <th>Detected State</th>\n",
       "      <th>Current Status</th>\n",
       "      <th>Day</th>\n",
       "      <th>Month</th>\n",
       "      <th>Year</th>\n",
       "    </tr>\n",
       "  </thead>\n",
       "  <tbody>\n",
       "    <tr>\n",
       "      <th>0</th>\n",
       "      <td>1.0</td>\n",
       "      <td>30/01/2020</td>\n",
       "      <td>20</td>\n",
       "      <td>F</td>\n",
       "      <td>Thrissur</td>\n",
       "      <td>Thrissur</td>\n",
       "      <td>Kerala</td>\n",
       "      <td>Recovered</td>\n",
       "      <td>30</td>\n",
       "      <td>1</td>\n",
       "      <td>2020</td>\n",
       "    </tr>\n",
       "    <tr>\n",
       "      <th>1</th>\n",
       "      <td>1.0</td>\n",
       "      <td>02/02/2020</td>\n",
       "      <td>NaN</td>\n",
       "      <td>NaN</td>\n",
       "      <td>Alappuzha</td>\n",
       "      <td>Alappuzha</td>\n",
       "      <td>Kerala</td>\n",
       "      <td>Recovered</td>\n",
       "      <td>2</td>\n",
       "      <td>2</td>\n",
       "      <td>2020</td>\n",
       "    </tr>\n",
       "    <tr>\n",
       "      <th>2</th>\n",
       "      <td>1.0</td>\n",
       "      <td>03/02/2020</td>\n",
       "      <td>NaN</td>\n",
       "      <td>NaN</td>\n",
       "      <td>Kasaragod</td>\n",
       "      <td>Kasaragod</td>\n",
       "      <td>Kerala</td>\n",
       "      <td>Recovered</td>\n",
       "      <td>3</td>\n",
       "      <td>2</td>\n",
       "      <td>2020</td>\n",
       "    </tr>\n",
       "    <tr>\n",
       "      <th>3</th>\n",
       "      <td>1.0</td>\n",
       "      <td>02/03/2020</td>\n",
       "      <td>45</td>\n",
       "      <td>M</td>\n",
       "      <td>East Delhi (Mayur Vihar)</td>\n",
       "      <td>East Delhi</td>\n",
       "      <td>Delhi</td>\n",
       "      <td>Recovered</td>\n",
       "      <td>2</td>\n",
       "      <td>3</td>\n",
       "      <td>2020</td>\n",
       "    </tr>\n",
       "    <tr>\n",
       "      <th>4</th>\n",
       "      <td>1.0</td>\n",
       "      <td>02/03/2020</td>\n",
       "      <td>24</td>\n",
       "      <td>M</td>\n",
       "      <td>Hyderabad</td>\n",
       "      <td>Hyderabad</td>\n",
       "      <td>Telangana</td>\n",
       "      <td>Recovered</td>\n",
       "      <td>2</td>\n",
       "      <td>3</td>\n",
       "      <td>2020</td>\n",
       "    </tr>\n",
       "  </tbody>\n",
       "</table>\n",
       "</div>"
      ],
      "text/plain": [
       "   Num Cases Date Announced Age Bracket Gender             Detected City  \\\n",
       "0        1.0     30/01/2020          20      F                  Thrissur   \n",
       "1        1.0     02/02/2020         NaN    NaN                 Alappuzha   \n",
       "2        1.0     03/02/2020         NaN    NaN                 Kasaragod   \n",
       "3        1.0     02/03/2020          45      M  East Delhi (Mayur Vihar)   \n",
       "4        1.0     02/03/2020          24      M                 Hyderabad   \n",
       "\n",
       "  Detected District Detected State Current Status  Day  Month  Year  \n",
       "0          Thrissur         Kerala      Recovered   30      1  2020  \n",
       "1         Alappuzha         Kerala      Recovered    2      2  2020  \n",
       "2         Kasaragod         Kerala      Recovered    3      2  2020  \n",
       "3        East Delhi          Delhi      Recovered    2      3  2020  \n",
       "4         Hyderabad      Telangana      Recovered    2      3  2020  "
      ]
     },
     "execution_count": 5,
     "metadata": {},
     "output_type": "execute_result"
    }
   ],
   "source": [
    "data=covid.iloc[:,1:] # here iloc[rows,colms]\n",
    "data.head()"
   ]
  },
  {
   "cell_type": "markdown",
   "id": "266e31b5",
   "metadata": {},
   "source": [
    "### Check for null values and % of null values in each columns"
   ]
  },
  {
   "cell_type": "code",
   "execution_count": 6,
   "id": "37375e6b",
   "metadata": {},
   "outputs": [
    {
     "data": {
      "text/plain": [
       "Detected City        92.492921\n",
       "Age Bracket          58.852649\n",
       "Gender               56.936283\n",
       "Detected District     5.758010\n",
       "Detected State        0.006171\n",
       "Num Cases             0.002057\n",
       "Current Status        0.001371\n",
       "Date Announced        0.000000\n",
       "Day                   0.000000\n",
       "Month                 0.000000\n",
       "Year                  0.000000\n",
       "dtype: float64"
      ]
     },
     "execution_count": 6,
     "metadata": {},
     "output_type": "execute_result"
    }
   ],
   "source": [
    "# for null valaues and also check in % in each colms\n",
    "data.isnull().sum(axis=0).sort_values(ascending=False)/len(data)*100"
   ]
  },
  {
   "cell_type": "code",
   "execution_count": 7,
   "id": "26910085",
   "metadata": {
    "scrolled": true
   },
   "outputs": [
    {
     "data": {
      "text/plain": [
       "Num Cases                   1.0\n",
       "Date Announced       02/02/2020\n",
       "Age Bracket                 NaN\n",
       "Gender                      NaN\n",
       "Detected City         Alappuzha\n",
       "Detected District     Alappuzha\n",
       "Detected State           Kerala\n",
       "Current Status        Recovered\n",
       "Day                           2\n",
       "Month                         2\n",
       "Year                       2020\n",
       "Name: 1, dtype: object"
      ]
     },
     "execution_count": 7,
     "metadata": {},
     "output_type": "execute_result"
    }
   ],
   "source": [
    "data.iloc[1] # it shows rows i.e row 1"
   ]
  },
  {
   "cell_type": "code",
   "execution_count": 8,
   "id": "cb74d3cc",
   "metadata": {
    "scrolled": false
   },
   "outputs": [
    {
     "data": {
      "text/html": [
       "<div>\n",
       "<style scoped>\n",
       "    .dataframe tbody tr th:only-of-type {\n",
       "        vertical-align: middle;\n",
       "    }\n",
       "\n",
       "    .dataframe tbody tr th {\n",
       "        vertical-align: top;\n",
       "    }\n",
       "\n",
       "    .dataframe thead th {\n",
       "        text-align: right;\n",
       "    }\n",
       "</style>\n",
       "<table border=\"1\" class=\"dataframe\">\n",
       "  <thead>\n",
       "    <tr style=\"text-align: right;\">\n",
       "      <th></th>\n",
       "      <th>Num Cases</th>\n",
       "      <th>Date Announced</th>\n",
       "      <th>Age Bracket</th>\n",
       "      <th>Gender</th>\n",
       "      <th>Detected City</th>\n",
       "      <th>Detected District</th>\n",
       "      <th>Detected State</th>\n",
       "      <th>Current Status</th>\n",
       "      <th>Day</th>\n",
       "      <th>Month</th>\n",
       "      <th>Year</th>\n",
       "    </tr>\n",
       "  </thead>\n",
       "  <tbody>\n",
       "    <tr>\n",
       "      <th>1</th>\n",
       "      <td>1.0</td>\n",
       "      <td>02/02/2020</td>\n",
       "      <td>NaN</td>\n",
       "      <td>NaN</td>\n",
       "      <td>Alappuzha</td>\n",
       "      <td>Alappuzha</td>\n",
       "      <td>Kerala</td>\n",
       "      <td>Recovered</td>\n",
       "      <td>2</td>\n",
       "      <td>2</td>\n",
       "      <td>2020</td>\n",
       "    </tr>\n",
       "    <tr>\n",
       "      <th>23</th>\n",
       "      <td>1.0</td>\n",
       "      <td>04/03/2020</td>\n",
       "      <td>45</td>\n",
       "      <td>F</td>\n",
       "      <td>Agra</td>\n",
       "      <td>Agra</td>\n",
       "      <td>Uttar Pradesh</td>\n",
       "      <td>Recovered</td>\n",
       "      <td>4</td>\n",
       "      <td>3</td>\n",
       "      <td>2020</td>\n",
       "    </tr>\n",
       "  </tbody>\n",
       "</table>\n",
       "</div>"
      ],
      "text/plain": [
       "    Num Cases Date Announced Age Bracket Gender Detected City  \\\n",
       "1         1.0     02/02/2020         NaN    NaN     Alappuzha   \n",
       "23        1.0     04/03/2020          45      F          Agra   \n",
       "\n",
       "   Detected District Detected State Current Status  Day  Month  Year  \n",
       "1          Alappuzha         Kerala      Recovered    2      2  2020  \n",
       "23              Agra  Uttar Pradesh      Recovered    4      3  2020  "
      ]
     },
     "execution_count": 8,
     "metadata": {},
     "output_type": "execute_result"
    }
   ],
   "source": [
    "data.loc[[1,23],:] # similarly [rows,colms]"
   ]
  },
  {
   "cell_type": "markdown",
   "id": "d7d116fb",
   "metadata": {},
   "source": [
    "### Covid cases Month wise "
   ]
  },
  {
   "cell_type": "code",
   "execution_count": 99,
   "id": "5b98c65a",
   "metadata": {},
   "outputs": [
    {
     "data": {
      "text/plain": [
       "array(['Recovered', 'Hospitalized', 'Deceased', 'Migrated',\n",
       "       'Migrated_Other', nan, 'Migrated_other'], dtype=object)"
      ]
     },
     "execution_count": 99,
     "metadata": {},
     "output_type": "execute_result"
    }
   ],
   "source": [
    "data['Current Status'].unique()"
   ]
  },
  {
   "cell_type": "code",
   "execution_count": 67,
   "id": "6fc49158",
   "metadata": {
    "scrolled": true
   },
   "outputs": [
    {
     "data": {
      "text/plain": [
       "Month\n",
       "1         1.0\n",
       "2         2.0\n",
       "3      1635.0\n",
       "4     36078.0\n",
       "5    242853.0\n",
       "6    663178.0\n",
       "7    270185.0\n",
       "Name: Num Cases, dtype: float64"
      ]
     },
     "execution_count": 67,
     "metadata": {},
     "output_type": "execute_result"
    }
   ],
   "source": [
    "n=data.groupby('Month')['Num Cases'].sum()\n",
    "n"
   ]
  },
  {
   "cell_type": "code",
   "execution_count": 68,
   "id": "a276890b",
   "metadata": {
    "scrolled": true
   },
   "outputs": [
    {
     "data": {
      "text/plain": [
       "Text(0, 0.5, 'Number of Cases')"
      ]
     },
     "execution_count": 68,
     "metadata": {},
     "output_type": "execute_result"
    },
    {
     "data": {
      "image/png": "[encoded data removed]",
      "text/plain": [
       "<Figure size 432x288 with 1 Axes>"
      ]
     },
     "metadata": {
      "needs_background": "light"
     },
     "output_type": "display_data"
    }
   ],
   "source": [
    "n.plot(marker='.')\n",
    "plt.ylabel('Number of Cases')"
   ]
  },
  {
   "cell_type": "markdown",
   "id": "f9b7b051",
   "metadata": {},
   "source": [
    "### Hospitalized cases month wise"
   ]
  },
  {
   "cell_type": "code",
   "execution_count": 12,
   "id": "30a9d336",
   "metadata": {
    "scrolled": true
   },
   "outputs": [
    {
     "data": {
      "text/plain": [
       "Month\n",
       "3      1431.0\n",
       "4     33209.0\n",
       "5    155781.0\n",
       "6    395144.0\n",
       "7    157701.0\n",
       "Name: Num Cases, dtype: float64"
      ]
     },
     "execution_count": 12,
     "metadata": {},
     "output_type": "execute_result"
    }
   ],
   "source": [
    "m=data[data['Current Status']=='Hospitalized'].groupby('Month')['Num Cases'].sum()\n",
    "m"
   ]
  },
  {
   "cell_type": "code",
   "execution_count": 70,
   "id": "f77504e7",
   "metadata": {
    "scrolled": false
   },
   "outputs": [
    {
     "data": {
      "image/png": "[encoded data removed]",
      "text/plain": [
       "<Figure size 504x360 with 1 Axes>"
      ]
     },
     "metadata": {
      "needs_background": "light"
     },
     "output_type": "display_data"
    }
   ],
   "source": [
    "m.plot.bar(figsize=(7,5),color=['k','b','y','r','g'])\n",
    "plt.ylabel('Hospitalized cases')\n",
    "plt.xlabel('Month')\n",
    "plt.xticks(rotation=360);"
   ]
  },
  {
   "cell_type": "code",
   "execution_count": 14,
   "id": "b9a75240",
   "metadata": {},
   "outputs": [
    {
     "data": {
      "text/plain": [
       "<AxesSubplot:xlabel='Month'>"
      ]
     },
     "execution_count": 14,
     "metadata": {},
     "output_type": "execute_result"
    },
    {
     "data": {
      "image/png": "[encoded data removed]",
      "text/plain": [
       "<Figure size 720x360 with 1 Axes>"
      ]
     },
     "metadata": {
      "needs_background": "light"
     },
     "output_type": "display_data"
    }
   ],
   "source": [
    "m.plot(figsize=(10,5),marker='.')"
   ]
  },
  {
   "cell_type": "code",
   "execution_count": 100,
   "id": "4ee03c21",
   "metadata": {
    "scrolled": true
   },
   "outputs": [
    {
     "data": {
      "text/plain": [
       "Month\n",
       "1         1.0\n",
       "2         2.0\n",
       "3       177.0\n",
       "4      2573.0\n",
       "5     82804.0\n",
       "6    255977.0\n",
       "7    109206.0\n",
       "Name: Num Cases, dtype: float64"
      ]
     },
     "execution_count": 100,
     "metadata": {},
     "output_type": "execute_result"
    }
   ],
   "source": [
    "# cases month wise confirmed (recovered)\n",
    "#    means recovered ke per-month me katte cases hai karko \n",
    "\n",
    "re=data[data['Current Status']=='Recovered'].groupby('Month')['Num Cases'].sum()\n",
    "re"
   ]
  },
  {
   "cell_type": "code",
   "execution_count": 101,
   "id": "e0cf3d4d",
   "metadata": {},
   "outputs": [
    {
     "data": {
      "image/png": "[encoded data removed]",
      "text/plain": [
       "<Figure size 504x360 with 1 Axes>"
      ]
     },
     "metadata": {
      "needs_background": "light"
     },
     "output_type": "display_data"
    }
   ],
   "source": [
    "re.plot.bar(figsize=(7,5),color=['g','y','r','b','k'])\n",
    "plt.ylabel('recovered cases')\n",
    "plt.xticks(rotation=360);"
   ]
  },
  {
   "cell_type": "code",
   "execution_count": 105,
   "id": "e2ac611a",
   "metadata": {},
   "outputs": [
    {
     "data": {
      "text/plain": [
       "Month\n",
       "3       23.0\n",
       "4      295.0\n",
       "5     4251.0\n",
       "6    12004.0\n",
       "7     3244.0\n",
       "Name: Num Cases, dtype: float64"
      ]
     },
     "execution_count": 105,
     "metadata": {},
     "output_type": "execute_result"
    }
   ],
   "source": [
    "de=data[data['Current Status']=='Deceased'].groupby('Month')['Num Cases'].sum()\n",
    "de"
   ]
  },
  {
   "cell_type": "code",
   "execution_count": 110,
   "id": "16b278d8",
   "metadata": {},
   "outputs": [
    {
     "data": {
      "image/png": "[encoded data removed]",
      "text/plain": [
       "<Figure size 504x360 with 1 Axes>"
      ]
     },
     "metadata": {
      "needs_background": "light"
     },
     "output_type": "display_data"
    }
   ],
   "source": [
    "de.plot.bar()\n",
    "re.plot.bar(figsize=(7,5),color=['r','y','r','g','k'])\n",
    "plt.ylabel('Deceased cases')\n",
    "plt.xticks(rotation=360);"
   ]
  },
  {
   "cell_type": "markdown",
   "id": "72def359",
   "metadata": {},
   "source": [
    "### total male and female infected"
   ]
  },
  {
   "cell_type": "code",
   "execution_count": 16,
   "id": "ac579153",
   "metadata": {
    "scrolled": false
   },
   "outputs": [
    {
     "data": {
      "text/html": [
       "<div>\n",
       "<style scoped>\n",
       "    .dataframe tbody tr th:only-of-type {\n",
       "        vertical-align: middle;\n",
       "    }\n",
       "\n",
       "    .dataframe tbody tr th {\n",
       "        vertical-align: top;\n",
       "    }\n",
       "\n",
       "    .dataframe thead th {\n",
       "        text-align: right;\n",
       "    }\n",
       "</style>\n",
       "<table border=\"1\" class=\"dataframe\">\n",
       "  <thead>\n",
       "    <tr style=\"text-align: right;\">\n",
       "      <th></th>\n",
       "      <th>Num Cases</th>\n",
       "      <th>Date Announced</th>\n",
       "      <th>Age Bracket</th>\n",
       "      <th>Gender</th>\n",
       "      <th>Detected City</th>\n",
       "      <th>Detected District</th>\n",
       "      <th>Detected State</th>\n",
       "      <th>Current Status</th>\n",
       "      <th>Day</th>\n",
       "      <th>Month</th>\n",
       "      <th>Year</th>\n",
       "    </tr>\n",
       "  </thead>\n",
       "  <tbody>\n",
       "    <tr>\n",
       "      <th>0</th>\n",
       "      <td>1.0</td>\n",
       "      <td>30/01/2020</td>\n",
       "      <td>20</td>\n",
       "      <td>F</td>\n",
       "      <td>Thrissur</td>\n",
       "      <td>Thrissur</td>\n",
       "      <td>Kerala</td>\n",
       "      <td>Recovered</td>\n",
       "      <td>30</td>\n",
       "      <td>1</td>\n",
       "      <td>2020</td>\n",
       "    </tr>\n",
       "    <tr>\n",
       "      <th>20</th>\n",
       "      <td>1.0</td>\n",
       "      <td>04/03/2020</td>\n",
       "      <td>70</td>\n",
       "      <td>F</td>\n",
       "      <td>Jaipur</td>\n",
       "      <td>Italians</td>\n",
       "      <td>Rajasthan</td>\n",
       "      <td>Recovered</td>\n",
       "      <td>4</td>\n",
       "      <td>3</td>\n",
       "      <td>2020</td>\n",
       "    </tr>\n",
       "    <tr>\n",
       "      <th>22</th>\n",
       "      <td>1.0</td>\n",
       "      <td>04/03/2020</td>\n",
       "      <td>NaN</td>\n",
       "      <td>F</td>\n",
       "      <td>Agra</td>\n",
       "      <td>Agra</td>\n",
       "      <td>Uttar Pradesh</td>\n",
       "      <td>Recovered</td>\n",
       "      <td>4</td>\n",
       "      <td>3</td>\n",
       "      <td>2020</td>\n",
       "    </tr>\n",
       "    <tr>\n",
       "      <th>23</th>\n",
       "      <td>1.0</td>\n",
       "      <td>04/03/2020</td>\n",
       "      <td>45</td>\n",
       "      <td>F</td>\n",
       "      <td>Agra</td>\n",
       "      <td>Agra</td>\n",
       "      <td>Uttar Pradesh</td>\n",
       "      <td>Recovered</td>\n",
       "      <td>4</td>\n",
       "      <td>3</td>\n",
       "      <td>2020</td>\n",
       "    </tr>\n",
       "    <tr>\n",
       "      <th>36</th>\n",
       "      <td>1.0</td>\n",
       "      <td>08/03/2020</td>\n",
       "      <td>53</td>\n",
       "      <td>F</td>\n",
       "      <td>Ranni</td>\n",
       "      <td>Pathanamthitta</td>\n",
       "      <td>Kerala</td>\n",
       "      <td>Recovered</td>\n",
       "      <td>8</td>\n",
       "      <td>3</td>\n",
       "      <td>2020</td>\n",
       "    </tr>\n",
       "    <tr>\n",
       "      <th>...</th>\n",
       "      <td>...</td>\n",
       "      <td>...</td>\n",
       "      <td>...</td>\n",
       "      <td>...</td>\n",
       "      <td>...</td>\n",
       "      <td>...</td>\n",
       "      <td>...</td>\n",
       "      <td>...</td>\n",
       "      <td>...</td>\n",
       "      <td>...</td>\n",
       "      <td>...</td>\n",
       "    </tr>\n",
       "    <tr>\n",
       "      <th>145506</th>\n",
       "      <td>1.0</td>\n",
       "      <td>07/07/2020</td>\n",
       "      <td>21.0</td>\n",
       "      <td>F</td>\n",
       "      <td>NaN</td>\n",
       "      <td>Ballari</td>\n",
       "      <td>Karnataka</td>\n",
       "      <td>Hospitalized</td>\n",
       "      <td>7</td>\n",
       "      <td>7</td>\n",
       "      <td>2020</td>\n",
       "    </tr>\n",
       "    <tr>\n",
       "      <th>145507</th>\n",
       "      <td>1.0</td>\n",
       "      <td>07/07/2020</td>\n",
       "      <td>46.0</td>\n",
       "      <td>F</td>\n",
       "      <td>NaN</td>\n",
       "      <td>Ballari</td>\n",
       "      <td>Karnataka</td>\n",
       "      <td>Hospitalized</td>\n",
       "      <td>7</td>\n",
       "      <td>7</td>\n",
       "      <td>2020</td>\n",
       "    </tr>\n",
       "    <tr>\n",
       "      <th>145508</th>\n",
       "      <td>1.0</td>\n",
       "      <td>07/07/2020</td>\n",
       "      <td>15.0</td>\n",
       "      <td>F</td>\n",
       "      <td>NaN</td>\n",
       "      <td>Ballari</td>\n",
       "      <td>Karnataka</td>\n",
       "      <td>Hospitalized</td>\n",
       "      <td>7</td>\n",
       "      <td>7</td>\n",
       "      <td>2020</td>\n",
       "    </tr>\n",
       "    <tr>\n",
       "      <th>145512</th>\n",
       "      <td>1.0</td>\n",
       "      <td>07/07/2020</td>\n",
       "      <td>35.0</td>\n",
       "      <td>F</td>\n",
       "      <td>NaN</td>\n",
       "      <td>Yadgir</td>\n",
       "      <td>Karnataka</td>\n",
       "      <td>Hospitalized</td>\n",
       "      <td>7</td>\n",
       "      <td>7</td>\n",
       "      <td>2020</td>\n",
       "    </tr>\n",
       "    <tr>\n",
       "      <th>145517</th>\n",
       "      <td>1.0</td>\n",
       "      <td>07/07/2020</td>\n",
       "      <td>18.0</td>\n",
       "      <td>F</td>\n",
       "      <td>NaN</td>\n",
       "      <td>Yadgir</td>\n",
       "      <td>Karnataka</td>\n",
       "      <td>Hospitalized</td>\n",
       "      <td>7</td>\n",
       "      <td>7</td>\n",
       "      <td>2020</td>\n",
       "    </tr>\n",
       "  </tbody>\n",
       "</table>\n",
       "<p>20821 rows × 11 columns</p>\n",
       "</div>"
      ],
      "text/plain": [
       "        Num Cases Date Announced Age Bracket Gender Detected City  \\\n",
       "0             1.0     30/01/2020          20      F      Thrissur   \n",
       "20            1.0     04/03/2020          70      F        Jaipur   \n",
       "22            1.0     04/03/2020         NaN      F          Agra   \n",
       "23            1.0     04/03/2020          45      F          Agra   \n",
       "36            1.0     08/03/2020          53      F         Ranni   \n",
       "...           ...            ...         ...    ...           ...   \n",
       "145506        1.0     07/07/2020        21.0      F           NaN   \n",
       "145507        1.0     07/07/2020        46.0      F           NaN   \n",
       "145508        1.0     07/07/2020        15.0      F           NaN   \n",
       "145512        1.0     07/07/2020        35.0      F           NaN   \n",
       "145517        1.0     07/07/2020        18.0      F           NaN   \n",
       "\n",
       "       Detected District Detected State Current Status  Day  Month  Year  \n",
       "0               Thrissur         Kerala      Recovered   30      1  2020  \n",
       "20              Italians      Rajasthan      Recovered    4      3  2020  \n",
       "22                  Agra  Uttar Pradesh      Recovered    4      3  2020  \n",
       "23                  Agra  Uttar Pradesh      Recovered    4      3  2020  \n",
       "36        Pathanamthitta         Kerala      Recovered    8      3  2020  \n",
       "...                  ...            ...            ...  ...    ...   ...  \n",
       "145506           Ballari      Karnataka   Hospitalized    7      7  2020  \n",
       "145507           Ballari      Karnataka   Hospitalized    7      7  2020  \n",
       "145508           Ballari      Karnataka   Hospitalized    7      7  2020  \n",
       "145512            Yadgir      Karnataka   Hospitalized    7      7  2020  \n",
       "145517            Yadgir      Karnataka   Hospitalized    7      7  2020  \n",
       "\n",
       "[20821 rows x 11 columns]"
      ]
     },
     "execution_count": 16,
     "metadata": {},
     "output_type": "execute_result"
    }
   ],
   "source": [
    "data[data['Gender']=='F']"
   ]
  },
  {
   "cell_type": "markdown",
   "id": "5b1dda96",
   "metadata": {},
   "source": [
    "### Total female infected and no of cases\n"
   ]
  },
  {
   "cell_type": "code",
   "execution_count": 17,
   "id": "72ec3bb7",
   "metadata": {
    "scrolled": false
   },
   "outputs": [
    {
     "data": {
      "text/plain": [
       "Current Status\n",
       "Deceased            332.0\n",
       "Hospitalized      20444.0\n",
       "Migrated_Other        2.0\n",
       "Recovered           516.0\n",
       "Name: Num Cases, dtype: float64"
      ]
     },
     "execution_count": 17,
     "metadata": {},
     "output_type": "execute_result"
    }
   ],
   "source": [
    "female=data[data['Gender']=='F'].groupby('Current Status')['Num Cases'].sum()\n",
    "female"
   ]
  },
  {
   "cell_type": "markdown",
   "id": "75ed48dc",
   "metadata": {},
   "source": [
    "### Total male infected and no of cases\n"
   ]
  },
  {
   "cell_type": "code",
   "execution_count": 18,
   "id": "42a66380",
   "metadata": {},
   "outputs": [
    {
     "data": {
      "text/plain": [
       "Current Status\n",
       "Deceased            715.0\n",
       "Hospitalized      41201.0\n",
       "Migrated_Other        1.0\n",
       "Recovered           878.0\n",
       "Name: Num Cases, dtype: float64"
      ]
     },
     "execution_count": 18,
     "metadata": {},
     "output_type": "execute_result"
    }
   ],
   "source": [
    "male=data[data['Gender']=='M'].groupby('Current Status')['Num Cases'].sum()\n",
    "male"
   ]
  },
  {
   "cell_type": "code",
   "execution_count": 19,
   "id": "3d26d8c3",
   "metadata": {},
   "outputs": [
    {
     "data": {
      "image/png": "[encoded data removed]",
      "text/plain": [
       "<Figure size 576x360 with 1 Axes>"
      ]
     },
     "metadata": {
      "needs_background": "light"
     },
     "output_type": "display_data"
    }
   ],
   "source": [
    "plt.figure(figsize=(8,5))\n",
    "plt.plot(female,linewidth=4,label='F')\n",
    "plt.plot(male,linewidth=4,label='M')\n",
    "\n",
    "plt.grid(True,color='k')\n",
    "\n",
    "plt.title('Gender Wise Cases')\n",
    "plt.xlabel('Current Status')\n",
    "plt.ylabel('Number of Cases')\n",
    "plt.legend()\n",
    "\n",
    "plt.tight_layout()"
   ]
  },
  {
   "cell_type": "raw",
   "id": "557cb354",
   "metadata": {},
   "source": [
    "fig,axes=plt.subplots(nrows=1,ncols=2,figsize=(10,5))\n",
    "\n",
    "axes[0].plot(female,'r',marker='.')\n",
    "axes[1].plot(male,marker='.')\n",
    "\n",
    "plt.xlabel('Current Status')\n",
    "plt.ylabel('num cases')\n",
    "\n",
    "plt.tight_layout()"
   ]
  },
  {
   "cell_type": "code",
   "execution_count": 20,
   "id": "a7fe5a40",
   "metadata": {},
   "outputs": [
    {
     "data": {
      "text/plain": [
       "Gender\n",
       "F             21294.0\n",
       "M             42795.0\n",
       "M                 1.0\n",
       "Non-Binary       12.0\n",
       "Name: Num Cases, dtype: float64"
      ]
     },
     "execution_count": 20,
     "metadata": {},
     "output_type": "execute_result"
    }
   ],
   "source": [
    "# total male and female infected\n",
    "fm=data.groupby('Gender')['Num Cases'].sum()\n",
    "fm"
   ]
  },
  {
   "cell_type": "code",
   "execution_count": 21,
   "id": "f0e32825",
   "metadata": {},
   "outputs": [
    {
     "data": {
      "text/plain": [
       "<AxesSubplot:xlabel='Gender'>"
      ]
     },
     "execution_count": 21,
     "metadata": {},
     "output_type": "execute_result"
    },
    {
     "data": {
      "image/png": "[encoded data removed]",
      "text/plain": [
       "<Figure size 432x288 with 1 Axes>"
      ]
     },
     "metadata": {
      "needs_background": "light"
     },
     "output_type": "display_data"
    }
   ],
   "source": [
    "fm.plot(marker='.')"
   ]
  },
  {
   "cell_type": "markdown",
   "id": "272c5f02",
   "metadata": {},
   "source": [
    "### pie chart of males and females cases"
   ]
  },
  {
   "cell_type": "code",
   "execution_count": 22,
   "id": "e20cb20b",
   "metadata": {},
   "outputs": [
    {
     "data": {
      "image/png": "[encoded data removed]",
      "text/plain": [
       "<Figure size 432x288 with 1 Axes>"
      ]
     },
     "metadata": {},
     "output_type": "display_data"
    }
   ],
   "source": [
    "gen=data.groupby('Gender')['Num Cases'].sum()\n",
    "plt.pie(gen,labels=['Female','Male','M','NB'],autopct='%0.1f%%',shadow=True);\n",
    "plt.tight_layout()"
   ]
  },
  {
   "cell_type": "code",
   "execution_count": 113,
   "id": "7a429a34",
   "metadata": {},
   "outputs": [
    {
     "data": {
      "text/plain": [
       "Age Bracket\n",
       "30.0    1209.0\n",
       "40.0    1027.0\n",
       "25.0    1015.0\n",
       "35.0     992.0\n",
       "32.0     936.0\n",
       "45.0     893.0\n",
       "24.0     880.0\n",
       "28.0     858.0\n",
       "27.0     818.0\n",
       "26.0     810.0\n",
       "Name: Num Cases, dtype: float64"
      ]
     },
     "execution_count": 113,
     "metadata": {},
     "output_type": "execute_result"
    }
   ],
   "source": [
    "# age group is infected most\n",
    "n=data.groupby('Age Bracket')['Num Cases'].sum().sort_values(ascending=False).head(10)\n",
    "n"
   ]
  },
  {
   "cell_type": "code",
   "execution_count": 122,
   "id": "72991ae7",
   "metadata": {},
   "outputs": [
    {
     "data": {
      "image/png": "[encoded data removed]",
      "text/plain": [
       "<Figure size 576x360 with 1 Axes>"
      ]
     },
     "metadata": {
      "needs_background": "light"
     },
     "output_type": "display_data"
    }
   ],
   "source": [
    "n.plot(color='g',marker='.',figsize=(8,5))\n",
    "plt.xticks(np.arange(0,10,0.5))\n",
    "plt.grid()\n",
    "plt.tight_layout()\n",
    "plt.xlabel('Ages')\n",
    "plt.ylabel('Num Cases')\n",
    "plt.title('Age wise Covid Cases')\n",
    "plt.xticks(rotation=360);"
   ]
  },
  {
   "cell_type": "code",
   "execution_count": 120,
   "id": "a92089ae",
   "metadata": {
    "scrolled": false
   },
   "outputs": [
    {
     "data": {
      "image/png": "[encoded data removed]",
      "text/plain": [
       "<Figure size 576x360 with 1 Axes>"
      ]
     },
     "metadata": {
      "needs_background": "light"
     },
     "output_type": "display_data"
    }
   ],
   "source": [
    "n.plot.bar(color='y',figsize=(8,5))\n",
    "plt.xlabel('Ages')\n",
    "plt.ylabel('Num Cases')\n",
    "plt.xticks(rotation=360);"
   ]
  },
  {
   "cell_type": "code",
   "execution_count": 171,
   "id": "98ab3703",
   "metadata": {},
   "outputs": [
    {
     "data": {
      "text/plain": [
       "Detected State\n",
       "Haryana           31721.0\n",
       "Rajasthan         37781.0\n",
       "Karnataka         38135.0\n",
       "West Bengal       40306.0\n",
       "Telangana         43871.0\n",
       "Uttar Pradesh     50069.0\n",
       "Gujarat           65894.0\n",
       "Delhi            179282.0\n",
       "Tamil Nadu       190302.0\n",
       "Maharashtra      343418.0\n",
       "Name: Num Cases, dtype: float64"
      ]
     },
     "execution_count": 171,
     "metadata": {},
     "output_type": "execute_result"
    }
   ],
   "source": [
    "# state wise total cases\n",
    "st=data.groupby('Detected State')['Num Cases'].sum().sort_values(ascending=False).head(10)\n",
    "t=st\n",
    "g=t.sort_values(ascending=True)\n",
    "g   "
   ]
  },
  {
   "cell_type": "markdown",
   "id": "117a354c",
   "metadata": {},
   "source": [
    "### Use of barh i.e inverted form of bar chart\n",
    "    https://pandas.pydata.org/docs/reference/api/pandas.DataFrame.plot.barh.html"
   ]
  },
  {
   "cell_type": "code",
   "execution_count": 175,
   "id": "61a019d4",
   "metadata": {},
   "outputs": [
    {
     "data": {
      "image/png": "[encoded data removed]",
      "text/plain": [
       "<Figure size 720x432 with 1 Axes>"
      ]
     },
     "metadata": {
      "needs_background": "light"
     },
     "output_type": "display_data"
    }
   ],
   "source": [
    "g.plot.barh(figsize=(10,6),y='Detected State',color='c')\n",
    "plt.xlabel('Num cases')\n",
    "plt.title('State Wise Covid Cases')\n",
    "plt.grid()\n",
    "plt.tight_layout()\n",
    "plt.xticks(rotation=360);"
   ]
  },
  {
   "cell_type": "markdown",
   "id": "de763cb5",
   "metadata": {},
   "source": [
    "#### Find the top 5 states with total no. of Hospitalized cases "
   ]
  },
  {
   "cell_type": "code",
   "execution_count": 27,
   "id": "0f36d387",
   "metadata": {},
   "outputs": [
    {
     "data": {
      "text/plain": [
       "Detected State\n",
       "Maharashtra      217107.0\n",
       "Tamil Nadu       118587.0\n",
       "Delhi            102827.0\n",
       "Gujarat           37631.0\n",
       "Uttar Pradesh     29959.0\n",
       "Name: Num Cases, dtype: float64"
      ]
     },
     "execution_count": 27,
     "metadata": {},
     "output_type": "execute_result"
    }
   ],
   "source": [
    "# state wise total cases i.e hospitalized\n",
    "data[data['Current Status']=='Hospitalized'].groupby('Detected State')['Num Cases'].sum().sort_values(ascending=False).head(5)\n",
    "\n",
    "# so Maharashtra , Tamil Nadu top hospt cases"
   ]
  },
  {
   "cell_type": "code",
   "execution_count": 28,
   "id": "911d66ac",
   "metadata": {
    "scrolled": true
   },
   "outputs": [
    {
     "data": {
      "text/html": [
       "<div>\n",
       "<style scoped>\n",
       "    .dataframe tbody tr th:only-of-type {\n",
       "        vertical-align: middle;\n",
       "    }\n",
       "\n",
       "    .dataframe tbody tr th {\n",
       "        vertical-align: top;\n",
       "    }\n",
       "\n",
       "    .dataframe thead th {\n",
       "        text-align: right;\n",
       "    }\n",
       "</style>\n",
       "<table border=\"1\" class=\"dataframe\">\n",
       "  <thead>\n",
       "    <tr style=\"text-align: right;\">\n",
       "      <th></th>\n",
       "      <th>Num Cases</th>\n",
       "      <th>Date Announced</th>\n",
       "      <th>Age Bracket</th>\n",
       "      <th>Gender</th>\n",
       "      <th>Detected City</th>\n",
       "      <th>Detected District</th>\n",
       "      <th>Detected State</th>\n",
       "      <th>Current Status</th>\n",
       "      <th>Day</th>\n",
       "      <th>Month</th>\n",
       "      <th>Year</th>\n",
       "    </tr>\n",
       "  </thead>\n",
       "  <tbody>\n",
       "    <tr>\n",
       "      <th>0</th>\n",
       "      <td>1.0</td>\n",
       "      <td>30/01/2020</td>\n",
       "      <td>20</td>\n",
       "      <td>F</td>\n",
       "      <td>Thrissur</td>\n",
       "      <td>Thrissur</td>\n",
       "      <td>Kerala</td>\n",
       "      <td>Recovered</td>\n",
       "      <td>30</td>\n",
       "      <td>1</td>\n",
       "      <td>2020</td>\n",
       "    </tr>\n",
       "    <tr>\n",
       "      <th>1</th>\n",
       "      <td>1.0</td>\n",
       "      <td>02/02/2020</td>\n",
       "      <td>NaN</td>\n",
       "      <td>NaN</td>\n",
       "      <td>Alappuzha</td>\n",
       "      <td>Alappuzha</td>\n",
       "      <td>Kerala</td>\n",
       "      <td>Recovered</td>\n",
       "      <td>2</td>\n",
       "      <td>2</td>\n",
       "      <td>2020</td>\n",
       "    </tr>\n",
       "    <tr>\n",
       "      <th>2</th>\n",
       "      <td>1.0</td>\n",
       "      <td>03/02/2020</td>\n",
       "      <td>NaN</td>\n",
       "      <td>NaN</td>\n",
       "      <td>Kasaragod</td>\n",
       "      <td>Kasaragod</td>\n",
       "      <td>Kerala</td>\n",
       "      <td>Recovered</td>\n",
       "      <td>3</td>\n",
       "      <td>2</td>\n",
       "      <td>2020</td>\n",
       "    </tr>\n",
       "    <tr>\n",
       "      <th>3</th>\n",
       "      <td>1.0</td>\n",
       "      <td>02/03/2020</td>\n",
       "      <td>45</td>\n",
       "      <td>M</td>\n",
       "      <td>East Delhi (Mayur Vihar)</td>\n",
       "      <td>East Delhi</td>\n",
       "      <td>Delhi</td>\n",
       "      <td>Recovered</td>\n",
       "      <td>2</td>\n",
       "      <td>3</td>\n",
       "      <td>2020</td>\n",
       "    </tr>\n",
       "    <tr>\n",
       "      <th>4</th>\n",
       "      <td>1.0</td>\n",
       "      <td>02/03/2020</td>\n",
       "      <td>24</td>\n",
       "      <td>M</td>\n",
       "      <td>Hyderabad</td>\n",
       "      <td>Hyderabad</td>\n",
       "      <td>Telangana</td>\n",
       "      <td>Recovered</td>\n",
       "      <td>2</td>\n",
       "      <td>3</td>\n",
       "      <td>2020</td>\n",
       "    </tr>\n",
       "  </tbody>\n",
       "</table>\n",
       "</div>"
      ],
      "text/plain": [
       "   Num Cases Date Announced Age Bracket Gender             Detected City  \\\n",
       "0        1.0     30/01/2020          20      F                  Thrissur   \n",
       "1        1.0     02/02/2020         NaN    NaN                 Alappuzha   \n",
       "2        1.0     03/02/2020         NaN    NaN                 Kasaragod   \n",
       "3        1.0     02/03/2020          45      M  East Delhi (Mayur Vihar)   \n",
       "4        1.0     02/03/2020          24      M                 Hyderabad   \n",
       "\n",
       "  Detected District Detected State Current Status  Day  Month  Year  \n",
       "0          Thrissur         Kerala      Recovered   30      1  2020  \n",
       "1         Alappuzha         Kerala      Recovered    2      2  2020  \n",
       "2         Kasaragod         Kerala      Recovered    3      2  2020  \n",
       "3        East Delhi          Delhi      Recovered    2      3  2020  \n",
       "4         Hyderabad      Telangana      Recovered    2      3  2020  "
      ]
     },
     "execution_count": 28,
     "metadata": {},
     "output_type": "execute_result"
    }
   ],
   "source": [
    "# how many cases everyday\n",
    "data.head()"
   ]
  },
  {
   "cell_type": "markdown",
   "id": "54ba04f0",
   "metadata": {},
   "source": [
    "### Every Day Hospitalized Cases  (IMP) ✨"
   ]
  },
  {
   "cell_type": "code",
   "execution_count": 29,
   "id": "c4b44668",
   "metadata": {
    "scrolled": false
   },
   "outputs": [
    {
     "data": {
      "text/html": [
       "<div>\n",
       "<style scoped>\n",
       "    .dataframe tbody tr th:only-of-type {\n",
       "        vertical-align: middle;\n",
       "    }\n",
       "\n",
       "    .dataframe tbody tr th {\n",
       "        vertical-align: top;\n",
       "    }\n",
       "\n",
       "    .dataframe thead th {\n",
       "        text-align: right;\n",
       "    }\n",
       "</style>\n",
       "<table border=\"1\" class=\"dataframe\">\n",
       "  <thead>\n",
       "    <tr style=\"text-align: right;\">\n",
       "      <th></th>\n",
       "      <th></th>\n",
       "      <th>Num Cases</th>\n",
       "    </tr>\n",
       "    <tr>\n",
       "      <th>Month</th>\n",
       "      <th>Day</th>\n",
       "      <th></th>\n",
       "    </tr>\n",
       "  </thead>\n",
       "  <tbody>\n",
       "    <tr>\n",
       "      <th rowspan=\"10\" valign=\"top\">3</th>\n",
       "      <th>4</th>\n",
       "      <td>5.0</td>\n",
       "    </tr>\n",
       "    <tr>\n",
       "      <th>5</th>\n",
       "      <td>1.0</td>\n",
       "    </tr>\n",
       "    <tr>\n",
       "      <th>7</th>\n",
       "      <td>2.0</td>\n",
       "    </tr>\n",
       "    <tr>\n",
       "      <th>9</th>\n",
       "      <td>4.0</td>\n",
       "    </tr>\n",
       "    <tr>\n",
       "      <th>10</th>\n",
       "      <td>4.0</td>\n",
       "    </tr>\n",
       "    <tr>\n",
       "      <th>11</th>\n",
       "      <td>8.0</td>\n",
       "    </tr>\n",
       "    <tr>\n",
       "      <th>12</th>\n",
       "      <td>4.0</td>\n",
       "    </tr>\n",
       "    <tr>\n",
       "      <th>13</th>\n",
       "      <td>6.0</td>\n",
       "    </tr>\n",
       "    <tr>\n",
       "      <th>14</th>\n",
       "      <td>11.0</td>\n",
       "    </tr>\n",
       "    <tr>\n",
       "      <th>15</th>\n",
       "      <td>8.0</td>\n",
       "    </tr>\n",
       "  </tbody>\n",
       "</table>\n",
       "</div>"
      ],
      "text/plain": [
       "           Num Cases\n",
       "Month Day           \n",
       "3     4          5.0\n",
       "      5          1.0\n",
       "      7          2.0\n",
       "      9          4.0\n",
       "      10         4.0\n",
       "      11         8.0\n",
       "      12         4.0\n",
       "      13         6.0\n",
       "      14        11.0\n",
       "      15         8.0"
      ]
     },
     "execution_count": 29,
     "metadata": {},
     "output_type": "execute_result"
    }
   ],
   "source": [
    "                                            # because first comes month then days\n",
    "data[data['Current Status']=='Hospitalized'].groupby(['Month','Day'])[['Num Cases']].sum().head(10)"
   ]
  },
  {
   "cell_type": "code",
   "execution_count": 30,
   "id": "3fa7e3e3",
   "metadata": {},
   "outputs": [
    {
     "data": {
      "text/plain": [
       "Text(47.125, 0.5, 'Cases')"
      ]
     },
     "execution_count": 30,
     "metadata": {},
     "output_type": "execute_result"
    },
    {
     "data": {
      "image/png": "[encoded data removed]",
      "text/plain": [
       "<Figure size 720x720 with 5 Axes>"
      ]
     },
     "metadata": {
      "needs_background": "light"
     },
     "output_type": "display_data"
    }
   ],
   "source": [
    "# in bar graphs \n",
    "h=data[data['Current Status']=='Hospitalized'].groupby(['Month','Day'])[['Num Cases']].sum()\n",
    "h.unstack(level=0).plot(subplots=True,kind='bar',figsize=(10,10))\n",
    "\n",
    "plt.tight_layout()\n",
    "\n",
    "plt.xlabel('Days')\n",
    "plt.ylabel('Cases')"
   ]
  },
  {
   "cell_type": "markdown",
   "id": "afb706be",
   "metadata": {},
   "source": [
    "### Total no. of deaths state wise"
   ]
  },
  {
   "cell_type": "code",
   "execution_count": 31,
   "id": "4ef5b5c4",
   "metadata": {
    "scrolled": true
   },
   "outputs": [
    {
     "data": {
      "text/plain": [
       "Detected State\n",
       "Maharashtra      8919.0\n",
       "Delhi            3112.0\n",
       "Gujarat          1831.0\n",
       "Tamil Nadu       1613.0\n",
       "Uttar Pradesh     798.0\n",
       "Name: Num Cases, dtype: float64"
      ]
     },
     "execution_count": 31,
     "metadata": {},
     "output_type": "execute_result"
    }
   ],
   "source": [
    "# no. of deaths by state wise\n",
    "d=data[data['Current Status']=='Deceased'].groupby('Detected State')['Num Cases'].sum().sort_values(ascending=False).head(5)\n",
    "d\n",
    "\n",
    "# so Mahra,delhi,gujra highest deaths"
   ]
  },
  {
   "cell_type": "markdown",
   "id": "832b899e",
   "metadata": {},
   "source": [
    "### for same code as Above pltotting"
   ]
  },
  {
   "cell_type": "code",
   "execution_count": 186,
   "id": "6365ada9",
   "metadata": {},
   "outputs": [
    {
     "data": {
      "text/plain": [
       "Text(0.5, 1.0, 'State wise covid Deaths')"
      ]
     },
     "execution_count": 186,
     "metadata": {},
     "output_type": "execute_result"
    },
    {
     "data": {
      "image/png": "[encoded data removed]",
      "text/plain": [
       "<Figure size 720x360 with 1 Axes>"
      ]
     },
     "metadata": {
      "needs_background": "light"
     },
     "output_type": "display_data"
    }
   ],
   "source": [
    "# no. of deaths by state wise\n",
    "death_state_wise=data[data['Current Status']=='Deceased'].groupby('Detected State')['Num Cases'].sum().sort_values(ascending=False).head(6)\n",
    "\n",
    "death_state_wise.plot(color='m',marker='.',figsize=(10,5))\n",
    "\n",
    "plt.xticks(rotation=360) # here it rotates the xlabels to degree\n",
    "plt.grid(True,color='k')\n",
    "plt.ylabel('Deceased Cases')\n",
    "plt.tight_layout()\n",
    "plt.title('State wise covid Deaths')\n",
    "\n",
    "# same as above"
   ]
  },
  {
   "cell_type": "markdown",
   "id": "8cba282b",
   "metadata": {},
   "source": [
    "### Practice more below"
   ]
  },
  {
   "cell_type": "markdown",
   "id": "a4ffd78f",
   "metadata": {},
   "source": [
    "### 1st - Ploting the curve on graph"
   ]
  },
  {
   "cell_type": "code",
   "execution_count": 33,
   "id": "a6a51eae",
   "metadata": {},
   "outputs": [
    {
     "data": {
      "text/plain": [
       "Month\n",
       "1         1.0\n",
       "2         2.0\n",
       "3      1635.0\n",
       "4     36078.0\n",
       "5    242853.0\n",
       "6    663178.0\n",
       "7    270185.0\n",
       "Name: Num Cases, dtype: float64"
      ]
     },
     "execution_count": 33,
     "metadata": {},
     "output_type": "execute_result"
    }
   ],
   "source": [
    "# no. of cases per month\n",
    "data.groupby('Month')['Num Cases'].sum()"
   ]
  },
  {
   "cell_type": "code",
   "execution_count": 34,
   "id": "34559f89",
   "metadata": {},
   "outputs": [
    {
     "data": {
      "text/plain": [
       "Text(0, 0.5, 'Covid cases')"
      ]
     },
     "execution_count": 34,
     "metadata": {},
     "output_type": "execute_result"
    },
    {
     "data": {
      "image/png": "[encoded data removed]",
      "text/plain": [
       "<Figure size 432x288 with 1 Axes>"
      ]
     },
     "metadata": {
      "needs_background": "light"
     },
     "output_type": "display_data"
    }
   ],
   "source": [
    "data.groupby('Month')['Num Cases'].sum().plot(marker='.')\n",
    "plt.ylabel('Covid cases')"
   ]
  },
  {
   "cell_type": "markdown",
   "id": "391e3f25",
   "metadata": {},
   "source": [
    "### lineplots by states"
   ]
  },
  {
   "cell_type": "code",
   "execution_count": 35,
   "id": "d89dbfce",
   "metadata": {},
   "outputs": [
    {
     "data": {
      "text/html": [
       "<div>\n",
       "<style scoped>\n",
       "    .dataframe tbody tr th:only-of-type {\n",
       "        vertical-align: middle;\n",
       "    }\n",
       "\n",
       "    .dataframe tbody tr th {\n",
       "        vertical-align: top;\n",
       "    }\n",
       "\n",
       "    .dataframe thead th {\n",
       "        text-align: right;\n",
       "    }\n",
       "</style>\n",
       "<table border=\"1\" class=\"dataframe\">\n",
       "  <thead>\n",
       "    <tr style=\"text-align: right;\">\n",
       "      <th></th>\n",
       "      <th>Num Cases</th>\n",
       "      <th>Date Announced</th>\n",
       "      <th>Age Bracket</th>\n",
       "      <th>Gender</th>\n",
       "      <th>Detected City</th>\n",
       "      <th>Detected District</th>\n",
       "      <th>Detected State</th>\n",
       "      <th>Current Status</th>\n",
       "      <th>Day</th>\n",
       "      <th>Month</th>\n",
       "      <th>Year</th>\n",
       "    </tr>\n",
       "  </thead>\n",
       "  <tbody>\n",
       "    <tr>\n",
       "      <th>0</th>\n",
       "      <td>1.0</td>\n",
       "      <td>30/01/2020</td>\n",
       "      <td>20</td>\n",
       "      <td>F</td>\n",
       "      <td>Thrissur</td>\n",
       "      <td>Thrissur</td>\n",
       "      <td>Kerala</td>\n",
       "      <td>Recovered</td>\n",
       "      <td>30</td>\n",
       "      <td>1</td>\n",
       "      <td>2020</td>\n",
       "    </tr>\n",
       "    <tr>\n",
       "      <th>1</th>\n",
       "      <td>1.0</td>\n",
       "      <td>02/02/2020</td>\n",
       "      <td>NaN</td>\n",
       "      <td>NaN</td>\n",
       "      <td>Alappuzha</td>\n",
       "      <td>Alappuzha</td>\n",
       "      <td>Kerala</td>\n",
       "      <td>Recovered</td>\n",
       "      <td>2</td>\n",
       "      <td>2</td>\n",
       "      <td>2020</td>\n",
       "    </tr>\n",
       "    <tr>\n",
       "      <th>2</th>\n",
       "      <td>1.0</td>\n",
       "      <td>03/02/2020</td>\n",
       "      <td>NaN</td>\n",
       "      <td>NaN</td>\n",
       "      <td>Kasaragod</td>\n",
       "      <td>Kasaragod</td>\n",
       "      <td>Kerala</td>\n",
       "      <td>Recovered</td>\n",
       "      <td>3</td>\n",
       "      <td>2</td>\n",
       "      <td>2020</td>\n",
       "    </tr>\n",
       "    <tr>\n",
       "      <th>3</th>\n",
       "      <td>1.0</td>\n",
       "      <td>02/03/2020</td>\n",
       "      <td>45</td>\n",
       "      <td>M</td>\n",
       "      <td>East Delhi (Mayur Vihar)</td>\n",
       "      <td>East Delhi</td>\n",
       "      <td>Delhi</td>\n",
       "      <td>Recovered</td>\n",
       "      <td>2</td>\n",
       "      <td>3</td>\n",
       "      <td>2020</td>\n",
       "    </tr>\n",
       "    <tr>\n",
       "      <th>4</th>\n",
       "      <td>1.0</td>\n",
       "      <td>02/03/2020</td>\n",
       "      <td>24</td>\n",
       "      <td>M</td>\n",
       "      <td>Hyderabad</td>\n",
       "      <td>Hyderabad</td>\n",
       "      <td>Telangana</td>\n",
       "      <td>Recovered</td>\n",
       "      <td>2</td>\n",
       "      <td>3</td>\n",
       "      <td>2020</td>\n",
       "    </tr>\n",
       "  </tbody>\n",
       "</table>\n",
       "</div>"
      ],
      "text/plain": [
       "   Num Cases Date Announced Age Bracket Gender             Detected City  \\\n",
       "0        1.0     30/01/2020          20      F                  Thrissur   \n",
       "1        1.0     02/02/2020         NaN    NaN                 Alappuzha   \n",
       "2        1.0     03/02/2020         NaN    NaN                 Kasaragod   \n",
       "3        1.0     02/03/2020          45      M  East Delhi (Mayur Vihar)   \n",
       "4        1.0     02/03/2020          24      M                 Hyderabad   \n",
       "\n",
       "  Detected District Detected State Current Status  Day  Month  Year  \n",
       "0          Thrissur         Kerala      Recovered   30      1  2020  \n",
       "1         Alappuzha         Kerala      Recovered    2      2  2020  \n",
       "2         Kasaragod         Kerala      Recovered    3      2  2020  \n",
       "3        East Delhi          Delhi      Recovered    2      3  2020  \n",
       "4         Hyderabad      Telangana      Recovered    2      3  2020  "
      ]
     },
     "execution_count": 35,
     "metadata": {},
     "output_type": "execute_result"
    }
   ],
   "source": [
    "data.head()"
   ]
  },
  {
   "cell_type": "markdown",
   "id": "97ca0e15",
   "metadata": {},
   "source": [
    "### State wise cases"
   ]
  },
  {
   "cell_type": "code",
   "execution_count": 36,
   "id": "29e0e0ce",
   "metadata": {},
   "outputs": [
    {
     "data": {
      "text/plain": [
       "Detected State\n",
       "Maharashtra    343418.0\n",
       "Tamil Nadu     190302.0\n",
       "Name: Num Cases, dtype: float64"
      ]
     },
     "execution_count": 36,
     "metadata": {},
     "output_type": "execute_result"
    }
   ],
   "source": [
    "data.groupby('Detected State')['Num Cases'].sum().sort_values(ascending=False).head(2)"
   ]
  },
  {
   "cell_type": "code",
   "execution_count": 37,
   "id": "523cbf1a",
   "metadata": {},
   "outputs": [
    {
     "data": {
      "text/plain": [
       "<matplotlib.legend.Legend at 0x280e9863e20>"
      ]
     },
     "execution_count": 37,
     "metadata": {},
     "output_type": "execute_result"
    },
    {
     "data": {
      "image/png": "[encoded data removed]",
      "text/plain": [
       "<Figure size 648x432 with 1 Axes>"
      ]
     },
     "metadata": {
      "needs_background": "light"
     },
     "output_type": "display_data"
    }
   ],
   "source": [
    "data[data['Detected State']=='Maharashtra'].groupby('Month')['Num Cases'].sum().plot(figsize=(9,6),label='M',marker='.')\n",
    "data[data['Detected State']=='Karnataka'].groupby('Month')['Num Cases'].sum().plot(label='K',marker='.')\n",
    "data[data['Detected State']=='Delhi'].groupby('Month')['Num Cases'].sum().plot(label='D',marker='.')\n",
    "data[data['Detected State']=='Gujarat'].groupby('Month')['Num Cases'].sum().plot(label='G',marker='.')\n",
    "data[data['Detected State']=='Uttar Pradesh'].groupby('Month')['Num Cases'].sum().plot(label='UP',marker='.')\n",
    "data[data['Detected State']=='Tamil Nadu'].groupby('Month')['Num Cases'].sum().plot(label='TN',marker='.')\n",
    "\n",
    "\n",
    "plt.ylabel('Num Cases')\n",
    "plt.legend(loc=2)"
   ]
  },
  {
   "cell_type": "code",
   "execution_count": 38,
   "id": "7510a29e",
   "metadata": {},
   "outputs": [
    {
     "data": {
      "text/plain": [
       "array(['Kerala', 'Delhi', 'Telangana', 'Rajasthan', 'Haryana',\n",
       "       'Uttar Pradesh', 'Ladakh', 'Tamil Nadu', 'Jammu and Kashmir',\n",
       "       'Karnataka', 'Maharashtra', 'Punjab', 'Andhra Pradesh',\n",
       "       'Uttarakhand', 'Odisha', 'Puducherry', 'West Bengal', 'Chandigarh',\n",
       "       'Chhattisgarh', 'Gujarat', 'Himachal Pradesh', 'Madhya Pradesh',\n",
       "       'Bihar', 'Manipur', 'Mizoram', 'Goa',\n",
       "       'Andaman and Nicobar Islands', 'Jharkhand', 'Assam',\n",
       "       'Arunachal Pradesh', nan, 'Tripura', 'Meghalaya',\n",
       "       'Dadra and Nagar Haveli and Daman and Diu', 'State Unassigned',\n",
       "       'Sikkim', 'Nagaland'], dtype=object)"
      ]
     },
     "execution_count": 38,
     "metadata": {},
     "output_type": "execute_result"
    }
   ],
   "source": [
    "data['Detected State'].unique()"
   ]
  },
  {
   "cell_type": "code",
   "execution_count": 180,
   "id": "36393007",
   "metadata": {},
   "outputs": [
    {
     "data": {
      "image/png": "[encoded data removed]",
      "text/plain": [
       "<Figure size 864x576 with 1 Axes>"
      ]
     },
     "metadata": {
      "needs_background": "light"
     },
     "output_type": "display_data"
    }
   ],
   "source": [
    "data.groupby('Detected State')['Num Cases'].sum().sort_values(ascending=False).head(20).plot.bar(figsize=(12,8),color=['r','g','b','y','c','m'])\n",
    "                              ### ******** imp ***********                                       # changing bar colors.\n",
    "plt.ylabel('Num Cases')\n",
    "plt.tight_layout()\n",
    "\n",
    "plt.xticks(rotation=40);"
   ]
  },
  {
   "cell_type": "code",
   "execution_count": null,
   "id": "c9d1a10d",
   "metadata": {},
   "outputs": [],
   "source": []
  }
 ],
 "metadata": {
  "kernelspec": {
   "display_name": "Python 3 (ipykernel)",
   "language": "python",
   "name": "python3"
  },
  "language_info": {
   "codemirror_mode": {
    "name": "ipython",
    "version": 3
   },
   "file_extension": ".py",
   "mimetype": "text/x-python",
   "name": "python",
   "nbconvert_exporter": "python",
   "pygments_lexer": "ipython3",
   "version": "3.9.7"
  }
 },
 "nbformat": 4,
 "nbformat_minor": 5
}
