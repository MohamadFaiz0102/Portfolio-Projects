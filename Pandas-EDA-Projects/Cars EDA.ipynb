{
 "cells": [
  {
   "cell_type": "markdown",
   "id": "997c3e2b",
   "metadata": {},
   "source": [
    "## A simple EDA on cars dataset"
   ]
  },
  {
   "cell_type": "markdown",
   "id": "994a129d",
   "metadata": {},
   "source": [
    "- **LinkedIn** - https://www.linkedin.com/in/-mohamad-ehthesham/overlay/contact-info/\n",
    "\n",
    "- **GitHub** - https://github.com/MohamadFaiz0102"
   ]
  },
  {
   "cell_type": "code",
   "execution_count": 2,
   "id": "b3aacc7e",
   "metadata": {},
   "outputs": [],
   "source": [
    "import pandas as pd\n",
    "\n",
    "import matplotlib.pyplot as plt\n",
    "import seaborn as sns\n",
    "\n",
    "%matplotlib inline"
   ]
  },
  {
   "cell_type": "code",
   "execution_count": 116,
   "id": "e184a5c5",
   "metadata": {},
   "outputs": [],
   "source": [
    "cars=pd.read_csv('Cars Data.csv')"
   ]
  },
  {
   "cell_type": "code",
   "execution_count": 117,
   "id": "07b5bf5e",
   "metadata": {},
   "outputs": [
    {
     "data": {
      "text/html": [
       "<div>\n",
       "<style scoped>\n",
       "    .dataframe tbody tr th:only-of-type {\n",
       "        vertical-align: middle;\n",
       "    }\n",
       "\n",
       "    .dataframe tbody tr th {\n",
       "        vertical-align: top;\n",
       "    }\n",
       "\n",
       "    .dataframe thead th {\n",
       "        text-align: right;\n",
       "    }\n",
       "</style>\n",
       "<table border=\"1\" class=\"dataframe\">\n",
       "  <thead>\n",
       "    <tr style=\"text-align: right;\">\n",
       "      <th></th>\n",
       "      <th>Make</th>\n",
       "      <th>Model</th>\n",
       "      <th>Type</th>\n",
       "      <th>Origin</th>\n",
       "      <th>DriveTrain</th>\n",
       "      <th>MSRP</th>\n",
       "      <th>Invoice</th>\n",
       "      <th>EngineSize</th>\n",
       "      <th>Cylinders</th>\n",
       "      <th>Horsepower</th>\n",
       "      <th>MPG_City</th>\n",
       "      <th>MPG_Highway</th>\n",
       "      <th>Weight</th>\n",
       "      <th>Wheelbase</th>\n",
       "      <th>Length</th>\n",
       "    </tr>\n",
       "  </thead>\n",
       "  <tbody>\n",
       "    <tr>\n",
       "      <th>0</th>\n",
       "      <td>Acura</td>\n",
       "      <td>MDX</td>\n",
       "      <td>SUV</td>\n",
       "      <td>Asia</td>\n",
       "      <td>All</td>\n",
       "      <td>$36,945</td>\n",
       "      <td>$33,337</td>\n",
       "      <td>3.5</td>\n",
       "      <td>6.0</td>\n",
       "      <td>265</td>\n",
       "      <td>17</td>\n",
       "      <td>23</td>\n",
       "      <td>4451</td>\n",
       "      <td>106</td>\n",
       "      <td>189</td>\n",
       "    </tr>\n",
       "    <tr>\n",
       "      <th>1</th>\n",
       "      <td>Acura</td>\n",
       "      <td>RSX Type S 2dr</td>\n",
       "      <td>Sedan</td>\n",
       "      <td>Asia</td>\n",
       "      <td>Front</td>\n",
       "      <td>$23,820</td>\n",
       "      <td>$21,761</td>\n",
       "      <td>2.0</td>\n",
       "      <td>4.0</td>\n",
       "      <td>200</td>\n",
       "      <td>24</td>\n",
       "      <td>31</td>\n",
       "      <td>2778</td>\n",
       "      <td>101</td>\n",
       "      <td>172</td>\n",
       "    </tr>\n",
       "    <tr>\n",
       "      <th>2</th>\n",
       "      <td>Acura</td>\n",
       "      <td>TSX 4dr</td>\n",
       "      <td>Sedan</td>\n",
       "      <td>Asia</td>\n",
       "      <td>Front</td>\n",
       "      <td>$26,990</td>\n",
       "      <td>$24,647</td>\n",
       "      <td>2.4</td>\n",
       "      <td>4.0</td>\n",
       "      <td>200</td>\n",
       "      <td>22</td>\n",
       "      <td>29</td>\n",
       "      <td>3230</td>\n",
       "      <td>105</td>\n",
       "      <td>183</td>\n",
       "    </tr>\n",
       "    <tr>\n",
       "      <th>3</th>\n",
       "      <td>Acura</td>\n",
       "      <td>TL 4dr</td>\n",
       "      <td>Sedan</td>\n",
       "      <td>Asia</td>\n",
       "      <td>Front</td>\n",
       "      <td>$33,195</td>\n",
       "      <td>$30,299</td>\n",
       "      <td>3.2</td>\n",
       "      <td>6.0</td>\n",
       "      <td>270</td>\n",
       "      <td>20</td>\n",
       "      <td>28</td>\n",
       "      <td>3575</td>\n",
       "      <td>108</td>\n",
       "      <td>186</td>\n",
       "    </tr>\n",
       "    <tr>\n",
       "      <th>4</th>\n",
       "      <td>Acura</td>\n",
       "      <td>3.5 RL 4dr</td>\n",
       "      <td>Sedan</td>\n",
       "      <td>Asia</td>\n",
       "      <td>Front</td>\n",
       "      <td>$43,755</td>\n",
       "      <td>$39,014</td>\n",
       "      <td>3.5</td>\n",
       "      <td>6.0</td>\n",
       "      <td>225</td>\n",
       "      <td>18</td>\n",
       "      <td>24</td>\n",
       "      <td>3880</td>\n",
       "      <td>115</td>\n",
       "      <td>197</td>\n",
       "    </tr>\n",
       "  </tbody>\n",
       "</table>\n",
       "</div>"
      ],
      "text/plain": [
       "    Make           Model   Type Origin DriveTrain     MSRP  Invoice  \\\n",
       "0  Acura             MDX    SUV   Asia        All  $36,945  $33,337   \n",
       "1  Acura  RSX Type S 2dr  Sedan   Asia      Front  $23,820  $21,761   \n",
       "2  Acura         TSX 4dr  Sedan   Asia      Front  $26,990  $24,647   \n",
       "3  Acura          TL 4dr  Sedan   Asia      Front  $33,195  $30,299   \n",
       "4  Acura      3.5 RL 4dr  Sedan   Asia      Front  $43,755  $39,014   \n",
       "\n",
       "   EngineSize  Cylinders  Horsepower  MPG_City  MPG_Highway  Weight  \\\n",
       "0         3.5        6.0         265        17           23    4451   \n",
       "1         2.0        4.0         200        24           31    2778   \n",
       "2         2.4        4.0         200        22           29    3230   \n",
       "3         3.2        6.0         270        20           28    3575   \n",
       "4         3.5        6.0         225        18           24    3880   \n",
       "\n",
       "   Wheelbase  Length  \n",
       "0        106     189  \n",
       "1        101     172  \n",
       "2        105     183  \n",
       "3        108     186  \n",
       "4        115     197  "
      ]
     },
     "execution_count": 117,
     "metadata": {},
     "output_type": "execute_result"
    }
   ],
   "source": [
    "cars.head()"
   ]
  },
  {
   "cell_type": "markdown",
   "id": "7d5e5f87",
   "metadata": {},
   "source": [
    "- **MSRP**- Manufacturers suggested retail price\n",
    "- **Invoice**- An invoice is a request for payment, An invoice is issued before payment as a way of requesting compensation \n",
    "for goods or services\n",
    "- **MPG_city** - miles per gallon in city\n",
    "- **MPG_highway** - miles per gallon in highway"
   ]
  },
  {
   "cell_type": "code",
   "execution_count": 118,
   "id": "60fe6fbe",
   "metadata": {
    "scrolled": false
   },
   "outputs": [
    {
     "name": "stdout",
     "output_type": "stream",
     "text": [
      "<class 'pandas.core.frame.DataFrame'>\n",
      "RangeIndex: 428 entries, 0 to 427\n",
      "Data columns (total 15 columns):\n",
      " #   Column       Non-Null Count  Dtype  \n",
      "---  ------       --------------  -----  \n",
      " 0   Make         428 non-null    object \n",
      " 1   Model        428 non-null    object \n",
      " 2   Type         428 non-null    object \n",
      " 3   Origin       428 non-null    object \n",
      " 4   DriveTrain   428 non-null    object \n",
      " 5   MSRP         428 non-null    object \n",
      " 6   Invoice      428 non-null    object \n",
      " 7   EngineSize   428 non-null    float64\n",
      " 8   Cylinders    426 non-null    float64\n",
      " 9   Horsepower   428 non-null    int64  \n",
      " 10  MPG_City     428 non-null    int64  \n",
      " 11  MPG_Highway  428 non-null    int64  \n",
      " 12  Weight       428 non-null    int64  \n",
      " 13  Wheelbase    428 non-null    int64  \n",
      " 14  Length       428 non-null    int64  \n",
      "dtypes: float64(2), int64(6), object(7)\n",
      "memory usage: 50.3+ KB\n"
     ]
    }
   ],
   "source": [
    "cars.info()"
   ]
  },
  {
   "cell_type": "code",
   "execution_count": 119,
   "id": "3fe7e27f",
   "metadata": {},
   "outputs": [
    {
     "data": {
      "text/html": [
       "<div>\n",
       "<style scoped>\n",
       "    .dataframe tbody tr th:only-of-type {\n",
       "        vertical-align: middle;\n",
       "    }\n",
       "\n",
       "    .dataframe tbody tr th {\n",
       "        vertical-align: top;\n",
       "    }\n",
       "\n",
       "    .dataframe thead th {\n",
       "        text-align: right;\n",
       "    }\n",
       "</style>\n",
       "<table border=\"1\" class=\"dataframe\">\n",
       "  <thead>\n",
       "    <tr style=\"text-align: right;\">\n",
       "      <th></th>\n",
       "      <th>EngineSize</th>\n",
       "      <th>Cylinders</th>\n",
       "      <th>Horsepower</th>\n",
       "      <th>MPG_City</th>\n",
       "      <th>MPG_Highway</th>\n",
       "      <th>Weight</th>\n",
       "      <th>Wheelbase</th>\n",
       "      <th>Length</th>\n",
       "    </tr>\n",
       "  </thead>\n",
       "  <tbody>\n",
       "    <tr>\n",
       "      <th>count</th>\n",
       "      <td>428.000000</td>\n",
       "      <td>426.000000</td>\n",
       "      <td>428.000000</td>\n",
       "      <td>428.000000</td>\n",
       "      <td>428.000000</td>\n",
       "      <td>428.000000</td>\n",
       "      <td>428.000000</td>\n",
       "      <td>428.000000</td>\n",
       "    </tr>\n",
       "    <tr>\n",
       "      <th>mean</th>\n",
       "      <td>3.196729</td>\n",
       "      <td>5.807512</td>\n",
       "      <td>215.885514</td>\n",
       "      <td>20.060748</td>\n",
       "      <td>26.843458</td>\n",
       "      <td>3577.953271</td>\n",
       "      <td>108.154206</td>\n",
       "      <td>186.362150</td>\n",
       "    </tr>\n",
       "    <tr>\n",
       "      <th>std</th>\n",
       "      <td>1.108595</td>\n",
       "      <td>1.558443</td>\n",
       "      <td>71.836032</td>\n",
       "      <td>5.238218</td>\n",
       "      <td>5.741201</td>\n",
       "      <td>758.983215</td>\n",
       "      <td>8.311813</td>\n",
       "      <td>14.357991</td>\n",
       "    </tr>\n",
       "    <tr>\n",
       "      <th>min</th>\n",
       "      <td>1.300000</td>\n",
       "      <td>3.000000</td>\n",
       "      <td>73.000000</td>\n",
       "      <td>10.000000</td>\n",
       "      <td>12.000000</td>\n",
       "      <td>1850.000000</td>\n",
       "      <td>89.000000</td>\n",
       "      <td>143.000000</td>\n",
       "    </tr>\n",
       "    <tr>\n",
       "      <th>25%</th>\n",
       "      <td>2.375000</td>\n",
       "      <td>4.000000</td>\n",
       "      <td>165.000000</td>\n",
       "      <td>17.000000</td>\n",
       "      <td>24.000000</td>\n",
       "      <td>3104.000000</td>\n",
       "      <td>103.000000</td>\n",
       "      <td>178.000000</td>\n",
       "    </tr>\n",
       "    <tr>\n",
       "      <th>50%</th>\n",
       "      <td>3.000000</td>\n",
       "      <td>6.000000</td>\n",
       "      <td>210.000000</td>\n",
       "      <td>19.000000</td>\n",
       "      <td>26.000000</td>\n",
       "      <td>3474.500000</td>\n",
       "      <td>107.000000</td>\n",
       "      <td>187.000000</td>\n",
       "    </tr>\n",
       "    <tr>\n",
       "      <th>75%</th>\n",
       "      <td>3.900000</td>\n",
       "      <td>6.000000</td>\n",
       "      <td>255.000000</td>\n",
       "      <td>21.250000</td>\n",
       "      <td>29.000000</td>\n",
       "      <td>3977.750000</td>\n",
       "      <td>112.000000</td>\n",
       "      <td>194.000000</td>\n",
       "    </tr>\n",
       "    <tr>\n",
       "      <th>max</th>\n",
       "      <td>8.300000</td>\n",
       "      <td>12.000000</td>\n",
       "      <td>500.000000</td>\n",
       "      <td>60.000000</td>\n",
       "      <td>66.000000</td>\n",
       "      <td>7190.000000</td>\n",
       "      <td>144.000000</td>\n",
       "      <td>238.000000</td>\n",
       "    </tr>\n",
       "  </tbody>\n",
       "</table>\n",
       "</div>"
      ],
      "text/plain": [
       "       EngineSize   Cylinders  Horsepower    MPG_City  MPG_Highway  \\\n",
       "count  428.000000  426.000000  428.000000  428.000000   428.000000   \n",
       "mean     3.196729    5.807512  215.885514   20.060748    26.843458   \n",
       "std      1.108595    1.558443   71.836032    5.238218     5.741201   \n",
       "min      1.300000    3.000000   73.000000   10.000000    12.000000   \n",
       "25%      2.375000    4.000000  165.000000   17.000000    24.000000   \n",
       "50%      3.000000    6.000000  210.000000   19.000000    26.000000   \n",
       "75%      3.900000    6.000000  255.000000   21.250000    29.000000   \n",
       "max      8.300000   12.000000  500.000000   60.000000    66.000000   \n",
       "\n",
       "            Weight   Wheelbase      Length  \n",
       "count   428.000000  428.000000  428.000000  \n",
       "mean   3577.953271  108.154206  186.362150  \n",
       "std     758.983215    8.311813   14.357991  \n",
       "min    1850.000000   89.000000  143.000000  \n",
       "25%    3104.000000  103.000000  178.000000  \n",
       "50%    3474.500000  107.000000  187.000000  \n",
       "75%    3977.750000  112.000000  194.000000  \n",
       "max    7190.000000  144.000000  238.000000  "
      ]
     },
     "execution_count": 119,
     "metadata": {},
     "output_type": "execute_result"
    }
   ],
   "source": [
    "cars.describe()"
   ]
  },
  {
   "cell_type": "code",
   "execution_count": 121,
   "id": "ffea7148",
   "metadata": {},
   "outputs": [
    {
     "data": {
      "text/plain": [
       "(428, 15)"
      ]
     },
     "execution_count": 121,
     "metadata": {},
     "output_type": "execute_result"
    }
   ],
   "source": [
    "cars.shape"
   ]
  },
  {
   "cell_type": "code",
   "execution_count": 122,
   "id": "58eb0c57",
   "metadata": {},
   "outputs": [
    {
     "data": {
      "text/plain": [
       "3.1967289719626195"
      ]
     },
     "execution_count": 122,
     "metadata": {},
     "output_type": "execute_result"
    }
   ],
   "source": [
    "cars['EngineSize'].mean()"
   ]
  },
  {
   "cell_type": "code",
   "execution_count": 8,
   "id": "38ad93b6",
   "metadata": {},
   "outputs": [
    {
     "data": {
      "text/plain": [
       "Make           0\n",
       "Model          0\n",
       "Type           0\n",
       "Origin         0\n",
       "DriveTrain     0\n",
       "MSRP           0\n",
       "Invoice        0\n",
       "EngineSize     0\n",
       "Cylinders      2\n",
       "Horsepower     0\n",
       "MPG_City       0\n",
       "MPG_Highway    0\n",
       "Weight         0\n",
       "Wheelbase      0\n",
       "Length         0\n",
       "dtype: int64"
      ]
     },
     "execution_count": 8,
     "metadata": {},
     "output_type": "execute_result"
    }
   ],
   "source": [
    "# fill the null values with mean of that column\n",
    "cars.isnull().sum()"
   ]
  },
  {
   "cell_type": "code",
   "execution_count": 9,
   "id": "ac28080a",
   "metadata": {},
   "outputs": [],
   "source": [
    "# removing 2 blanks rows in cylinders column\n",
    "cars.dropna(inplace=True)"
   ]
  },
  {
   "cell_type": "code",
   "execution_count": 10,
   "id": "3177cc2e",
   "metadata": {},
   "outputs": [
    {
     "data": {
      "text/plain": [
       "Make           0\n",
       "Model          0\n",
       "Type           0\n",
       "Origin         0\n",
       "DriveTrain     0\n",
       "MSRP           0\n",
       "Invoice        0\n",
       "EngineSize     0\n",
       "Cylinders      0\n",
       "Horsepower     0\n",
       "MPG_City       0\n",
       "MPG_Highway    0\n",
       "Weight         0\n",
       "Wheelbase      0\n",
       "Length         0\n",
       "dtype: int64"
      ]
     },
     "execution_count": 10,
     "metadata": {},
     "output_type": "execute_result"
    }
   ],
   "source": [
    "cars.isnull().sum()"
   ]
  },
  {
   "cell_type": "code",
   "execution_count": 11,
   "id": "3f5505c1",
   "metadata": {},
   "outputs": [
    {
     "data": {
      "text/html": [
       "<div>\n",
       "<style scoped>\n",
       "    .dataframe tbody tr th:only-of-type {\n",
       "        vertical-align: middle;\n",
       "    }\n",
       "\n",
       "    .dataframe tbody tr th {\n",
       "        vertical-align: top;\n",
       "    }\n",
       "\n",
       "    .dataframe thead th {\n",
       "        text-align: right;\n",
       "    }\n",
       "</style>\n",
       "<table border=\"1\" class=\"dataframe\">\n",
       "  <thead>\n",
       "    <tr style=\"text-align: right;\">\n",
       "      <th></th>\n",
       "      <th>Make</th>\n",
       "      <th>Model</th>\n",
       "      <th>Type</th>\n",
       "      <th>Origin</th>\n",
       "      <th>DriveTrain</th>\n",
       "      <th>MSRP</th>\n",
       "      <th>Invoice</th>\n",
       "      <th>EngineSize</th>\n",
       "      <th>Cylinders</th>\n",
       "      <th>Horsepower</th>\n",
       "      <th>MPG_City</th>\n",
       "      <th>MPG_Highway</th>\n",
       "      <th>Weight</th>\n",
       "      <th>Wheelbase</th>\n",
       "      <th>Length</th>\n",
       "    </tr>\n",
       "  </thead>\n",
       "  <tbody>\n",
       "    <tr>\n",
       "      <th>0</th>\n",
       "      <td>Acura</td>\n",
       "      <td>MDX</td>\n",
       "      <td>SUV</td>\n",
       "      <td>Asia</td>\n",
       "      <td>All</td>\n",
       "      <td>$36,945</td>\n",
       "      <td>$33,337</td>\n",
       "      <td>3.5</td>\n",
       "      <td>6.0</td>\n",
       "      <td>265</td>\n",
       "      <td>17</td>\n",
       "      <td>23</td>\n",
       "      <td>4451</td>\n",
       "      <td>106</td>\n",
       "      <td>189</td>\n",
       "    </tr>\n",
       "    <tr>\n",
       "      <th>1</th>\n",
       "      <td>Acura</td>\n",
       "      <td>RSX Type S 2dr</td>\n",
       "      <td>Sedan</td>\n",
       "      <td>Asia</td>\n",
       "      <td>Front</td>\n",
       "      <td>$23,820</td>\n",
       "      <td>$21,761</td>\n",
       "      <td>2.0</td>\n",
       "      <td>4.0</td>\n",
       "      <td>200</td>\n",
       "      <td>24</td>\n",
       "      <td>31</td>\n",
       "      <td>2778</td>\n",
       "      <td>101</td>\n",
       "      <td>172</td>\n",
       "    </tr>\n",
       "  </tbody>\n",
       "</table>\n",
       "</div>"
      ],
      "text/plain": [
       "    Make           Model   Type Origin DriveTrain     MSRP  Invoice  \\\n",
       "0  Acura             MDX    SUV   Asia        All  $36,945  $33,337   \n",
       "1  Acura  RSX Type S 2dr  Sedan   Asia      Front  $23,820  $21,761   \n",
       "\n",
       "   EngineSize  Cylinders  Horsepower  MPG_City  MPG_Highway  Weight  \\\n",
       "0         3.5        6.0         265        17           23    4451   \n",
       "1         2.0        4.0         200        24           31    2778   \n",
       "\n",
       "   Wheelbase  Length  \n",
       "0        106     189  \n",
       "1        101     172  "
      ]
     },
     "execution_count": 11,
     "metadata": {},
     "output_type": "execute_result"
    }
   ],
   "source": [
    "cars.head(2)"
   ]
  },
  {
   "cell_type": "markdown",
   "id": "a9ed780c",
   "metadata": {},
   "source": [
    "### Split the column data"
   ]
  },
  {
   "cell_type": "code",
   "execution_count": 12,
   "id": "b07580df",
   "metadata": {
    "scrolled": false
   },
   "outputs": [
    {
     "data": {
      "text/plain": [
       "0      36,945\n",
       "1      23,820\n",
       "2      26,990\n",
       "3      33,195\n",
       "4      43,755\n",
       "        ...  \n",
       "423    40,565\n",
       "424    42,565\n",
       "425    45,210\n",
       "426    26,135\n",
       "427    35,145\n",
       "Name: 1, Length: 426, dtype: object"
      ]
     },
     "execution_count": 12,
     "metadata": {},
     "output_type": "execute_result"
    }
   ],
   "source": [
    "new_col=cars['MSRP'].str.split('$',expand=True)\n",
    "\n",
    "new_col[1]"
   ]
  },
  {
   "cell_type": "markdown",
   "id": "7937f26e",
   "metadata": {},
   "source": [
    "### Concat column"
   ]
  },
  {
   "cell_type": "code",
   "execution_count": 13,
   "id": "40ce8f65",
   "metadata": {
    "scrolled": false
   },
   "outputs": [],
   "source": [
    "# add the new col to data and then remove comma\n",
    "cars=pd.concat([cars,new_col[1]],axis=1)"
   ]
  },
  {
   "cell_type": "markdown",
   "id": "93b4a821",
   "metadata": {},
   "source": [
    "### Rename the column"
   ]
  },
  {
   "cell_type": "code",
   "execution_count": 14,
   "id": "66a616b5",
   "metadata": {},
   "outputs": [
    {
     "data": {
      "text/html": [
       "<div>\n",
       "<style scoped>\n",
       "    .dataframe tbody tr th:only-of-type {\n",
       "        vertical-align: middle;\n",
       "    }\n",
       "\n",
       "    .dataframe tbody tr th {\n",
       "        vertical-align: top;\n",
       "    }\n",
       "\n",
       "    .dataframe thead th {\n",
       "        text-align: right;\n",
       "    }\n",
       "</style>\n",
       "<table border=\"1\" class=\"dataframe\">\n",
       "  <thead>\n",
       "    <tr style=\"text-align: right;\">\n",
       "      <th></th>\n",
       "      <th>Make</th>\n",
       "      <th>Model</th>\n",
       "      <th>Type</th>\n",
       "      <th>Origin</th>\n",
       "      <th>DriveTrain</th>\n",
       "      <th>MSRP</th>\n",
       "      <th>Invoice</th>\n",
       "      <th>EngineSize</th>\n",
       "      <th>Cylinders</th>\n",
       "      <th>Horsepower</th>\n",
       "      <th>MPG_City</th>\n",
       "      <th>MPG_Highway</th>\n",
       "      <th>Weight</th>\n",
       "      <th>Wheelbase</th>\n",
       "      <th>Length</th>\n",
       "      <th>New_MSRP</th>\n",
       "    </tr>\n",
       "  </thead>\n",
       "  <tbody>\n",
       "    <tr>\n",
       "      <th>0</th>\n",
       "      <td>Acura</td>\n",
       "      <td>MDX</td>\n",
       "      <td>SUV</td>\n",
       "      <td>Asia</td>\n",
       "      <td>All</td>\n",
       "      <td>$36,945</td>\n",
       "      <td>$33,337</td>\n",
       "      <td>3.5</td>\n",
       "      <td>6.0</td>\n",
       "      <td>265</td>\n",
       "      <td>17</td>\n",
       "      <td>23</td>\n",
       "      <td>4451</td>\n",
       "      <td>106</td>\n",
       "      <td>189</td>\n",
       "      <td>36,945</td>\n",
       "    </tr>\n",
       "    <tr>\n",
       "      <th>1</th>\n",
       "      <td>Acura</td>\n",
       "      <td>RSX Type S 2dr</td>\n",
       "      <td>Sedan</td>\n",
       "      <td>Asia</td>\n",
       "      <td>Front</td>\n",
       "      <td>$23,820</td>\n",
       "      <td>$21,761</td>\n",
       "      <td>2.0</td>\n",
       "      <td>4.0</td>\n",
       "      <td>200</td>\n",
       "      <td>24</td>\n",
       "      <td>31</td>\n",
       "      <td>2778</td>\n",
       "      <td>101</td>\n",
       "      <td>172</td>\n",
       "      <td>23,820</td>\n",
       "    </tr>\n",
       "    <tr>\n",
       "      <th>2</th>\n",
       "      <td>Acura</td>\n",
       "      <td>TSX 4dr</td>\n",
       "      <td>Sedan</td>\n",
       "      <td>Asia</td>\n",
       "      <td>Front</td>\n",
       "      <td>$26,990</td>\n",
       "      <td>$24,647</td>\n",
       "      <td>2.4</td>\n",
       "      <td>4.0</td>\n",
       "      <td>200</td>\n",
       "      <td>22</td>\n",
       "      <td>29</td>\n",
       "      <td>3230</td>\n",
       "      <td>105</td>\n",
       "      <td>183</td>\n",
       "      <td>26,990</td>\n",
       "    </tr>\n",
       "    <tr>\n",
       "      <th>3</th>\n",
       "      <td>Acura</td>\n",
       "      <td>TL 4dr</td>\n",
       "      <td>Sedan</td>\n",
       "      <td>Asia</td>\n",
       "      <td>Front</td>\n",
       "      <td>$33,195</td>\n",
       "      <td>$30,299</td>\n",
       "      <td>3.2</td>\n",
       "      <td>6.0</td>\n",
       "      <td>270</td>\n",
       "      <td>20</td>\n",
       "      <td>28</td>\n",
       "      <td>3575</td>\n",
       "      <td>108</td>\n",
       "      <td>186</td>\n",
       "      <td>33,195</td>\n",
       "    </tr>\n",
       "    <tr>\n",
       "      <th>4</th>\n",
       "      <td>Acura</td>\n",
       "      <td>3.5 RL 4dr</td>\n",
       "      <td>Sedan</td>\n",
       "      <td>Asia</td>\n",
       "      <td>Front</td>\n",
       "      <td>$43,755</td>\n",
       "      <td>$39,014</td>\n",
       "      <td>3.5</td>\n",
       "      <td>6.0</td>\n",
       "      <td>225</td>\n",
       "      <td>18</td>\n",
       "      <td>24</td>\n",
       "      <td>3880</td>\n",
       "      <td>115</td>\n",
       "      <td>197</td>\n",
       "      <td>43,755</td>\n",
       "    </tr>\n",
       "    <tr>\n",
       "      <th>...</th>\n",
       "      <td>...</td>\n",
       "      <td>...</td>\n",
       "      <td>...</td>\n",
       "      <td>...</td>\n",
       "      <td>...</td>\n",
       "      <td>...</td>\n",
       "      <td>...</td>\n",
       "      <td>...</td>\n",
       "      <td>...</td>\n",
       "      <td>...</td>\n",
       "      <td>...</td>\n",
       "      <td>...</td>\n",
       "      <td>...</td>\n",
       "      <td>...</td>\n",
       "      <td>...</td>\n",
       "      <td>...</td>\n",
       "    </tr>\n",
       "    <tr>\n",
       "      <th>423</th>\n",
       "      <td>Volvo</td>\n",
       "      <td>C70 LPT convertible 2dr</td>\n",
       "      <td>Sedan</td>\n",
       "      <td>Europe</td>\n",
       "      <td>Front</td>\n",
       "      <td>$40,565</td>\n",
       "      <td>$38,203</td>\n",
       "      <td>2.4</td>\n",
       "      <td>5.0</td>\n",
       "      <td>197</td>\n",
       "      <td>21</td>\n",
       "      <td>28</td>\n",
       "      <td>3450</td>\n",
       "      <td>105</td>\n",
       "      <td>186</td>\n",
       "      <td>40,565</td>\n",
       "    </tr>\n",
       "    <tr>\n",
       "      <th>424</th>\n",
       "      <td>Volvo</td>\n",
       "      <td>C70 HPT convertible 2dr</td>\n",
       "      <td>Sedan</td>\n",
       "      <td>Europe</td>\n",
       "      <td>Front</td>\n",
       "      <td>$42,565</td>\n",
       "      <td>$40,083</td>\n",
       "      <td>2.3</td>\n",
       "      <td>5.0</td>\n",
       "      <td>242</td>\n",
       "      <td>20</td>\n",
       "      <td>26</td>\n",
       "      <td>3450</td>\n",
       "      <td>105</td>\n",
       "      <td>186</td>\n",
       "      <td>42,565</td>\n",
       "    </tr>\n",
       "    <tr>\n",
       "      <th>425</th>\n",
       "      <td>Volvo</td>\n",
       "      <td>S80 T6 4dr</td>\n",
       "      <td>Sedan</td>\n",
       "      <td>Europe</td>\n",
       "      <td>Front</td>\n",
       "      <td>$45,210</td>\n",
       "      <td>$42,573</td>\n",
       "      <td>2.9</td>\n",
       "      <td>6.0</td>\n",
       "      <td>268</td>\n",
       "      <td>19</td>\n",
       "      <td>26</td>\n",
       "      <td>3653</td>\n",
       "      <td>110</td>\n",
       "      <td>190</td>\n",
       "      <td>45,210</td>\n",
       "    </tr>\n",
       "    <tr>\n",
       "      <th>426</th>\n",
       "      <td>Volvo</td>\n",
       "      <td>V40</td>\n",
       "      <td>Wagon</td>\n",
       "      <td>Europe</td>\n",
       "      <td>Front</td>\n",
       "      <td>$26,135</td>\n",
       "      <td>$24,641</td>\n",
       "      <td>1.9</td>\n",
       "      <td>4.0</td>\n",
       "      <td>170</td>\n",
       "      <td>22</td>\n",
       "      <td>29</td>\n",
       "      <td>2822</td>\n",
       "      <td>101</td>\n",
       "      <td>180</td>\n",
       "      <td>26,135</td>\n",
       "    </tr>\n",
       "    <tr>\n",
       "      <th>427</th>\n",
       "      <td>Volvo</td>\n",
       "      <td>XC70</td>\n",
       "      <td>Wagon</td>\n",
       "      <td>Europe</td>\n",
       "      <td>All</td>\n",
       "      <td>$35,145</td>\n",
       "      <td>$33,112</td>\n",
       "      <td>2.5</td>\n",
       "      <td>5.0</td>\n",
       "      <td>208</td>\n",
       "      <td>20</td>\n",
       "      <td>27</td>\n",
       "      <td>3823</td>\n",
       "      <td>109</td>\n",
       "      <td>186</td>\n",
       "      <td>35,145</td>\n",
       "    </tr>\n",
       "  </tbody>\n",
       "</table>\n",
       "<p>426 rows × 16 columns</p>\n",
       "</div>"
      ],
      "text/plain": [
       "      Make                    Model   Type  Origin DriveTrain     MSRP  \\\n",
       "0    Acura                      MDX    SUV    Asia        All  $36,945   \n",
       "1    Acura           RSX Type S 2dr  Sedan    Asia      Front  $23,820   \n",
       "2    Acura                  TSX 4dr  Sedan    Asia      Front  $26,990   \n",
       "3    Acura                   TL 4dr  Sedan    Asia      Front  $33,195   \n",
       "4    Acura               3.5 RL 4dr  Sedan    Asia      Front  $43,755   \n",
       "..     ...                      ...    ...     ...        ...      ...   \n",
       "423  Volvo  C70 LPT convertible 2dr  Sedan  Europe      Front  $40,565   \n",
       "424  Volvo  C70 HPT convertible 2dr  Sedan  Europe      Front  $42,565   \n",
       "425  Volvo               S80 T6 4dr  Sedan  Europe      Front  $45,210   \n",
       "426  Volvo                      V40  Wagon  Europe      Front  $26,135   \n",
       "427  Volvo                     XC70  Wagon  Europe        All  $35,145   \n",
       "\n",
       "     Invoice  EngineSize  Cylinders  Horsepower  MPG_City  MPG_Highway  \\\n",
       "0    $33,337         3.5        6.0         265        17           23   \n",
       "1    $21,761         2.0        4.0         200        24           31   \n",
       "2    $24,647         2.4        4.0         200        22           29   \n",
       "3    $30,299         3.2        6.0         270        20           28   \n",
       "4    $39,014         3.5        6.0         225        18           24   \n",
       "..       ...         ...        ...         ...       ...          ...   \n",
       "423  $38,203         2.4        5.0         197        21           28   \n",
       "424  $40,083         2.3        5.0         242        20           26   \n",
       "425  $42,573         2.9        6.0         268        19           26   \n",
       "426  $24,641         1.9        4.0         170        22           29   \n",
       "427  $33,112         2.5        5.0         208        20           27   \n",
       "\n",
       "     Weight  Wheelbase  Length New_MSRP  \n",
       "0      4451        106     189   36,945  \n",
       "1      2778        101     172   23,820  \n",
       "2      3230        105     183   26,990  \n",
       "3      3575        108     186   33,195  \n",
       "4      3880        115     197   43,755  \n",
       "..      ...        ...     ...      ...  \n",
       "423    3450        105     186   40,565  \n",
       "424    3450        105     186   42,565  \n",
       "425    3653        110     190   45,210  \n",
       "426    2822        101     180   26,135  \n",
       "427    3823        109     186   35,145  \n",
       "\n",
       "[426 rows x 16 columns]"
      ]
     },
     "execution_count": 14,
     "metadata": {},
     "output_type": "execute_result"
    }
   ],
   "source": [
    "cars.rename(columns={1:'New_MSRP'},inplace=True)\n",
    "cars"
   ]
  },
  {
   "cell_type": "markdown",
   "id": "a66dc84a",
   "metadata": {},
   "source": [
    "#### Replace , in MSRP"
   ]
  },
  {
   "cell_type": "code",
   "execution_count": 15,
   "id": "c1a2af7a",
   "metadata": {},
   "outputs": [
    {
     "data": {
      "text/html": [
       "<div>\n",
       "<style scoped>\n",
       "    .dataframe tbody tr th:only-of-type {\n",
       "        vertical-align: middle;\n",
       "    }\n",
       "\n",
       "    .dataframe tbody tr th {\n",
       "        vertical-align: top;\n",
       "    }\n",
       "\n",
       "    .dataframe thead th {\n",
       "        text-align: right;\n",
       "    }\n",
       "</style>\n",
       "<table border=\"1\" class=\"dataframe\">\n",
       "  <thead>\n",
       "    <tr style=\"text-align: right;\">\n",
       "      <th></th>\n",
       "      <th>Make</th>\n",
       "      <th>Model</th>\n",
       "      <th>Type</th>\n",
       "      <th>Origin</th>\n",
       "      <th>DriveTrain</th>\n",
       "      <th>MSRP</th>\n",
       "      <th>Invoice</th>\n",
       "      <th>EngineSize</th>\n",
       "      <th>Cylinders</th>\n",
       "      <th>Horsepower</th>\n",
       "      <th>MPG_City</th>\n",
       "      <th>MPG_Highway</th>\n",
       "      <th>Weight</th>\n",
       "      <th>Wheelbase</th>\n",
       "      <th>Length</th>\n",
       "      <th>New_MSRP</th>\n",
       "    </tr>\n",
       "  </thead>\n",
       "  <tbody>\n",
       "    <tr>\n",
       "      <th>0</th>\n",
       "      <td>Acura</td>\n",
       "      <td>MDX</td>\n",
       "      <td>SUV</td>\n",
       "      <td>Asia</td>\n",
       "      <td>All</td>\n",
       "      <td>$36,945</td>\n",
       "      <td>$33,337</td>\n",
       "      <td>3.5</td>\n",
       "      <td>6.0</td>\n",
       "      <td>265</td>\n",
       "      <td>17</td>\n",
       "      <td>23</td>\n",
       "      <td>4451</td>\n",
       "      <td>106</td>\n",
       "      <td>189</td>\n",
       "      <td>36945</td>\n",
       "    </tr>\n",
       "    <tr>\n",
       "      <th>1</th>\n",
       "      <td>Acura</td>\n",
       "      <td>RSX Type S 2dr</td>\n",
       "      <td>Sedan</td>\n",
       "      <td>Asia</td>\n",
       "      <td>Front</td>\n",
       "      <td>$23,820</td>\n",
       "      <td>$21,761</td>\n",
       "      <td>2.0</td>\n",
       "      <td>4.0</td>\n",
       "      <td>200</td>\n",
       "      <td>24</td>\n",
       "      <td>31</td>\n",
       "      <td>2778</td>\n",
       "      <td>101</td>\n",
       "      <td>172</td>\n",
       "      <td>23820</td>\n",
       "    </tr>\n",
       "  </tbody>\n",
       "</table>\n",
       "</div>"
      ],
      "text/plain": [
       "    Make           Model   Type Origin DriveTrain     MSRP  Invoice  \\\n",
       "0  Acura             MDX    SUV   Asia        All  $36,945  $33,337   \n",
       "1  Acura  RSX Type S 2dr  Sedan   Asia      Front  $23,820  $21,761   \n",
       "\n",
       "   EngineSize  Cylinders  Horsepower  MPG_City  MPG_Highway  Weight  \\\n",
       "0         3.5        6.0         265        17           23    4451   \n",
       "1         2.0        4.0         200        24           31    2778   \n",
       "\n",
       "   Wheelbase  Length New_MSRP  \n",
       "0        106     189    36945  \n",
       "1        101     172    23820  "
      ]
     },
     "execution_count": 15,
     "metadata": {},
     "output_type": "execute_result"
    }
   ],
   "source": [
    "cars['New_MSRP']=cars['New_MSRP'].str.replace(',','')\n",
    "cars.head(2)"
   ]
  },
  {
   "cell_type": "markdown",
   "id": "f745e648",
   "metadata": {},
   "source": [
    "### Delete columns"
   ]
  },
  {
   "cell_type": "code",
   "execution_count": 16,
   "id": "12b0f00c",
   "metadata": {},
   "outputs": [],
   "source": [
    "# so delete unnesessary columns\n",
    "# MSRP, 'MOdel',Cylinders, MPG_City, MPG_Highway"
   ]
  },
  {
   "cell_type": "markdown",
   "id": "8dfa8182",
   "metadata": {},
   "source": [
    "### which model has highest average MPG_city and MPG_highway"
   ]
  },
  {
   "cell_type": "code",
   "execution_count": 17,
   "id": "42a3915e",
   "metadata": {
    "scrolled": true
   },
   "outputs": [
    {
     "data": {
      "text/plain": [
       "Model\n",
       "Insight 2dr (gas/electric)                60.0\n",
       "Prius 4dr (gas/electric)                  59.0\n",
       "Civic Hybrid 4dr manual (gas/electric)    46.0\n",
       "Jetta GLS TDI 4dr                         38.0\n",
       "Civic HX 2dr                              36.0\n",
       "Name: MPG_City, dtype: float64"
      ]
     },
     "execution_count": 17,
     "metadata": {},
     "output_type": "execute_result"
    }
   ],
   "source": [
    "mpg_city=cars.groupby('Model')['MPG_City'].mean().sort_values(ascending=False).head(5)\n",
    "mpg_city"
   ]
  },
  {
   "cell_type": "code",
   "execution_count": 89,
   "id": "7dbd53b9",
   "metadata": {
    "scrolled": false
   },
   "outputs": [
    {
     "data": {
      "image/png": "[encoded data removed]",
      "text/plain": [
       "<Figure size 936x504 with 1 Axes>"
      ]
     },
     "metadata": {
      "needs_background": "light"
     },
     "output_type": "display_data"
    }
   ],
   "source": [
    "mpg_city.plot(kind='bar',figsize=(13,7))\n",
    "\n",
    "plt.tight_layout()\n",
    "plt.xticks(rotation=360);"
   ]
  },
  {
   "cell_type": "code",
   "execution_count": 19,
   "id": "e133ee60",
   "metadata": {
    "scrolled": true
   },
   "outputs": [],
   "source": [
    "mpg_highway=cars.groupby('Model')['MPG_Highway'].mean().sort_values(ascending=False).head(5)"
   ]
  },
  {
   "cell_type": "code",
   "execution_count": 92,
   "id": "235cb7ac",
   "metadata": {},
   "outputs": [
    {
     "data": {
      "image/png": "[encoded data removed]",
      "text/plain": [
       "<Figure size 864x504 with 1 Axes>"
      ]
     },
     "metadata": {
      "needs_background": "light"
     },
     "output_type": "display_data"
    }
   ],
   "source": [
    "mpg_highway.plot(kind='bar',figsize=(12,7))\n",
    "\n",
    "plt.tight_layout()\n",
    "plt.xticks(rotation=360);"
   ]
  },
  {
   "cell_type": "markdown",
   "id": "96c4b888",
   "metadata": {},
   "source": [
    "### which type has highest average MPG_city and MPG_highway"
   ]
  },
  {
   "cell_type": "code",
   "execution_count": 21,
   "id": "17645735",
   "metadata": {
    "scrolled": true
   },
   "outputs": [],
   "source": [
    "t1=cars.groupby('Type')[['MPG_City']].mean().sort_values(by=['MPG_City'],ascending=False).head(5)"
   ]
  },
  {
   "cell_type": "code",
   "execution_count": 80,
   "id": "f9ab1c0f",
   "metadata": {},
   "outputs": [
    {
     "data": {
      "image/png": "[encoded data removed]",
      "text/plain": [
       "<Figure size 432x288 with 1 Axes>"
      ]
     },
     "metadata": {
      "needs_background": "light"
     },
     "output_type": "display_data"
    }
   ],
   "source": [
    "t1.plot(kind='bar')\n",
    "\n",
    "plt.tight_layout()\n",
    "plt.xticks(rotation=360);"
   ]
  },
  {
   "cell_type": "code",
   "execution_count": 23,
   "id": "464f884a",
   "metadata": {},
   "outputs": [],
   "source": [
    "t2=cars.groupby('Type')[['MPG_Highway']].mean().sort_values(by=['MPG_Highway'],ascending=False).head(5)"
   ]
  },
  {
   "cell_type": "code",
   "execution_count": 79,
   "id": "7c24bb18",
   "metadata": {},
   "outputs": [
    {
     "data": {
      "image/png": "[encoded data removed]",
      "text/plain": [
       "<Figure size 432x288 with 1 Axes>"
      ]
     },
     "metadata": {
      "needs_background": "light"
     },
     "output_type": "display_data"
    }
   ],
   "source": [
    "t2.plot(kind='bar')\n",
    "\n",
    "plt.tight_layout()\n",
    "plt.xticks(rotation=360);"
   ]
  },
  {
   "cell_type": "markdown",
   "id": "2cea4efb",
   "metadata": {},
   "source": [
    "###    ###################### ***********"
   ]
  },
  {
   "cell_type": "code",
   "execution_count": 25,
   "id": "f7d6bc4f",
   "metadata": {},
   "outputs": [
    {
     "data": {
      "text/html": [
       "<div>\n",
       "<style scoped>\n",
       "    .dataframe tbody tr th:only-of-type {\n",
       "        vertical-align: middle;\n",
       "    }\n",
       "\n",
       "    .dataframe tbody tr th {\n",
       "        vertical-align: top;\n",
       "    }\n",
       "\n",
       "    .dataframe thead th {\n",
       "        text-align: right;\n",
       "    }\n",
       "</style>\n",
       "<table border=\"1\" class=\"dataframe\">\n",
       "  <thead>\n",
       "    <tr style=\"text-align: right;\">\n",
       "      <th></th>\n",
       "      <th>Make</th>\n",
       "      <th>Model</th>\n",
       "      <th>Type</th>\n",
       "      <th>Origin</th>\n",
       "      <th>DriveTrain</th>\n",
       "      <th>MSRP</th>\n",
       "      <th>Invoice</th>\n",
       "      <th>EngineSize</th>\n",
       "      <th>Cylinders</th>\n",
       "      <th>Horsepower</th>\n",
       "      <th>MPG_City</th>\n",
       "      <th>MPG_Highway</th>\n",
       "      <th>Weight</th>\n",
       "      <th>Wheelbase</th>\n",
       "      <th>Length</th>\n",
       "      <th>New_MSRP</th>\n",
       "    </tr>\n",
       "  </thead>\n",
       "  <tbody>\n",
       "    <tr>\n",
       "      <th>0</th>\n",
       "      <td>Acura</td>\n",
       "      <td>MDX</td>\n",
       "      <td>SUV</td>\n",
       "      <td>Asia</td>\n",
       "      <td>All</td>\n",
       "      <td>$36,945</td>\n",
       "      <td>$33,337</td>\n",
       "      <td>3.5</td>\n",
       "      <td>6.0</td>\n",
       "      <td>265</td>\n",
       "      <td>17</td>\n",
       "      <td>23</td>\n",
       "      <td>4451</td>\n",
       "      <td>106</td>\n",
       "      <td>189</td>\n",
       "      <td>36945</td>\n",
       "    </tr>\n",
       "    <tr>\n",
       "      <th>1</th>\n",
       "      <td>Acura</td>\n",
       "      <td>RSX Type S 2dr</td>\n",
       "      <td>Sedan</td>\n",
       "      <td>Asia</td>\n",
       "      <td>Front</td>\n",
       "      <td>$23,820</td>\n",
       "      <td>$21,761</td>\n",
       "      <td>2.0</td>\n",
       "      <td>4.0</td>\n",
       "      <td>200</td>\n",
       "      <td>24</td>\n",
       "      <td>31</td>\n",
       "      <td>2778</td>\n",
       "      <td>101</td>\n",
       "      <td>172</td>\n",
       "      <td>23820</td>\n",
       "    </tr>\n",
       "  </tbody>\n",
       "</table>\n",
       "</div>"
      ],
      "text/plain": [
       "    Make           Model   Type Origin DriveTrain     MSRP  Invoice  \\\n",
       "0  Acura             MDX    SUV   Asia        All  $36,945  $33,337   \n",
       "1  Acura  RSX Type S 2dr  Sedan   Asia      Front  $23,820  $21,761   \n",
       "\n",
       "   EngineSize  Cylinders  Horsepower  MPG_City  MPG_Highway  Weight  \\\n",
       "0         3.5        6.0         265        17           23    4451   \n",
       "1         2.0        4.0         200        24           31    2778   \n",
       "\n",
       "   Wheelbase  Length New_MSRP  \n",
       "0        106     189    36945  \n",
       "1        101     172    23820  "
      ]
     },
     "execution_count": 25,
     "metadata": {},
     "output_type": "execute_result"
    }
   ],
   "source": [
    "cars.head(2)"
   ]
  },
  {
   "cell_type": "code",
   "execution_count": 26,
   "id": "a3458528",
   "metadata": {},
   "outputs": [
    {
     "data": {
      "text/html": [
       "<div>\n",
       "<style scoped>\n",
       "    .dataframe tbody tr th:only-of-type {\n",
       "        vertical-align: middle;\n",
       "    }\n",
       "\n",
       "    .dataframe tbody tr th {\n",
       "        vertical-align: top;\n",
       "    }\n",
       "\n",
       "    .dataframe thead th {\n",
       "        text-align: right;\n",
       "    }\n",
       "</style>\n",
       "<table border=\"1\" class=\"dataframe\">\n",
       "  <thead>\n",
       "    <tr style=\"text-align: right;\">\n",
       "      <th></th>\n",
       "      <th>Make</th>\n",
       "      <th>Model</th>\n",
       "      <th>Type</th>\n",
       "      <th>Origin</th>\n",
       "      <th>DriveTrain</th>\n",
       "      <th>MSRP</th>\n",
       "      <th>Invoice</th>\n",
       "      <th>EngineSize</th>\n",
       "      <th>Cylinders</th>\n",
       "      <th>Horsepower</th>\n",
       "      <th>MPG_City</th>\n",
       "      <th>MPG_Highway</th>\n",
       "      <th>Weight</th>\n",
       "      <th>Wheelbase</th>\n",
       "      <th>Length</th>\n",
       "      <th>New_MSRP</th>\n",
       "    </tr>\n",
       "  </thead>\n",
       "  <tbody>\n",
       "    <tr>\n",
       "      <th>118</th>\n",
       "      <td>Ford</td>\n",
       "      <td>Excursion 6.8 XLT</td>\n",
       "      <td>SUV</td>\n",
       "      <td>USA</td>\n",
       "      <td>All</td>\n",
       "      <td>$41,475</td>\n",
       "      <td>$36,494</td>\n",
       "      <td>6.8</td>\n",
       "      <td>10.0</td>\n",
       "      <td>310</td>\n",
       "      <td>10</td>\n",
       "      <td>13</td>\n",
       "      <td>7190</td>\n",
       "      <td>137</td>\n",
       "      <td>227</td>\n",
       "      <td>41475</td>\n",
       "    </tr>\n",
       "    <tr>\n",
       "      <th>143</th>\n",
       "      <td>GMC</td>\n",
       "      <td>Yukon XL 2500 SLT</td>\n",
       "      <td>SUV</td>\n",
       "      <td>USA</td>\n",
       "      <td>All</td>\n",
       "      <td>$46,265</td>\n",
       "      <td>$40,534</td>\n",
       "      <td>6.0</td>\n",
       "      <td>8.0</td>\n",
       "      <td>325</td>\n",
       "      <td>13</td>\n",
       "      <td>17</td>\n",
       "      <td>6133</td>\n",
       "      <td>130</td>\n",
       "      <td>219</td>\n",
       "      <td>46265</td>\n",
       "    </tr>\n",
       "    <tr>\n",
       "      <th>166</th>\n",
       "      <td>Hummer</td>\n",
       "      <td>H2</td>\n",
       "      <td>SUV</td>\n",
       "      <td>USA</td>\n",
       "      <td>All</td>\n",
       "      <td>$49,995</td>\n",
       "      <td>$45,815</td>\n",
       "      <td>6.0</td>\n",
       "      <td>8.0</td>\n",
       "      <td>316</td>\n",
       "      <td>10</td>\n",
       "      <td>12</td>\n",
       "      <td>6400</td>\n",
       "      <td>123</td>\n",
       "      <td>190</td>\n",
       "      <td>49995</td>\n",
       "    </tr>\n",
       "  </tbody>\n",
       "</table>\n",
       "</div>"
      ],
      "text/plain": [
       "       Make              Model Type Origin DriveTrain     MSRP  Invoice  \\\n",
       "118    Ford  Excursion 6.8 XLT  SUV    USA        All  $41,475  $36,494   \n",
       "143     GMC  Yukon XL 2500 SLT  SUV    USA        All  $46,265  $40,534   \n",
       "166  Hummer                 H2  SUV    USA        All  $49,995  $45,815   \n",
       "\n",
       "     EngineSize  Cylinders  Horsepower  MPG_City  MPG_Highway  Weight  \\\n",
       "118         6.8       10.0         310        10           13    7190   \n",
       "143         6.0        8.0         325        13           17    6133   \n",
       "166         6.0        8.0         316        10           12    6400   \n",
       "\n",
       "     Wheelbase  Length New_MSRP  \n",
       "118        137     227    41475  \n",
       "143        130     219    46265  \n",
       "166        123     190    49995  "
      ]
     },
     "execution_count": 26,
     "metadata": {},
     "output_type": "execute_result"
    }
   ],
   "source": [
    "# weight\n",
    "\n",
    "cars[cars['Weight']>6000]"
   ]
  },
  {
   "cell_type": "markdown",
   "id": "3ae692a9",
   "metadata": {},
   "source": [
    "### Finding if car weight effects MPG"
   ]
  },
  {
   "cell_type": "code",
   "execution_count": 27,
   "id": "1f02b38d",
   "metadata": {
    "scrolled": false
   },
   "outputs": [
    {
     "data": {
      "text/html": [
       "<div>\n",
       "<style scoped>\n",
       "    .dataframe tbody tr th:only-of-type {\n",
       "        vertical-align: middle;\n",
       "    }\n",
       "\n",
       "    .dataframe tbody tr th {\n",
       "        vertical-align: top;\n",
       "    }\n",
       "\n",
       "    .dataframe thead th {\n",
       "        text-align: right;\n",
       "    }\n",
       "</style>\n",
       "<table border=\"1\" class=\"dataframe\">\n",
       "  <thead>\n",
       "    <tr style=\"text-align: right;\">\n",
       "      <th></th>\n",
       "      <th>MPG_City</th>\n",
       "    </tr>\n",
       "    <tr>\n",
       "      <th>Weight</th>\n",
       "      <th></th>\n",
       "    </tr>\n",
       "  </thead>\n",
       "  <tbody>\n",
       "    <tr>\n",
       "      <th>7190</th>\n",
       "      <td>10.0</td>\n",
       "    </tr>\n",
       "    <tr>\n",
       "      <th>6400</th>\n",
       "      <td>10.0</td>\n",
       "    </tr>\n",
       "    <tr>\n",
       "      <th>6133</th>\n",
       "      <td>13.0</td>\n",
       "    </tr>\n",
       "    <tr>\n",
       "      <th>5969</th>\n",
       "      <td>13.0</td>\n",
       "    </tr>\n",
       "    <tr>\n",
       "      <th>5879</th>\n",
       "      <td>13.0</td>\n",
       "    </tr>\n",
       "    <tr>\n",
       "      <th>5678</th>\n",
       "      <td>14.0</td>\n",
       "    </tr>\n",
       "    <tr>\n",
       "      <th>5590</th>\n",
       "      <td>13.0</td>\n",
       "    </tr>\n",
       "    <tr>\n",
       "      <th>5464</th>\n",
       "      <td>14.0</td>\n",
       "    </tr>\n",
       "    <tr>\n",
       "      <th>5440</th>\n",
       "      <td>13.0</td>\n",
       "    </tr>\n",
       "    <tr>\n",
       "      <th>5423</th>\n",
       "      <td>13.0</td>\n",
       "    </tr>\n",
       "  </tbody>\n",
       "</table>\n",
       "</div>"
      ],
      "text/plain": [
       "        MPG_City\n",
       "Weight          \n",
       "7190        10.0\n",
       "6400        10.0\n",
       "6133        13.0\n",
       "5969        13.0\n",
       "5879        13.0\n",
       "5678        14.0\n",
       "5590        13.0\n",
       "5464        14.0\n",
       "5440        13.0\n",
       "5423        13.0"
      ]
     },
     "execution_count": 27,
     "metadata": {},
     "output_type": "execute_result"
    }
   ],
   "source": [
    "#p1=cars[['Type','Weight','MPG_City']].sort_values(by=['Weight'],ascending=False).head(10)\n",
    "\n",
    "p1= cars.groupby('Weight')[['MPG_City']].mean().sort_values(by=['Weight','MPG_City'],ascending=False).head(10)\n",
    "p1"
   ]
  },
  {
   "cell_type": "code",
   "execution_count": 28,
   "id": "8da8a51d",
   "metadata": {},
   "outputs": [
    {
     "data": {
      "text/html": [
       "<div>\n",
       "<style scoped>\n",
       "    .dataframe tbody tr th:only-of-type {\n",
       "        vertical-align: middle;\n",
       "    }\n",
       "\n",
       "    .dataframe tbody tr th {\n",
       "        vertical-align: top;\n",
       "    }\n",
       "\n",
       "    .dataframe thead th {\n",
       "        text-align: right;\n",
       "    }\n",
       "</style>\n",
       "<table border=\"1\" class=\"dataframe\">\n",
       "  <thead>\n",
       "    <tr style=\"text-align: right;\">\n",
       "      <th></th>\n",
       "      <th>MPG_Highway</th>\n",
       "    </tr>\n",
       "    <tr>\n",
       "      <th>Weight</th>\n",
       "      <th></th>\n",
       "    </tr>\n",
       "  </thead>\n",
       "  <tbody>\n",
       "    <tr>\n",
       "      <th>7190</th>\n",
       "      <td>13.0</td>\n",
       "    </tr>\n",
       "    <tr>\n",
       "      <th>6400</th>\n",
       "      <td>12.0</td>\n",
       "    </tr>\n",
       "    <tr>\n",
       "      <th>6133</th>\n",
       "      <td>17.0</td>\n",
       "    </tr>\n",
       "    <tr>\n",
       "      <th>5969</th>\n",
       "      <td>18.0</td>\n",
       "    </tr>\n",
       "    <tr>\n",
       "      <th>5879</th>\n",
       "      <td>17.0</td>\n",
       "    </tr>\n",
       "    <tr>\n",
       "      <th>5678</th>\n",
       "      <td>18.0</td>\n",
       "    </tr>\n",
       "    <tr>\n",
       "      <th>5590</th>\n",
       "      <td>17.0</td>\n",
       "    </tr>\n",
       "    <tr>\n",
       "      <th>5464</th>\n",
       "      <td>18.0</td>\n",
       "    </tr>\n",
       "    <tr>\n",
       "      <th>5440</th>\n",
       "      <td>18.0</td>\n",
       "    </tr>\n",
       "    <tr>\n",
       "      <th>5423</th>\n",
       "      <td>14.0</td>\n",
       "    </tr>\n",
       "  </tbody>\n",
       "</table>\n",
       "</div>"
      ],
      "text/plain": [
       "        MPG_Highway\n",
       "Weight             \n",
       "7190           13.0\n",
       "6400           12.0\n",
       "6133           17.0\n",
       "5969           18.0\n",
       "5879           17.0\n",
       "5678           18.0\n",
       "5590           17.0\n",
       "5464           18.0\n",
       "5440           18.0\n",
       "5423           14.0"
      ]
     },
     "execution_count": 28,
     "metadata": {},
     "output_type": "execute_result"
    }
   ],
   "source": [
    "p2= cars.groupby('Weight')[['MPG_Highway']].mean().sort_values(by=['Weight','MPG_Highway'],ascending=False).head(10)\n",
    "p2"
   ]
  },
  {
   "cell_type": "markdown",
   "id": "874100de",
   "metadata": {},
   "source": [
    "### find corolletion between mpg and weight"
   ]
  },
  {
   "cell_type": "code",
   "execution_count": 29,
   "id": "9576fd18",
   "metadata": {
    "scrolled": true
   },
   "outputs": [
    {
     "data": {
      "text/plain": [
       "-0.7404179864964197"
      ]
     },
     "execution_count": 29,
     "metadata": {},
     "output_type": "execute_result"
    }
   ],
   "source": [
    "cars['Weight'].corr(cars['MPG_City'])"
   ]
  },
  {
   "cell_type": "code",
   "execution_count": 30,
   "id": "18c46f2a",
   "metadata": {},
   "outputs": [
    {
     "data": {
      "text/plain": [
       "<AxesSubplot:xlabel='MPG_City', ylabel='Weight'>"
      ]
     },
     "execution_count": 30,
     "metadata": {},
     "output_type": "execute_result"
    },
    {
     "data": {
      "image/png": "[encoded data removed]",
      "text/plain": [
       "<Figure size 432x288 with 1 Axes>"
      ]
     },
     "metadata": {
      "needs_background": "light"
     },
     "output_type": "display_data"
    }
   ],
   "source": [
    "sns.lineplot(x='MPG_City',y='Weight',data=cars)"
   ]
  },
  {
   "cell_type": "code",
   "execution_count": 31,
   "id": "178f18cb",
   "metadata": {},
   "outputs": [
    {
     "data": {
      "text/html": [
       "<div>\n",
       "<style scoped>\n",
       "    .dataframe tbody tr th:only-of-type {\n",
       "        vertical-align: middle;\n",
       "    }\n",
       "\n",
       "    .dataframe tbody tr th {\n",
       "        vertical-align: top;\n",
       "    }\n",
       "\n",
       "    .dataframe thead th {\n",
       "        text-align: right;\n",
       "    }\n",
       "</style>\n",
       "<table border=\"1\" class=\"dataframe\">\n",
       "  <thead>\n",
       "    <tr style=\"text-align: right;\">\n",
       "      <th></th>\n",
       "      <th>Make</th>\n",
       "      <th>Model</th>\n",
       "      <th>Type</th>\n",
       "      <th>Origin</th>\n",
       "      <th>DriveTrain</th>\n",
       "      <th>MSRP</th>\n",
       "      <th>Invoice</th>\n",
       "      <th>EngineSize</th>\n",
       "      <th>Cylinders</th>\n",
       "      <th>Horsepower</th>\n",
       "      <th>MPG_City</th>\n",
       "      <th>MPG_Highway</th>\n",
       "      <th>Weight</th>\n",
       "      <th>Wheelbase</th>\n",
       "      <th>Length</th>\n",
       "      <th>New_MSRP</th>\n",
       "    </tr>\n",
       "  </thead>\n",
       "  <tbody>\n",
       "    <tr>\n",
       "      <th>0</th>\n",
       "      <td>Acura</td>\n",
       "      <td>MDX</td>\n",
       "      <td>SUV</td>\n",
       "      <td>Asia</td>\n",
       "      <td>All</td>\n",
       "      <td>$36,945</td>\n",
       "      <td>$33,337</td>\n",
       "      <td>3.5</td>\n",
       "      <td>6.0</td>\n",
       "      <td>265</td>\n",
       "      <td>17</td>\n",
       "      <td>23</td>\n",
       "      <td>4451</td>\n",
       "      <td>106</td>\n",
       "      <td>189</td>\n",
       "      <td>36945</td>\n",
       "    </tr>\n",
       "    <tr>\n",
       "      <th>1</th>\n",
       "      <td>Acura</td>\n",
       "      <td>RSX Type S 2dr</td>\n",
       "      <td>Sedan</td>\n",
       "      <td>Asia</td>\n",
       "      <td>Front</td>\n",
       "      <td>$23,820</td>\n",
       "      <td>$21,761</td>\n",
       "      <td>2.0</td>\n",
       "      <td>4.0</td>\n",
       "      <td>200</td>\n",
       "      <td>24</td>\n",
       "      <td>31</td>\n",
       "      <td>2778</td>\n",
       "      <td>101</td>\n",
       "      <td>172</td>\n",
       "      <td>23820</td>\n",
       "    </tr>\n",
       "  </tbody>\n",
       "</table>\n",
       "</div>"
      ],
      "text/plain": [
       "    Make           Model   Type Origin DriveTrain     MSRP  Invoice  \\\n",
       "0  Acura             MDX    SUV   Asia        All  $36,945  $33,337   \n",
       "1  Acura  RSX Type S 2dr  Sedan   Asia      Front  $23,820  $21,761   \n",
       "\n",
       "   EngineSize  Cylinders  Horsepower  MPG_City  MPG_Highway  Weight  \\\n",
       "0         3.5        6.0         265        17           23    4451   \n",
       "1         2.0        4.0         200        24           31    2778   \n",
       "\n",
       "   Wheelbase  Length New_MSRP  \n",
       "0        106     189    36945  \n",
       "1        101     172    23820  "
      ]
     },
     "execution_count": 31,
     "metadata": {},
     "output_type": "execute_result"
    }
   ],
   "source": [
    "cars.head(2)"
   ]
  },
  {
   "cell_type": "code",
   "execution_count": 32,
   "id": "fbb087cc",
   "metadata": {},
   "outputs": [
    {
     "data": {
      "text/plain": [
       "Toyota           28\n",
       "Chevrolet        27\n",
       "Mercedes-Benz    26\n",
       "Ford             23\n",
       "BMW              20\n",
       "Audi             19\n",
       "Honda            17\n",
       "Nissan           17\n",
       "Volkswagen       15\n",
       "Chrysler         15\n",
       "Name: Make, dtype: int64"
      ]
     },
     "execution_count": 32,
     "metadata": {},
     "output_type": "execute_result"
    }
   ],
   "source": [
    "d1=cars['Make'].value_counts().head(10)\n",
    "d1"
   ]
  },
  {
   "cell_type": "code",
   "execution_count": 103,
   "id": "bd06de17",
   "metadata": {},
   "outputs": [
    {
     "data": {
      "text/plain": [
       "<AxesSubplot:ylabel='Make'>"
      ]
     },
     "execution_count": 103,
     "metadata": {},
     "output_type": "execute_result"
    },
    {
     "data": {
      "image/png": "[encoded data removed]",
      "text/plain": [
       "<Figure size 576x576 with 1 Axes>"
      ]
     },
     "metadata": {},
     "output_type": "display_data"
    }
   ],
   "source": [
    "d1.plot(kind='pie',figsize=(8,8),wedgeprops={\"edgecolor\":\"k\",'linewidth': 2},autopct='%1.0f%%')\n"
   ]
  },
  {
   "cell_type": "code",
   "execution_count": 34,
   "id": "7dd4cee9",
   "metadata": {},
   "outputs": [
    {
     "data": {
      "text/html": [
       "<div>\n",
       "<style scoped>\n",
       "    .dataframe tbody tr th:only-of-type {\n",
       "        vertical-align: middle;\n",
       "    }\n",
       "\n",
       "    .dataframe tbody tr th {\n",
       "        vertical-align: top;\n",
       "    }\n",
       "\n",
       "    .dataframe thead th {\n",
       "        text-align: right;\n",
       "    }\n",
       "</style>\n",
       "<table border=\"1\" class=\"dataframe\">\n",
       "  <thead>\n",
       "    <tr style=\"text-align: right;\">\n",
       "      <th></th>\n",
       "      <th>Make</th>\n",
       "      <th>Model</th>\n",
       "      <th>Type</th>\n",
       "      <th>Origin</th>\n",
       "      <th>DriveTrain</th>\n",
       "      <th>MSRP</th>\n",
       "      <th>Invoice</th>\n",
       "      <th>EngineSize</th>\n",
       "      <th>Cylinders</th>\n",
       "      <th>Horsepower</th>\n",
       "      <th>MPG_City</th>\n",
       "      <th>MPG_Highway</th>\n",
       "      <th>Weight</th>\n",
       "      <th>Wheelbase</th>\n",
       "      <th>Length</th>\n",
       "      <th>New_MSRP</th>\n",
       "    </tr>\n",
       "  </thead>\n",
       "  <tbody>\n",
       "    <tr>\n",
       "      <th>0</th>\n",
       "      <td>Acura</td>\n",
       "      <td>MDX</td>\n",
       "      <td>SUV</td>\n",
       "      <td>Asia</td>\n",
       "      <td>All</td>\n",
       "      <td>$36,945</td>\n",
       "      <td>$33,337</td>\n",
       "      <td>3.5</td>\n",
       "      <td>6.0</td>\n",
       "      <td>265</td>\n",
       "      <td>17</td>\n",
       "      <td>23</td>\n",
       "      <td>4451</td>\n",
       "      <td>106</td>\n",
       "      <td>189</td>\n",
       "      <td>36945</td>\n",
       "    </tr>\n",
       "  </tbody>\n",
       "</table>\n",
       "</div>"
      ],
      "text/plain": [
       "    Make Model Type Origin DriveTrain     MSRP  Invoice  EngineSize  \\\n",
       "0  Acura   MDX  SUV   Asia        All  $36,945  $33,337         3.5   \n",
       "\n",
       "   Cylinders  Horsepower  MPG_City  MPG_Highway  Weight  Wheelbase  Length  \\\n",
       "0        6.0         265        17           23    4451        106     189   \n",
       "\n",
       "  New_MSRP  \n",
       "0    36945  "
      ]
     },
     "execution_count": 34,
     "metadata": {},
     "output_type": "execute_result"
    }
   ],
   "source": [
    "cars.head(1)"
   ]
  },
  {
   "cell_type": "markdown",
   "id": "fb0f2b61",
   "metadata": {},
   "source": [
    "### Show all records of Asia and Europe"
   ]
  },
  {
   "cell_type": "code",
   "execution_count": 37,
   "id": "da491d9e",
   "metadata": {},
   "outputs": [
    {
     "data": {
      "text/plain": [
       "Make           279\n",
       "Model          279\n",
       "Type           279\n",
       "Origin         279\n",
       "DriveTrain     279\n",
       "MSRP           279\n",
       "Invoice        279\n",
       "EngineSize     279\n",
       "Cylinders      279\n",
       "Horsepower     279\n",
       "MPG_City       279\n",
       "MPG_Highway    279\n",
       "Weight         279\n",
       "Wheelbase      279\n",
       "Length         279\n",
       "New_MSRP       279\n",
       "dtype: int64"
      ]
     },
     "execution_count": 37,
     "metadata": {},
     "output_type": "execute_result"
    }
   ],
   "source": [
    "cars[cars['Origin'].isin(['Asia','Europe'])].count()"
   ]
  },
  {
   "cell_type": "code",
   "execution_count": 40,
   "id": "5ece4e95",
   "metadata": {},
   "outputs": [
    {
     "data": {
      "text/plain": [
       "Make            24\n",
       "Model          276\n",
       "Type             6\n",
       "Origin           2\n",
       "DriveTrain       3\n",
       "MSRP           271\n",
       "Invoice        276\n",
       "EngineSize      33\n",
       "Cylinders        6\n",
       "Horsepower      92\n",
       "MPG_City        26\n",
       "MPG_Highway     31\n",
       "Weight         233\n",
       "Wheelbase       34\n",
       "Length          53\n",
       "New_MSRP       271\n",
       "dtype: int64"
      ]
     },
     "execution_count": 40,
     "metadata": {},
     "output_type": "execute_result"
    }
   ],
   "source": [
    "cars[cars['Origin'].isin(['Asia','Europe'])].nunique()"
   ]
  },
  {
   "cell_type": "markdown",
   "id": "88d3ba3c",
   "metadata": {},
   "source": [
    "### Change column type"
   ]
  },
  {
   "cell_type": "code",
   "execution_count": 61,
   "id": "32d2bd61",
   "metadata": {},
   "outputs": [],
   "source": [
    "cars['New_MSRP']=pd.to_numeric(cars['New_MSRP'])"
   ]
  },
  {
   "cell_type": "code",
   "execution_count": 62,
   "id": "024de73a",
   "metadata": {},
   "outputs": [
    {
     "data": {
      "text/plain": [
       "dtype('int64')"
      ]
     },
     "execution_count": 62,
     "metadata": {},
     "output_type": "execute_result"
    }
   ],
   "source": [
    "cars.New_MSRP.dtype"
   ]
  },
  {
   "cell_type": "markdown",
   "id": "a48999d2",
   "metadata": {},
   "source": [
    "### Find which type has highest MSRP"
   ]
  },
  {
   "cell_type": "code",
   "execution_count": 77,
   "id": "2395f687",
   "metadata": {},
   "outputs": [
    {
     "data": {
      "text/html": [
       "<div>\n",
       "<style scoped>\n",
       "    .dataframe tbody tr th:only-of-type {\n",
       "        vertical-align: middle;\n",
       "    }\n",
       "\n",
       "    .dataframe tbody tr th {\n",
       "        vertical-align: top;\n",
       "    }\n",
       "\n",
       "    .dataframe thead th {\n",
       "        text-align: right;\n",
       "    }\n",
       "</style>\n",
       "<table border=\"1\" class=\"dataframe\">\n",
       "  <thead>\n",
       "    <tr style=\"text-align: right;\">\n",
       "      <th></th>\n",
       "      <th>New_MSRP</th>\n",
       "    </tr>\n",
       "    <tr>\n",
       "      <th>Type</th>\n",
       "      <th></th>\n",
       "    </tr>\n",
       "  </thead>\n",
       "  <tbody>\n",
       "    <tr>\n",
       "      <th>Sedan</th>\n",
       "      <td>7800688</td>\n",
       "    </tr>\n",
       "    <tr>\n",
       "      <th>Sports</th>\n",
       "      <td>2563066</td>\n",
       "    </tr>\n",
       "    <tr>\n",
       "      <th>SUV</th>\n",
       "      <td>2087415</td>\n",
       "    </tr>\n",
       "    <tr>\n",
       "      <th>Wagon</th>\n",
       "      <td>865216</td>\n",
       "    </tr>\n",
       "    <tr>\n",
       "      <th>Truck</th>\n",
       "      <td>598593</td>\n",
       "    </tr>\n",
       "    <tr>\n",
       "      <th>Hybrid</th>\n",
       "      <td>59760</td>\n",
       "    </tr>\n",
       "  </tbody>\n",
       "</table>\n",
       "</div>"
      ],
      "text/plain": [
       "        New_MSRP\n",
       "Type            \n",
       "Sedan    7800688\n",
       "Sports   2563066\n",
       "SUV      2087415\n",
       "Wagon     865216\n",
       "Truck     598593\n",
       "Hybrid     59760"
      ]
     },
     "execution_count": 77,
     "metadata": {},
     "output_type": "execute_result"
    }
   ],
   "source": [
    "cars.groupby(['Type'])[['New_MSRP']].sum().sort_values(by='New_MSRP',ascending=False)\n"
   ]
  },
  {
   "cell_type": "code",
   "execution_count": 78,
   "id": "6ff44bc5",
   "metadata": {},
   "outputs": [
    {
     "data": {
      "image/png": "[encoded data removed]",
      "text/plain": [
       "<Figure size 432x288 with 1 Axes>"
      ]
     },
     "metadata": {
      "needs_background": "light"
     },
     "output_type": "display_data"
    }
   ],
   "source": [
    "cars.groupby(['Type'])['New_MSRP'].sum().sort_values(ascending=False).plot(kind='bar')\n",
    "\n",
    "\n",
    "plt.tight_layout()\n",
    "plt.xticks(rotation=360);"
   ]
  },
  {
   "cell_type": "markdown",
   "id": "f8bff987",
   "metadata": {},
   "source": [
    "###                                                                                Thank You"
   ]
  },
  {
   "cell_type": "code",
   "execution_count": null,
   "id": "ae8e38a3",
   "metadata": {},
   "outputs": [],
   "source": []
  }
 ],
 "metadata": {
  "kernelspec": {
   "display_name": "Python 3 (ipykernel)",
   "language": "python",
   "name": "python3"
  },
  "language_info": {
   "codemirror_mode": {
    "name": "ipython",
    "version": 3
   },
   "file_extension": ".py",
   "mimetype": "text/x-python",
   "name": "python",
   "nbconvert_exporter": "python",
   "pygments_lexer": "ipython3",
   "version": "3.9.7"
  }
 },
 "nbformat": 4,
 "nbformat_minor": 5
}
