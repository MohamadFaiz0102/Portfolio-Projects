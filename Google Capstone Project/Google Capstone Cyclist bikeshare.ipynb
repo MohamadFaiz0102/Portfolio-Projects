{
 "cells": [
  {
   "cell_type": "markdown",
   "id": "59427282",
   "metadata": {},
   "source": [
    "## Google Data Analytics Professional Certificate Capstone Project\n",
    "\n",
    "> ### By Mohamad Ehthesham S"
   ]
  },
  {
   "attachments": {
    "image.png": {
     "image/png": "[encoded data removed]"
    }
   },
   "cell_type": "markdown",
   "id": "220adc47",
   "metadata": {},
   "source": [
    "> ### Case Study: How Does a Bike-Share Navigate Speedy Success? ![image.png](attachment:image.png)"
   ]
  },
  {
   "cell_type": "markdown",
   "id": "d986c341",
   "metadata": {},
   "source": [
    "* LinkedIn - https://www.linkedin.com/in/-mohamad-ehthesham/overlay/contact-info/\n",
    "\n",
    "\n",
    "* Mail-Id - mohammedfaiz0102@gmail.com\n",
    "\n",
    "\n",
    "* GitHub - https://github.com/MohamadFaiz0102\n",
    "\n",
    "\n",
    "* [Coursera certificate](https://coursera.org/verify/professional-cert/9FGX4GLHS973)"
   ]
  },
  {
   "cell_type": "markdown",
   "id": "c5a7863d",
   "metadata": {},
   "source": [
    "## Project Introduction"
   ]
  },
  {
   "cell_type": "markdown",
   "id": "6a544612",
   "metadata": {},
   "source": [
    "This case study is the [Capstone Project](https://d3c33hcgiwev3.cloudfront.net/aacF81H_TsWnBfNR_x7FIg_36299b28fa0c4a5aba836111daad12f1_DAC8-Case-Study-1.pdf?Expires=1664755200&Signature=Ytw3RCtk28WupQ44s5lr6tdexZ5~rFjCUURDuNfWP~soWkq3ELgdAf1-OAxw2rd5YQ~fVX8TXhD0-7tV87Gu2vmC0N6IXNLC1V4fn~k3SYEorEIKKfL59Umfu9FRvBKLAIyzPp9PLNASmIN5mTH6bcaabbWyThtAudanbu2CT6k_&Key-Pair-Id=APKAJLTNE6QMUY6HBC5A) of [Google Data Analytics Professional Certificate](https://www.coursera.org/professional-certificates/google-data-analytics)\n",
    "In this case study I am working as a junior data analyst in the marketing analyst team at Cyclistic, a fictional bike-share company in Chicago.\n",
    "\n",
    "**Scenario**\n",
    "You are a junior data analyst working in the marketing analyst team at Cyclistic, a bike-share company in Chicago. The director\n",
    "of marketing believes the company’s future success depends on maximizing the number of annual memberships. Therefore,\n",
    "your team wants to understand how casual riders and annual members use Cyclistic bikes differently. From these insights,\n",
    "your team will design a new marketing strategy to convert casual riders into annual members. But first, Cyclistic executives\n",
    "must approve your recommendations, so they must be backed up with compelling data insights and professional data\n",
    "visualizations.\n",
    "\n",
    "The director of marketing believes the company’s future success depends on maximizing the number of annual memberships. Therefore, my team wants to understand how casual riders and annual members use Cyclistic bikes differently. From the insights, our team will design a new marketing strategy to convert casual riders into annual members. But first, Cyclistic executives must approve our recommendations, so they must be backed up with compelling data insights and professional data visualizations.\n",
    "\n",
    "**In order to**\n",
    "answer the key business questions, you will follow the steps of the data analysis process: **ask, prepare, process, analyze,\n",
    "share, and act.**"
   ]
  },
  {
   "cell_type": "markdown",
   "id": "270b0238",
   "metadata": {},
   "source": [
    "- The data I used is **Cyclistic’s Historical Trip Data** to analyze and identify trends.\n",
    "- The **previous 6 months data**   **[Original Datasets link](https://divvy-tripdata.s3.amazonaws.com/index.html)**   from **2022 March 3 to 2022 August 30** is used for analysis.\n",
    "- The data is stored in **CSV files**. Each file contains **one month data**. Thus a total of 6 .csv files.\n",
    "- The data is **structured data** ie., Organised data.\n",
    "- The datasets have a different name because Cyclistic is a fictional company. For the purposes of this case study, the datasets are **appropriate.**\n",
    "- As of data Integrity, its **Accurate, Consistent and Trustworthy.**\n"
   ]
  },
  {
   "cell_type": "markdown",
   "id": "cb0aecb2",
   "metadata": {},
   "source": [
    "### Ask\n",
    "Three questions will guide the future marketing program:\n",
    "1. How do annual members and casual riders use Cyclistic bikes differently?\n",
    "2. Why would casual riders buy Cyclistic annual memberships?\n",
    "3. How can Cyclistic use digital media to influence casual riders to become members?"
   ]
  },
  {
   "cell_type": "markdown",
   "id": "2d42ba84",
   "metadata": {},
   "source": [
    "### Cleaning\n",
    "\n",
    "Most of the cleaning process I have done in **MS Excel** like -\n",
    "- changing datatypes of datetime to correct format i.e yyy-mm-dd\n",
    "- sorting column as per date \n",
    "- removing column and row duplicates from dataset and also removing any inconsistency\n",
    "- creating new columns of ride_id_length, \n",
    "    - started_date, ended_date,   \n",
    "    - started_time,ended_time,\n",
    "    - ride_length_miniutes,\n",
    "    - week_day_number,\n",
    "    - extraction of day from started_date column "
   ]
  },
  {
   "cell_type": "markdown",
   "id": "f36a4afb",
   "metadata": {},
   "source": [
    "## Process / Clean"
   ]
  },
  {
   "cell_type": "code",
   "execution_count": 1,
   "id": "8f2c6949",
   "metadata": {},
   "outputs": [],
   "source": [
    "import pandas as pd\n",
    "import matplotlib.pyplot as plt\n",
    "import matplotlib as mpl\n",
    "\n",
    "import datetime as dt\n",
    "\n",
    "import seaborn as sns\n",
    "\n",
    "%matplotlib inline"
   ]
  },
  {
   "cell_type": "code",
   "execution_count": 2,
   "id": "2a5ab92a",
   "metadata": {
    "scrolled": false
   },
   "outputs": [],
   "source": [
    "month1=pd.read_csv(r'C:\\Users\\Faiz\\Music\\Coursera\\part 7\\Python\\New folder (2)\\month1.csv',sep=',',parse_dates=[14,16],encoding='utf-8-sig', usecols= ['ride_id','ride_id_length','rideable_type','started_at','ended_at','start_station_name','start_station_id','end_station_name','end_station_id','start_lat','start_lng','end_lat','end_lng','member_casual','started_date','started_time','ended_date','ended_time','week_day_number','day_name','ride_length','ride_length_minutes'])\n",
    "month2=pd.read_csv(r'C:\\Users\\Faiz\\Music\\Coursera\\part 7\\Python\\New folder (2)\\month2.csv',sep=',',parse_dates=[14,16],encoding='utf-8-sig', usecols= ['ride_id','ride_id_length','rideable_type','started_at','ended_at','start_station_name','start_station_id','end_station_name','end_station_id','start_lat','start_lng','end_lat','end_lng','member_casual','started_date','started_time','ended_date','ended_time','week_day_number','day_name','ride_length','ride_length_minutes'])\n",
    "month3=pd.read_csv(r'C:\\Users\\Faiz\\Music\\Coursera\\part 7\\Python\\New folder (2)\\month3.csv',sep=',',parse_dates=[14,16],encoding='utf-8-sig', usecols= ['ride_id','ride_id_length','rideable_type','started_at','ended_at','start_station_name','start_station_id','end_station_name','end_station_id','start_lat','start_lng','end_lat','end_lng','member_casual','started_date','started_time','ended_date','ended_time','week_day_number','day_name','ride_length','ride_length_minutes'])\n",
    "month4=pd.read_csv(r'C:\\Users\\Faiz\\Music\\Coursera\\part 7\\Python\\New folder (2)\\month4.csv',sep=',',parse_dates=[14,16],encoding='utf-8-sig', usecols= ['ride_id','ride_id_length','rideable_type','started_at','ended_at','start_station_name','start_station_id','end_station_name','end_station_id','start_lat','start_lng','end_lat','end_lng','member_casual','started_date','started_time','ended_date','ended_time','week_day_number','day_name','ride_length','ride_length_minutes'])\n",
    "month5=pd.read_csv(r'C:\\Users\\Faiz\\Music\\Coursera\\part 7\\Python\\New folder (2)\\month5.csv',sep=',',parse_dates=[14,16],encoding='utf-8-sig', usecols= ['ride_id','ride_id_length','rideable_type','started_at','ended_at','start_station_name','start_station_id','end_station_name','end_station_id','start_lat','start_lng','end_lat','end_lng','member_casual','started_date','started_time','ended_date','ended_time','week_day_number','day_name','ride_length','ride_length_minutes'])\n",
    "month6=pd.read_csv(r'C:\\Users\\Faiz\\Music\\Coursera\\part 7\\Python\\New folder (2)\\month6.csv',sep=',',parse_dates=[14,16],encoding='utf-8-sig', usecols= ['ride_id','ride_id_length','rideable_type','started_at','ended_at','start_station_name','start_station_id','end_station_name','end_station_id','start_lat','start_lng','end_lat','end_lng','member_casual','started_date','started_time','ended_date','ended_time','week_day_number','day_name','ride_length','ride_length_minutes'])\n"
   ]
  },
  {
   "cell_type": "markdown",
   "id": "4d06714e",
   "metadata": {},
   "source": [
    "### Merge all files into one single file"
   ]
  },
  {
   "cell_type": "code",
   "execution_count": 3,
   "id": "f5bf6e4c",
   "metadata": {},
   "outputs": [],
   "source": [
    "data=pd.concat([month1,month2,month3,month4,month4,month5,month6],ignore_index=True)"
   ]
  },
  {
   "cell_type": "code",
   "execution_count": 4,
   "id": "cbc20422",
   "metadata": {},
   "outputs": [
    {
     "data": {
      "text/html": [
       "<div>\n",
       "<style scoped>\n",
       "    .dataframe tbody tr th:only-of-type {\n",
       "        vertical-align: middle;\n",
       "    }\n",
       "\n",
       "    .dataframe tbody tr th {\n",
       "        vertical-align: top;\n",
       "    }\n",
       "\n",
       "    .dataframe thead th {\n",
       "        text-align: right;\n",
       "    }\n",
       "</style>\n",
       "<table border=\"1\" class=\"dataframe\">\n",
       "  <thead>\n",
       "    <tr style=\"text-align: right;\">\n",
       "      <th></th>\n",
       "      <th>ride_id</th>\n",
       "      <th>ride_id_length</th>\n",
       "      <th>rideable_type</th>\n",
       "      <th>started_at</th>\n",
       "      <th>ended_at</th>\n",
       "      <th>start_station_name</th>\n",
       "      <th>start_station_id</th>\n",
       "      <th>end_station_name</th>\n",
       "      <th>end_station_id</th>\n",
       "      <th>start_lat</th>\n",
       "      <th>...</th>\n",
       "      <th>end_lng</th>\n",
       "      <th>member_casual</th>\n",
       "      <th>started_date</th>\n",
       "      <th>started_time</th>\n",
       "      <th>ended_date</th>\n",
       "      <th>ended_time</th>\n",
       "      <th>week_day_number</th>\n",
       "      <th>day_name</th>\n",
       "      <th>ride_length</th>\n",
       "      <th>ride_length_minutes</th>\n",
       "    </tr>\n",
       "  </thead>\n",
       "  <tbody>\n",
       "    <tr>\n",
       "      <th>0</th>\n",
       "      <td>47EC0A7F82E65D52</td>\n",
       "      <td>16</td>\n",
       "      <td>classic_bike</td>\n",
       "      <td>21-03-2022 13.45</td>\n",
       "      <td>21-03-2022 13.51</td>\n",
       "      <td>Wabash Ave &amp; Wacker Pl</td>\n",
       "      <td>TA1307000131</td>\n",
       "      <td>Kingsbury St &amp; Kinzie St</td>\n",
       "      <td>KA1503000043</td>\n",
       "      <td>41.886875</td>\n",
       "      <td>...</td>\n",
       "      <td>-87.638506</td>\n",
       "      <td>member</td>\n",
       "      <td>2022-03-21</td>\n",
       "      <td>1.45.01 PM</td>\n",
       "      <td>2022-03-21</td>\n",
       "      <td>1.51.18 PM</td>\n",
       "      <td>2</td>\n",
       "      <td>Monday</td>\n",
       "      <td>0.06.17</td>\n",
       "      <td>6.28</td>\n",
       "    </tr>\n",
       "    <tr>\n",
       "      <th>1</th>\n",
       "      <td>8494861979B0F477</td>\n",
       "      <td>16</td>\n",
       "      <td>electric_bike</td>\n",
       "      <td>16-03-2022 9.37</td>\n",
       "      <td>16-03-2022 9.43</td>\n",
       "      <td>Michigan Ave &amp; Oak St</td>\n",
       "      <td>13042</td>\n",
       "      <td>Orleans St &amp; Chestnut St (NEXT Apts)</td>\n",
       "      <td>620</td>\n",
       "      <td>41.900998</td>\n",
       "      <td>...</td>\n",
       "      <td>-87.637536</td>\n",
       "      <td>member</td>\n",
       "      <td>2022-03-16</td>\n",
       "      <td>9.37.16 AM</td>\n",
       "      <td>2022-03-16</td>\n",
       "      <td>9.43.34 AM</td>\n",
       "      <td>4</td>\n",
       "      <td>Wednesday</td>\n",
       "      <td>0.06.18</td>\n",
       "      <td>6.30</td>\n",
       "    </tr>\n",
       "  </tbody>\n",
       "</table>\n",
       "<p>2 rows × 22 columns</p>\n",
       "</div>"
      ],
      "text/plain": [
       "            ride_id  ride_id_length  rideable_type        started_at  \\\n",
       "0  47EC0A7F82E65D52              16   classic_bike  21-03-2022 13.45   \n",
       "1  8494861979B0F477              16  electric_bike   16-03-2022 9.37   \n",
       "\n",
       "           ended_at      start_station_name start_station_id  \\\n",
       "0  21-03-2022 13.51  Wabash Ave & Wacker Pl     TA1307000131   \n",
       "1   16-03-2022 9.43   Michigan Ave & Oak St            13042   \n",
       "\n",
       "                       end_station_name end_station_id  start_lat  ...  \\\n",
       "0              Kingsbury St & Kinzie St   KA1503000043  41.886875  ...   \n",
       "1  Orleans St & Chestnut St (NEXT Apts)            620  41.900998  ...   \n",
       "\n",
       "     end_lng  member_casual  started_date started_time ended_date  ended_time  \\\n",
       "0 -87.638506         member    2022-03-21   1.45.01 PM 2022-03-21  1.51.18 PM   \n",
       "1 -87.637536         member    2022-03-16   9.37.16 AM 2022-03-16  9.43.34 AM   \n",
       "\n",
       "  week_day_number   day_name  ride_length ride_length_minutes  \n",
       "0               2     Monday      0.06.17                6.28  \n",
       "1               4  Wednesday      0.06.18                6.30  \n",
       "\n",
       "[2 rows x 22 columns]"
      ]
     },
     "execution_count": 4,
     "metadata": {},
     "output_type": "execute_result"
    }
   ],
   "source": [
    "data.head(2)"
   ]
  },
  {
   "cell_type": "code",
   "execution_count": 5,
   "id": "a316791c",
   "metadata": {
    "scrolled": false
   },
   "outputs": [
    {
     "name": "stdout",
     "output_type": "stream",
     "text": [
      "<class 'pandas.core.frame.DataFrame'>\n",
      "RangeIndex: 4437977 entries, 0 to 4437976\n",
      "Data columns (total 22 columns):\n",
      " #   Column               Dtype         \n",
      "---  ------               -----         \n",
      " 0   ride_id              object        \n",
      " 1   ride_id_length       int64         \n",
      " 2   rideable_type        object        \n",
      " 3   started_at           object        \n",
      " 4   ended_at             object        \n",
      " 5   start_station_name   object        \n",
      " 6   start_station_id     object        \n",
      " 7   end_station_name     object        \n",
      " 8   end_station_id       object        \n",
      " 9   start_lat            float64       \n",
      " 10  start_lng            float64       \n",
      " 11  end_lat              float64       \n",
      " 12  end_lng              float64       \n",
      " 13  member_casual        object        \n",
      " 14  started_date         datetime64[ns]\n",
      " 15  started_time         object        \n",
      " 16  ended_date           datetime64[ns]\n",
      " 17  ended_time           object        \n",
      " 18  week_day_number      int64         \n",
      " 19  day_name             object        \n",
      " 20  ride_length          object        \n",
      " 21  ride_length_minutes  float64       \n",
      "dtypes: datetime64[ns](2), float64(5), int64(2), object(13)\n",
      "memory usage: 744.9+ MB\n"
     ]
    }
   ],
   "source": [
    "data.info()"
   ]
  },
  {
   "cell_type": "markdown",
   "id": "a0f312ff",
   "metadata": {},
   "source": [
    "### Droping unnessary columns"
   ]
  },
  {
   "cell_type": "code",
   "execution_count": 6,
   "id": "1f7d05d3",
   "metadata": {},
   "outputs": [],
   "source": [
    "data.drop(columns=['start_lat','start_lng','end_lat','end_lng'],inplace=True)"
   ]
  },
  {
   "cell_type": "code",
   "execution_count": 7,
   "id": "eb9fc28d",
   "metadata": {},
   "outputs": [
    {
     "data": {
      "text/html": [
       "<div>\n",
       "<style scoped>\n",
       "    .dataframe tbody tr th:only-of-type {\n",
       "        vertical-align: middle;\n",
       "    }\n",
       "\n",
       "    .dataframe tbody tr th {\n",
       "        vertical-align: top;\n",
       "    }\n",
       "\n",
       "    .dataframe thead th {\n",
       "        text-align: right;\n",
       "    }\n",
       "</style>\n",
       "<table border=\"1\" class=\"dataframe\">\n",
       "  <thead>\n",
       "    <tr style=\"text-align: right;\">\n",
       "      <th></th>\n",
       "      <th>ride_id</th>\n",
       "      <th>ride_id_length</th>\n",
       "      <th>rideable_type</th>\n",
       "      <th>started_at</th>\n",
       "      <th>ended_at</th>\n",
       "      <th>start_station_name</th>\n",
       "      <th>start_station_id</th>\n",
       "      <th>end_station_name</th>\n",
       "      <th>end_station_id</th>\n",
       "      <th>member_casual</th>\n",
       "      <th>started_date</th>\n",
       "      <th>started_time</th>\n",
       "      <th>ended_date</th>\n",
       "      <th>ended_time</th>\n",
       "      <th>week_day_number</th>\n",
       "      <th>day_name</th>\n",
       "      <th>ride_length</th>\n",
       "      <th>ride_length_minutes</th>\n",
       "    </tr>\n",
       "  </thead>\n",
       "  <tbody>\n",
       "    <tr>\n",
       "      <th>0</th>\n",
       "      <td>47EC0A7F82E65D52</td>\n",
       "      <td>16</td>\n",
       "      <td>classic_bike</td>\n",
       "      <td>21-03-2022 13.45</td>\n",
       "      <td>21-03-2022 13.51</td>\n",
       "      <td>Wabash Ave &amp; Wacker Pl</td>\n",
       "      <td>TA1307000131</td>\n",
       "      <td>Kingsbury St &amp; Kinzie St</td>\n",
       "      <td>KA1503000043</td>\n",
       "      <td>member</td>\n",
       "      <td>2022-03-21</td>\n",
       "      <td>1.45.01 PM</td>\n",
       "      <td>2022-03-21</td>\n",
       "      <td>1.51.18 PM</td>\n",
       "      <td>2</td>\n",
       "      <td>Monday</td>\n",
       "      <td>0.06.17</td>\n",
       "      <td>6.28</td>\n",
       "    </tr>\n",
       "    <tr>\n",
       "      <th>1</th>\n",
       "      <td>8494861979B0F477</td>\n",
       "      <td>16</td>\n",
       "      <td>electric_bike</td>\n",
       "      <td>16-03-2022 9.37</td>\n",
       "      <td>16-03-2022 9.43</td>\n",
       "      <td>Michigan Ave &amp; Oak St</td>\n",
       "      <td>13042</td>\n",
       "      <td>Orleans St &amp; Chestnut St (NEXT Apts)</td>\n",
       "      <td>620</td>\n",
       "      <td>member</td>\n",
       "      <td>2022-03-16</td>\n",
       "      <td>9.37.16 AM</td>\n",
       "      <td>2022-03-16</td>\n",
       "      <td>9.43.34 AM</td>\n",
       "      <td>4</td>\n",
       "      <td>Wednesday</td>\n",
       "      <td>0.06.18</td>\n",
       "      <td>6.30</td>\n",
       "    </tr>\n",
       "  </tbody>\n",
       "</table>\n",
       "</div>"
      ],
      "text/plain": [
       "            ride_id  ride_id_length  rideable_type        started_at  \\\n",
       "0  47EC0A7F82E65D52              16   classic_bike  21-03-2022 13.45   \n",
       "1  8494861979B0F477              16  electric_bike   16-03-2022 9.37   \n",
       "\n",
       "           ended_at      start_station_name start_station_id  \\\n",
       "0  21-03-2022 13.51  Wabash Ave & Wacker Pl     TA1307000131   \n",
       "1   16-03-2022 9.43   Michigan Ave & Oak St            13042   \n",
       "\n",
       "                       end_station_name end_station_id member_casual  \\\n",
       "0              Kingsbury St & Kinzie St   KA1503000043        member   \n",
       "1  Orleans St & Chestnut St (NEXT Apts)            620        member   \n",
       "\n",
       "  started_date started_time ended_date  ended_time  week_day_number  \\\n",
       "0   2022-03-21   1.45.01 PM 2022-03-21  1.51.18 PM                2   \n",
       "1   2022-03-16   9.37.16 AM 2022-03-16  9.43.34 AM                4   \n",
       "\n",
       "    day_name ride_length  ride_length_minutes  \n",
       "0     Monday     0.06.17                 6.28  \n",
       "1  Wednesday     0.06.18                 6.30  "
      ]
     },
     "execution_count": 7,
     "metadata": {},
     "output_type": "execute_result"
    }
   ],
   "source": [
    "data.head(2)"
   ]
  },
  {
   "cell_type": "markdown",
   "id": "1d5ae8aa",
   "metadata": {},
   "source": [
    "### removing negative values in ride length_minutes"
   ]
  },
  {
   "cell_type": "markdown",
   "id": "835bc685",
   "metadata": {},
   "source": [
    "   - There are negative values in ride_length\n",
    "   - Such errors happened because the \"ending time\" is earlier than the \"starting time\" in their respective rows.\n",
    "   -Number of rows containing \"ride length\" less than \"1\" minute.\n",
    "   -Any trips that were below 60 seconds in length are potentially false starts or users trying to re-dock a bike to ensure it  was secure"
   ]
  },
  {
   "cell_type": "code",
   "execution_count": 8,
   "id": "2423ecb0",
   "metadata": {
    "scrolled": true
   },
   "outputs": [
    {
     "data": {
      "text/plain": [
       "ride_id                18\n",
       "ride_id_length         18\n",
       "rideable_type          18\n",
       "started_at             18\n",
       "ended_at               18\n",
       "start_station_name     15\n",
       "start_station_id       15\n",
       "end_station_name       17\n",
       "end_station_id         17\n",
       "member_casual          18\n",
       "started_date           18\n",
       "started_time           18\n",
       "ended_date             18\n",
       "ended_time             18\n",
       "week_day_number        18\n",
       "day_name               18\n",
       "ride_length            18\n",
       "ride_length_minutes    18\n",
       "dtype: int64"
      ]
     },
     "execution_count": 8,
     "metadata": {},
     "output_type": "execute_result"
    }
   ],
   "source": [
    "data[data['ride_length_minutes']<0].count()"
   ]
  },
  {
   "cell_type": "code",
   "execution_count": 9,
   "id": "27059f71",
   "metadata": {
    "scrolled": true
   },
   "outputs": [
    {
     "data": {
      "text/plain": [
       "ride_id                90937\n",
       "ride_id_length         90937\n",
       "rideable_type          90937\n",
       "started_at             90937\n",
       "ended_at               90937\n",
       "start_station_name     69745\n",
       "start_station_id       69745\n",
       "end_station_name       60774\n",
       "end_station_id         49284\n",
       "member_casual          90937\n",
       "started_date           90937\n",
       "started_time           90937\n",
       "ended_date             90937\n",
       "ended_time             90937\n",
       "week_day_number        90937\n",
       "day_name               90937\n",
       "ride_length            90937\n",
       "ride_length_minutes    90937\n",
       "dtype: int64"
      ]
     },
     "execution_count": 9,
     "metadata": {},
     "output_type": "execute_result"
    }
   ],
   "source": [
    "data[data['ride_length_minutes']<1].count()"
   ]
  },
  {
   "cell_type": "markdown",
   "id": "c4f256df",
   "metadata": {},
   "source": [
    "- so removing 90929 <1 min  values and negative values "
   ]
  },
  {
   "cell_type": "code",
   "execution_count": 10,
   "id": "fe9efc29",
   "metadata": {
    "scrolled": true
   },
   "outputs": [
    {
     "data": {
      "text/plain": [
       "ride_id                0\n",
       "ride_id_length         0\n",
       "rideable_type          0\n",
       "started_at             0\n",
       "ended_at               0\n",
       "start_station_name     0\n",
       "start_station_id       0\n",
       "end_station_name       0\n",
       "end_station_id         0\n",
       "member_casual          0\n",
       "started_date           0\n",
       "started_time           0\n",
       "ended_date             0\n",
       "ended_time             0\n",
       "week_day_number        0\n",
       "day_name               0\n",
       "ride_length            0\n",
       "ride_length_minutes    0\n",
       "dtype: int64"
      ]
     },
     "execution_count": 10,
     "metadata": {},
     "output_type": "execute_result"
    }
   ],
   "source": [
    "# taking only above 1 min values\n",
    "data = data[data['ride_length_minutes'] >= 1]\n",
    "\n",
    "data[data['ride_length_minutes']<1].count()"
   ]
  },
  {
   "cell_type": "code",
   "execution_count": 11,
   "id": "25536895",
   "metadata": {},
   "outputs": [
    {
     "name": "stdout",
     "output_type": "stream",
     "text": [
      "<class 'pandas.core.frame.DataFrame'>\n",
      "Int64Index: 4347040 entries, 0 to 4437975\n",
      "Data columns (total 18 columns):\n",
      " #   Column               Dtype         \n",
      "---  ------               -----         \n",
      " 0   ride_id              object        \n",
      " 1   ride_id_length       int64         \n",
      " 2   rideable_type        object        \n",
      " 3   started_at           object        \n",
      " 4   ended_at             object        \n",
      " 5   start_station_name   object        \n",
      " 6   start_station_id     object        \n",
      " 7   end_station_name     object        \n",
      " 8   end_station_id       object        \n",
      " 9   member_casual        object        \n",
      " 10  started_date         datetime64[ns]\n",
      " 11  started_time         object        \n",
      " 12  ended_date           datetime64[ns]\n",
      " 13  ended_time           object        \n",
      " 14  week_day_number      int64         \n",
      " 15  day_name             object        \n",
      " 16  ride_length          object        \n",
      " 17  ride_length_minutes  float64       \n",
      "dtypes: datetime64[ns](2), float64(1), int64(2), object(13)\n",
      "memory usage: 630.1+ MB\n"
     ]
    }
   ],
   "source": [
    "data.info()"
   ]
  },
  {
   "cell_type": "markdown",
   "id": "5a11fa4d",
   "metadata": {},
   "source": [
    "### Getting month name from date into seprate column"
   ]
  },
  {
   "cell_type": "code",
   "execution_count": 12,
   "id": "f36973e4",
   "metadata": {},
   "outputs": [
    {
     "data": {
      "text/html": [
       "<div>\n",
       "<style scoped>\n",
       "    .dataframe tbody tr th:only-of-type {\n",
       "        vertical-align: middle;\n",
       "    }\n",
       "\n",
       "    .dataframe tbody tr th {\n",
       "        vertical-align: top;\n",
       "    }\n",
       "\n",
       "    .dataframe thead th {\n",
       "        text-align: right;\n",
       "    }\n",
       "</style>\n",
       "<table border=\"1\" class=\"dataframe\">\n",
       "  <thead>\n",
       "    <tr style=\"text-align: right;\">\n",
       "      <th></th>\n",
       "      <th>ride_id</th>\n",
       "      <th>ride_id_length</th>\n",
       "      <th>rideable_type</th>\n",
       "      <th>started_at</th>\n",
       "      <th>ended_at</th>\n",
       "      <th>start_station_name</th>\n",
       "      <th>start_station_id</th>\n",
       "      <th>end_station_name</th>\n",
       "      <th>end_station_id</th>\n",
       "      <th>member_casual</th>\n",
       "      <th>started_date</th>\n",
       "      <th>started_time</th>\n",
       "      <th>ended_date</th>\n",
       "      <th>ended_time</th>\n",
       "      <th>week_day_number</th>\n",
       "      <th>day_name</th>\n",
       "      <th>ride_length</th>\n",
       "      <th>ride_length_minutes</th>\n",
       "      <th>month_name</th>\n",
       "    </tr>\n",
       "  </thead>\n",
       "  <tbody>\n",
       "    <tr>\n",
       "      <th>0</th>\n",
       "      <td>47EC0A7F82E65D52</td>\n",
       "      <td>16</td>\n",
       "      <td>classic_bike</td>\n",
       "      <td>21-03-2022 13.45</td>\n",
       "      <td>21-03-2022 13.51</td>\n",
       "      <td>Wabash Ave &amp; Wacker Pl</td>\n",
       "      <td>TA1307000131</td>\n",
       "      <td>Kingsbury St &amp; Kinzie St</td>\n",
       "      <td>KA1503000043</td>\n",
       "      <td>member</td>\n",
       "      <td>2022-03-21</td>\n",
       "      <td>1.45.01 PM</td>\n",
       "      <td>2022-03-21</td>\n",
       "      <td>1.51.18 PM</td>\n",
       "      <td>2</td>\n",
       "      <td>Monday</td>\n",
       "      <td>0.06.17</td>\n",
       "      <td>6.28</td>\n",
       "      <td>March</td>\n",
       "    </tr>\n",
       "    <tr>\n",
       "      <th>1</th>\n",
       "      <td>8494861979B0F477</td>\n",
       "      <td>16</td>\n",
       "      <td>electric_bike</td>\n",
       "      <td>16-03-2022 9.37</td>\n",
       "      <td>16-03-2022 9.43</td>\n",
       "      <td>Michigan Ave &amp; Oak St</td>\n",
       "      <td>13042</td>\n",
       "      <td>Orleans St &amp; Chestnut St (NEXT Apts)</td>\n",
       "      <td>620</td>\n",
       "      <td>member</td>\n",
       "      <td>2022-03-16</td>\n",
       "      <td>9.37.16 AM</td>\n",
       "      <td>2022-03-16</td>\n",
       "      <td>9.43.34 AM</td>\n",
       "      <td>4</td>\n",
       "      <td>Wednesday</td>\n",
       "      <td>0.06.18</td>\n",
       "      <td>6.30</td>\n",
       "      <td>March</td>\n",
       "    </tr>\n",
       "  </tbody>\n",
       "</table>\n",
       "</div>"
      ],
      "text/plain": [
       "            ride_id  ride_id_length  rideable_type        started_at  \\\n",
       "0  47EC0A7F82E65D52              16   classic_bike  21-03-2022 13.45   \n",
       "1  8494861979B0F477              16  electric_bike   16-03-2022 9.37   \n",
       "\n",
       "           ended_at      start_station_name start_station_id  \\\n",
       "0  21-03-2022 13.51  Wabash Ave & Wacker Pl     TA1307000131   \n",
       "1   16-03-2022 9.43   Michigan Ave & Oak St            13042   \n",
       "\n",
       "                       end_station_name end_station_id member_casual  \\\n",
       "0              Kingsbury St & Kinzie St   KA1503000043        member   \n",
       "1  Orleans St & Chestnut St (NEXT Apts)            620        member   \n",
       "\n",
       "  started_date started_time ended_date  ended_time  week_day_number  \\\n",
       "0   2022-03-21   1.45.01 PM 2022-03-21  1.51.18 PM                2   \n",
       "1   2022-03-16   9.37.16 AM 2022-03-16  9.43.34 AM                4   \n",
       "\n",
       "    day_name ride_length  ride_length_minutes month_name  \n",
       "0     Monday     0.06.17                 6.28      March  \n",
       "1  Wednesday     0.06.18                 6.30      March  "
      ]
     },
     "execution_count": 12,
     "metadata": {},
     "output_type": "execute_result"
    }
   ],
   "source": [
    "data['month_name']=data['started_date'].dt.month_name(locale='English')\n",
    "data.head(2)"
   ]
  },
  {
   "cell_type": "markdown",
   "id": "318b174c",
   "metadata": {},
   "source": [
    "## Analyze / Share"
   ]
  },
  {
   "cell_type": "markdown",
   "id": "bdba9459",
   "metadata": {},
   "source": [
    "### - Total distribution of Member and Casual Rider in 6 months"
   ]
  },
  {
   "cell_type": "code",
   "execution_count": 14,
   "id": "9891f1aa",
   "metadata": {
    "scrolled": false
   },
   "outputs": [
    {
     "data": {
      "image/png": "[encoded data removed]",
      "text/plain": [
       "<Figure size 360x360 with 1 Axes>"
      ]
     },
     "metadata": {},
     "output_type": "display_data"
    }
   ],
   "source": [
    "a1=data.groupby(['member_casual'])['ride_id'].count()\n",
    "explode=[0.02,0.02]\n",
    "\n",
    "a1.plot(kind='pie',figsize=(5,5),wedgeprops={'linewidth':0.5,'edgecolor':'black'},colors=('olive','lightblue'),\n",
    "        startangle=140,autopct='%1.1f%%',shadow=True,labels=None,explode=explode)\n",
    "plt.legend(labels=a1.index,loc='upper right')\n",
    "\n",
    "plt.tight_layout();"
   ]
  },
  {
   "cell_type": "markdown",
   "id": "a6c7d6a5",
   "metadata": {},
   "source": [
    "### Total Number of Rides in Each Month"
   ]
  },
  {
   "cell_type": "code",
   "execution_count": 72,
   "id": "a3006901",
   "metadata": {
    "scrolled": false
   },
   "outputs": [
    {
     "data": {
      "text/html": [
       "<div>\n",
       "<style scoped>\n",
       "    .dataframe tbody tr th:only-of-type {\n",
       "        vertical-align: middle;\n",
       "    }\n",
       "\n",
       "    .dataframe tbody tr th {\n",
       "        vertical-align: top;\n",
       "    }\n",
       "\n",
       "    .dataframe thead th {\n",
       "        text-align: right;\n",
       "    }\n",
       "</style>\n",
       "<table border=\"1\" class=\"dataframe\">\n",
       "  <thead>\n",
       "    <tr style=\"text-align: right;\">\n",
       "      <th></th>\n",
       "      <th></th>\n",
       "      <th>ride_id</th>\n",
       "    </tr>\n",
       "    <tr>\n",
       "      <th>month_name</th>\n",
       "      <th>member_casual</th>\n",
       "      <th></th>\n",
       "    </tr>\n",
       "  </thead>\n",
       "  <tbody>\n",
       "    <tr>\n",
       "      <th rowspan=\"2\" valign=\"top\">April</th>\n",
       "      <th>casual</th>\n",
       "      <td>124080</td>\n",
       "    </tr>\n",
       "    <tr>\n",
       "      <th>member</th>\n",
       "      <td>239853</td>\n",
       "    </tr>\n",
       "    <tr>\n",
       "      <th rowspan=\"2\" valign=\"top\">August</th>\n",
       "      <th>casual</th>\n",
       "      <td>351164</td>\n",
       "    </tr>\n",
       "    <tr>\n",
       "      <th>member</th>\n",
       "      <td>417206</td>\n",
       "    </tr>\n",
       "    <tr>\n",
       "      <th rowspan=\"2\" valign=\"top\">July</th>\n",
       "      <th>casual</th>\n",
       "      <td>397655</td>\n",
       "    </tr>\n",
       "    <tr>\n",
       "      <th>member</th>\n",
       "      <td>408032</td>\n",
       "    </tr>\n",
       "    <tr>\n",
       "      <th rowspan=\"2\" valign=\"top\">June</th>\n",
       "      <th>casual</th>\n",
       "      <td>723870</td>\n",
       "    </tr>\n",
       "    <tr>\n",
       "      <th>member</th>\n",
       "      <td>783792</td>\n",
       "    </tr>\n",
       "    <tr>\n",
       "      <th rowspan=\"2\" valign=\"top\">March</th>\n",
       "      <th>casual</th>\n",
       "      <td>88343</td>\n",
       "    </tr>\n",
       "    <tr>\n",
       "      <th>member</th>\n",
       "      <td>190601</td>\n",
       "    </tr>\n",
       "    <tr>\n",
       "      <th rowspan=\"2\" valign=\"top\">May</th>\n",
       "      <th>casual</th>\n",
       "      <td>275125</td>\n",
       "    </tr>\n",
       "    <tr>\n",
       "      <th>member</th>\n",
       "      <td>347319</td>\n",
       "    </tr>\n",
       "  </tbody>\n",
       "</table>\n",
       "</div>"
      ],
      "text/plain": [
       "                          ride_id\n",
       "month_name member_casual         \n",
       "April      casual          124080\n",
       "           member          239853\n",
       "August     casual          351164\n",
       "           member          417206\n",
       "July       casual          397655\n",
       "           member          408032\n",
       "June       casual          723870\n",
       "           member          783792\n",
       "March      casual           88343\n",
       "           member          190601\n",
       "May        casual          275125\n",
       "           member          347319"
      ]
     },
     "execution_count": 72,
     "metadata": {},
     "output_type": "execute_result"
    }
   ],
   "source": [
    "p1=data.groupby(['month_name','member_casual'])[['ride_id']].count()\n",
    "p1"
   ]
  },
  {
   "cell_type": "code",
   "execution_count": 67,
   "id": "580f14a7",
   "metadata": {},
   "outputs": [
    {
     "data": {
      "image/png": "[encoded data removed]",
      "text/plain": [
       "<Figure size 576x432 with 1 Axes>"
      ]
     },
     "metadata": {},
     "output_type": "display_data"
    }
   ],
   "source": [
    "a3=data.groupby(['month_name','member_casual'])['ride_id'].count()\n",
    "a3.unstack().plot(kind='bar',figsize=(8,6))\n",
    "plt.style.use(\"ggplot\")\n",
    "plt.xticks(rotation=360)\n",
    "plt.tight_layout();"
   ]
  },
  {
   "cell_type": "code",
   "execution_count": 68,
   "id": "556a48c0",
   "metadata": {
    "scrolled": false
   },
   "outputs": [
    {
     "data": {
      "image/png": "[encoded data removed]",
      "text/plain": [
       "<Figure size 576x432 with 1 Axes>"
      ]
     },
     "metadata": {},
     "output_type": "display_data"
    }
   ],
   "source": [
    "a3=data.groupby(['month_name','member_casual'])['ride_id'].count()\n",
    "a3.unstack().plot(kind='line',figsize=(8,6))\n",
    "plt.style.use(\"ggplot\")\n",
    "plt.xticks(rotation=360)\n",
    "plt.tight_layout();"
   ]
  },
  {
   "cell_type": "markdown",
   "id": "f1c23a64",
   "metadata": {},
   "source": [
    "### Average ride length in minutes per month"
   ]
  },
  {
   "cell_type": "code",
   "execution_count": 88,
   "id": "3580409f",
   "metadata": {
    "scrolled": false
   },
   "outputs": [
    {
     "data": {
      "text/html": [
       "<div>\n",
       "<style scoped>\n",
       "    .dataframe tbody tr th:only-of-type {\n",
       "        vertical-align: middle;\n",
       "    }\n",
       "\n",
       "    .dataframe tbody tr th {\n",
       "        vertical-align: top;\n",
       "    }\n",
       "\n",
       "    .dataframe thead th {\n",
       "        text-align: right;\n",
       "    }\n",
       "</style>\n",
       "<table border=\"1\" class=\"dataframe\">\n",
       "  <thead>\n",
       "    <tr style=\"text-align: right;\">\n",
       "      <th></th>\n",
       "      <th></th>\n",
       "      <th>ride_length_minutes</th>\n",
       "    </tr>\n",
       "    <tr>\n",
       "      <th>member_casual</th>\n",
       "      <th>month_name</th>\n",
       "      <th></th>\n",
       "    </tr>\n",
       "  </thead>\n",
       "  <tbody>\n",
       "    <tr>\n",
       "      <th rowspan=\"6\" valign=\"top\">casual</th>\n",
       "      <th>March</th>\n",
       "      <td>33.184094</td>\n",
       "    </tr>\n",
       "    <tr>\n",
       "      <th>May</th>\n",
       "      <td>31.455569</td>\n",
       "    </tr>\n",
       "    <tr>\n",
       "      <th>April</th>\n",
       "      <td>30.082005</td>\n",
       "    </tr>\n",
       "    <tr>\n",
       "      <th>August</th>\n",
       "      <td>29.948311</td>\n",
       "    </tr>\n",
       "    <tr>\n",
       "      <th>June</th>\n",
       "      <td>24.396659</td>\n",
       "    </tr>\n",
       "    <tr>\n",
       "      <th>July</th>\n",
       "      <td>24.053908</td>\n",
       "    </tr>\n",
       "    <tr>\n",
       "      <th rowspan=\"6\" valign=\"top\">member</th>\n",
       "      <th>June</th>\n",
       "      <td>13.933439</td>\n",
       "    </tr>\n",
       "    <tr>\n",
       "      <th>July</th>\n",
       "      <td>13.731979</td>\n",
       "    </tr>\n",
       "    <tr>\n",
       "      <th>August</th>\n",
       "      <td>13.688826</td>\n",
       "    </tr>\n",
       "    <tr>\n",
       "      <th>May</th>\n",
       "      <td>13.632638</td>\n",
       "    </tr>\n",
       "    <tr>\n",
       "      <th>March</th>\n",
       "      <td>12.174213</td>\n",
       "    </tr>\n",
       "    <tr>\n",
       "      <th>April</th>\n",
       "      <td>11.723298</td>\n",
       "    </tr>\n",
       "  </tbody>\n",
       "</table>\n",
       "</div>"
      ],
      "text/plain": [
       "                          ride_length_minutes\n",
       "member_casual month_name                     \n",
       "casual        March                 33.184094\n",
       "              May                   31.455569\n",
       "              April                 30.082005\n",
       "              August                29.948311\n",
       "              June                  24.396659\n",
       "              July                  24.053908\n",
       "member        June                  13.933439\n",
       "              July                  13.731979\n",
       "              August                13.688826\n",
       "              May                   13.632638\n",
       "              March                 12.174213\n",
       "              April                 11.723298"
      ]
     },
     "execution_count": 88,
     "metadata": {},
     "output_type": "execute_result"
    }
   ],
   "source": [
    "c1=data.groupby(['member_casual','month_name'])[['ride_length_minutes']].mean().sort_values(by='ride_length_minutes',\n",
    "                ascending=False)\n",
    "c1"
   ]
  },
  {
   "cell_type": "code",
   "execution_count": 89,
   "id": "3ecfec87",
   "metadata": {},
   "outputs": [
    {
     "data": {
      "text/plain": [
       "<AxesSubplot:xlabel='month_name', ylabel='ride_length_minutes'>"
      ]
     },
     "execution_count": 89,
     "metadata": {},
     "output_type": "execute_result"
    },
    {
     "data": {
      "image/png": "[encoded data removed]",
      "text/plain": [
       "<Figure size 576x432 with 1 Axes>"
      ]
     },
     "metadata": {},
     "output_type": "display_data"
    }
   ],
   "source": [
    "plt.figure(figsize=(8,6))\n",
    "\n",
    "sns.lineplot(x='month_name',y='ride_length_minutes',hue='member_casual', data=c1, palette='viridis')"
   ]
  },
  {
   "cell_type": "code",
   "execution_count": 66,
   "id": "181532f7",
   "metadata": {},
   "outputs": [
    {
     "data": {
      "text/plain": [
       "<AxesSubplot:xlabel='month_name', ylabel='ride_length_minutes'>"
      ]
     },
     "execution_count": 66,
     "metadata": {},
     "output_type": "execute_result"
    },
    {
     "data": {
      "image/png": "[encoded data removed]",
      "text/plain": [
       "<Figure size 720x432 with 1 Axes>"
      ]
     },
     "metadata": {},
     "output_type": "display_data"
    }
   ],
   "source": [
    "\n",
    "c2=data.groupby(['member_casual','month_name'])[['ride_length_minutes']].mean().reset_index()\n",
    "\n",
    "plt.figure(figsize=(10,6))\n",
    "\n",
    "order=['March', 'April', 'May', 'June', 'July', 'August']\n",
    "sns.barplot(x='month_name',y='ride_length_minutes',hue='member_casual', data=c2, palette='viridis',order=order)\n"
   ]
  },
  {
   "cell_type": "code",
   "execution_count": 18,
   "id": "0ef5c560",
   "metadata": {},
   "outputs": [
    {
     "data": {
      "text/html": [
       "<div>\n",
       "<style scoped>\n",
       "    .dataframe tbody tr th:only-of-type {\n",
       "        vertical-align: middle;\n",
       "    }\n",
       "\n",
       "    .dataframe tbody tr th {\n",
       "        vertical-align: top;\n",
       "    }\n",
       "\n",
       "    .dataframe thead th {\n",
       "        text-align: right;\n",
       "    }\n",
       "</style>\n",
       "<table border=\"1\" class=\"dataframe\">\n",
       "  <thead>\n",
       "    <tr style=\"text-align: right;\">\n",
       "      <th></th>\n",
       "      <th>ride_id</th>\n",
       "      <th>ride_id_length</th>\n",
       "      <th>rideable_type</th>\n",
       "      <th>started_at</th>\n",
       "      <th>ended_at</th>\n",
       "      <th>start_station_name</th>\n",
       "      <th>start_station_id</th>\n",
       "      <th>end_station_name</th>\n",
       "      <th>end_station_id</th>\n",
       "      <th>member_casual</th>\n",
       "      <th>started_date</th>\n",
       "      <th>started_time</th>\n",
       "      <th>ended_date</th>\n",
       "      <th>ended_time</th>\n",
       "      <th>week_day_number</th>\n",
       "      <th>day_name</th>\n",
       "      <th>ride_length</th>\n",
       "      <th>ride_length_minutes</th>\n",
       "      <th>month_name</th>\n",
       "    </tr>\n",
       "  </thead>\n",
       "  <tbody>\n",
       "    <tr>\n",
       "      <th>0</th>\n",
       "      <td>47EC0A7F82E65D52</td>\n",
       "      <td>16</td>\n",
       "      <td>classic_bike</td>\n",
       "      <td>21-03-2022 13.45</td>\n",
       "      <td>21-03-2022 13.51</td>\n",
       "      <td>Wabash Ave &amp; Wacker Pl</td>\n",
       "      <td>TA1307000131</td>\n",
       "      <td>Kingsbury St &amp; Kinzie St</td>\n",
       "      <td>KA1503000043</td>\n",
       "      <td>member</td>\n",
       "      <td>2022-03-21</td>\n",
       "      <td>1.45.01 PM</td>\n",
       "      <td>2022-03-21</td>\n",
       "      <td>1.51.18 PM</td>\n",
       "      <td>2</td>\n",
       "      <td>Monday</td>\n",
       "      <td>0.06.17</td>\n",
       "      <td>6.28</td>\n",
       "      <td>March</td>\n",
       "    </tr>\n",
       "    <tr>\n",
       "      <th>1</th>\n",
       "      <td>8494861979B0F477</td>\n",
       "      <td>16</td>\n",
       "      <td>electric_bike</td>\n",
       "      <td>16-03-2022 9.37</td>\n",
       "      <td>16-03-2022 9.43</td>\n",
       "      <td>Michigan Ave &amp; Oak St</td>\n",
       "      <td>13042</td>\n",
       "      <td>Orleans St &amp; Chestnut St (NEXT Apts)</td>\n",
       "      <td>620</td>\n",
       "      <td>member</td>\n",
       "      <td>2022-03-16</td>\n",
       "      <td>9.37.16 AM</td>\n",
       "      <td>2022-03-16</td>\n",
       "      <td>9.43.34 AM</td>\n",
       "      <td>4</td>\n",
       "      <td>Wednesday</td>\n",
       "      <td>0.06.18</td>\n",
       "      <td>6.30</td>\n",
       "      <td>March</td>\n",
       "    </tr>\n",
       "  </tbody>\n",
       "</table>\n",
       "</div>"
      ],
      "text/plain": [
       "            ride_id  ride_id_length  rideable_type        started_at  \\\n",
       "0  47EC0A7F82E65D52              16   classic_bike  21-03-2022 13.45   \n",
       "1  8494861979B0F477              16  electric_bike   16-03-2022 9.37   \n",
       "\n",
       "           ended_at      start_station_name start_station_id  \\\n",
       "0  21-03-2022 13.51  Wabash Ave & Wacker Pl     TA1307000131   \n",
       "1   16-03-2022 9.43   Michigan Ave & Oak St            13042   \n",
       "\n",
       "                       end_station_name end_station_id member_casual  \\\n",
       "0              Kingsbury St & Kinzie St   KA1503000043        member   \n",
       "1  Orleans St & Chestnut St (NEXT Apts)            620        member   \n",
       "\n",
       "  started_date started_time ended_date  ended_time  week_day_number  \\\n",
       "0   2022-03-21   1.45.01 PM 2022-03-21  1.51.18 PM                2   \n",
       "1   2022-03-16   9.37.16 AM 2022-03-16  9.43.34 AM                4   \n",
       "\n",
       "    day_name ride_length  ride_length_minutes month_name  \n",
       "0     Monday     0.06.17                 6.28      March  \n",
       "1  Wednesday     0.06.18                 6.30      March  "
      ]
     },
     "execution_count": 18,
     "metadata": {},
     "output_type": "execute_result"
    }
   ],
   "source": [
    "data.head(2)"
   ]
  },
  {
   "cell_type": "code",
   "execution_count": 19,
   "id": "063991c9",
   "metadata": {},
   "outputs": [
    {
     "data": {
      "image/png": "[encoded data removed]",
      "text/plain": [
       "<Figure size 576x432 with 1 Axes>"
      ]
     },
     "metadata": {},
     "output_type": "display_data"
    }
   ],
   "source": [
    "a3=data.groupby(['day_name','member_casual'])['ride_id'].count()\n",
    "a3.unstack().plot(kind='bar',figsize=(8,6))\n",
    "plt.style.use(\"ggplot\")\n",
    "plt.xticks(rotation=360)\n",
    "plt.tight_layout();"
   ]
  },
  {
   "cell_type": "markdown",
   "id": "3b7c85d3",
   "metadata": {},
   "source": [
    "### Average ride_length in minutes during the week"
   ]
  },
  {
   "cell_type": "code",
   "execution_count": 90,
   "id": "c2b00b89",
   "metadata": {},
   "outputs": [
    {
     "data": {
      "image/png": "[encoded data removed]",
      "text/plain": [
       "<Figure size 720x432 with 1 Axes>"
      ]
     },
     "metadata": {},
     "output_type": "display_data"
    }
   ],
   "source": [
    "a3=data.groupby(['day_name','member_casual'])['ride_length_minutes'].mean()\n",
    "a3.unstack().plot(kind='bar',figsize = (10,6))\n",
    "plt.xticks(rotation=360);\n",
    "#plt.figure()"
   ]
  },
  {
   "cell_type": "markdown",
   "id": "9ab32f4f",
   "metadata": {},
   "source": [
    "### Total rides per bike type"
   ]
  },
  {
   "cell_type": "code",
   "execution_count": 71,
   "id": "4538fc27",
   "metadata": {},
   "outputs": [
    {
     "data": {
      "text/html": [
       "<div>\n",
       "<style scoped>\n",
       "    .dataframe tbody tr th:only-of-type {\n",
       "        vertical-align: middle;\n",
       "    }\n",
       "\n",
       "    .dataframe tbody tr th {\n",
       "        vertical-align: top;\n",
       "    }\n",
       "\n",
       "    .dataframe thead th {\n",
       "        text-align: right;\n",
       "    }\n",
       "</style>\n",
       "<table border=\"1\" class=\"dataframe\">\n",
       "  <thead>\n",
       "    <tr style=\"text-align: right;\">\n",
       "      <th></th>\n",
       "      <th></th>\n",
       "      <th>ride_id</th>\n",
       "    </tr>\n",
       "    <tr>\n",
       "      <th>rideable_type</th>\n",
       "      <th>member_casual</th>\n",
       "      <th></th>\n",
       "    </tr>\n",
       "  </thead>\n",
       "  <tbody>\n",
       "    <tr>\n",
       "      <th rowspan=\"2\" valign=\"top\">classic_bike</th>\n",
       "      <th>casual</th>\n",
       "      <td>821566</td>\n",
       "    </tr>\n",
       "    <tr>\n",
       "      <th>member</th>\n",
       "      <td>1301722</td>\n",
       "    </tr>\n",
       "    <tr>\n",
       "      <th>docked_bike</th>\n",
       "      <th>casual</th>\n",
       "      <td>164203</td>\n",
       "    </tr>\n",
       "    <tr>\n",
       "      <th rowspan=\"2\" valign=\"top\">electric_bike</th>\n",
       "      <th>casual</th>\n",
       "      <td>974468</td>\n",
       "    </tr>\n",
       "    <tr>\n",
       "      <th>member</th>\n",
       "      <td>1085081</td>\n",
       "    </tr>\n",
       "  </tbody>\n",
       "</table>\n",
       "</div>"
      ],
      "text/plain": [
       "                             ride_id\n",
       "rideable_type member_casual         \n",
       "classic_bike  casual          821566\n",
       "              member         1301722\n",
       "docked_bike   casual          164203\n",
       "electric_bike casual          974468\n",
       "              member         1085081"
      ]
     },
     "execution_count": 71,
     "metadata": {},
     "output_type": "execute_result"
    }
   ],
   "source": [
    "d1=data.groupby(['rideable_type','member_casual'])[['ride_id']].count()\n",
    "d1"
   ]
  },
  {
   "cell_type": "code",
   "execution_count": 21,
   "id": "22e0be75",
   "metadata": {
    "scrolled": false
   },
   "outputs": [
    {
     "data": {
      "image/png": "[encoded data removed]",
      "text/plain": [
       "<Figure size 576x432 with 1 Axes>"
      ]
     },
     "metadata": {},
     "output_type": "display_data"
    }
   ],
   "source": [
    "a3=data.groupby(['rideable_type','member_casual'])['ride_id'].count()\n",
    "a3.unstack().plot(kind='bar',figsize = (8,6))\n",
    "plt.legend(fontsize=12)\n",
    "plt.xlabel('rideable_type',fontsize=12)\n",
    "plt.ylabel('ride_id',fontsize=12)\n",
    "plt.xticks(rotation=360,fontsize=12)\n",
    "plt.tight_layout();"
   ]
  },
  {
   "cell_type": "markdown",
   "id": "87a1ee35",
   "metadata": {},
   "source": [
    "### Average Ride Length by each user in  6 months"
   ]
  },
  {
   "cell_type": "code",
   "execution_count": 22,
   "id": "b501fa08",
   "metadata": {},
   "outputs": [
    {
     "data": {
      "text/html": [
       "<div>\n",
       "<style scoped>\n",
       "    .dataframe tbody tr th:only-of-type {\n",
       "        vertical-align: middle;\n",
       "    }\n",
       "\n",
       "    .dataframe tbody tr th {\n",
       "        vertical-align: top;\n",
       "    }\n",
       "\n",
       "    .dataframe thead th {\n",
       "        text-align: right;\n",
       "    }\n",
       "</style>\n",
       "<table border=\"1\" class=\"dataframe\">\n",
       "  <thead>\n",
       "    <tr style=\"text-align: right;\">\n",
       "      <th></th>\n",
       "      <th>ride_length_minutes</th>\n",
       "    </tr>\n",
       "    <tr>\n",
       "      <th>member_casual</th>\n",
       "      <th></th>\n",
       "    </tr>\n",
       "  </thead>\n",
       "  <tbody>\n",
       "    <tr>\n",
       "      <th>casual</th>\n",
       "      <td>27.068312</td>\n",
       "    </tr>\n",
       "    <tr>\n",
       "      <th>member</th>\n",
       "      <td>13.449884</td>\n",
       "    </tr>\n",
       "  </tbody>\n",
       "</table>\n",
       "</div>"
      ],
      "text/plain": [
       "               ride_length_minutes\n",
       "member_casual                     \n",
       "casual                   27.068312\n",
       "member                   13.449884"
      ]
     },
     "execution_count": 22,
     "metadata": {},
     "output_type": "execute_result"
    }
   ],
   "source": [
    "data.groupby(['member_casual'])[['ride_length_minutes']].mean()"
   ]
  },
  {
   "cell_type": "code",
   "execution_count": 25,
   "id": "2b88566c",
   "metadata": {
    "scrolled": false
   },
   "outputs": [
    {
     "data": {
      "text/plain": [
       "<AxesSubplot:xlabel='member_casual', ylabel='ride_length_minutes'>"
      ]
     },
     "execution_count": 25,
     "metadata": {},
     "output_type": "execute_result"
    },
    {
     "data": {
      "image/png": "[encoded data removed]",
      "text/plain": [
       "<Figure size 432x432 with 1 Axes>"
      ]
     },
     "metadata": {},
     "output_type": "display_data"
    }
   ],
   "source": [
    "plt.figure(figsize=(6,6))\n",
    "sns.barplot(x='member_casual', y='ride_length_minutes', data=data, palette='viridis')"
   ]
  },
  {
   "cell_type": "markdown",
   "id": "4c517681",
   "metadata": {},
   "source": [
    "### Total rides per bike type per week"
   ]
  },
  {
   "cell_type": "code",
   "execution_count": 27,
   "id": "57d173ce",
   "metadata": {},
   "outputs": [
    {
     "data": {
      "image/png": "[encoded data removed]",
      "text/plain": [
       "<Figure size 864x432 with 1 Axes>"
      ]
     },
     "metadata": {},
     "output_type": "display_data"
    }
   ],
   "source": [
    "a3=data.groupby(['day_name','rideable_type'])['ride_id'].count()\n",
    "a3.unstack().plot(kind='bar',figsize = (12,6))\n",
    "plt.legend(fontsize=12)\n",
    "plt.xlabel('rideable_type',fontsize=12)\n",
    "plt.ylabel('ride_id',fontsize=12)\n",
    "plt.legend(loc='upper left',fontsize=10)\n",
    "plt.xticks(rotation=360,fontsize=12)\n",
    "plt.tight_layout();"
   ]
  },
  {
   "cell_type": "markdown",
   "id": "fdb1df5a",
   "metadata": {},
   "source": [
    "## Conclusion"
   ]
  },
  {
   "cell_type": "markdown",
   "id": "2c798687",
   "metadata": {},
   "source": [
    "* Annual members and Casual riders use Cyclistic bike **share differently.**\n",
    "\n",
    "\n",
    "* The **average ride length of casual riders** are more than **twice as of members.**\n",
    "\n",
    "\n",
    "* From the average ride length difference, we can conclude that **Annual members usually use bike share** \n",
    "\n",
    "     - **for daily commuting**, while **casual riders** mostly use bike share for **free rides mostly during Weekends**.\n",
    "     - and **members users use bike share during weekdays** for their office work or any other work.\n",
    "    \n",
    "    \n",
    "* But there are a **fixed number of casual riders** who use bike share for commuting."
   ]
  },
  {
   "cell_type": "markdown",
   "id": "f2181e1c",
   "metadata": {},
   "source": [
    "> ##                                             ** Thank You **\n",
    "\n",
    "### Share you valuable feedback for more improvements"
   ]
  },
  {
   "cell_type": "code",
   "execution_count": null,
   "id": "8a8ed30b",
   "metadata": {},
   "outputs": [],
   "source": []
  }
 ],
 "metadata": {
  "kernelspec": {
   "display_name": "Python 3 (ipykernel)",
   "language": "python",
   "name": "python3"
  },
  "language_info": {
   "codemirror_mode": {
    "name": "ipython",
    "version": 3
   },
   "file_extension": ".py",
   "mimetype": "text/x-python",
   "name": "python",
   "nbconvert_exporter": "python",
   "pygments_lexer": "ipython3",
   "version": "3.9.7"
  }
 },
 "nbformat": 4,
 "nbformat_minor": 5
}
