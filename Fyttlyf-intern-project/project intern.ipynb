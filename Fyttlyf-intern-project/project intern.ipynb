{
 "cells": [
  {
   "cell_type": "markdown",
   "id": "aed1ef18",
   "metadata": {},
   "source": [
    "# Fyttlyf Data Science Team Test\n",
    "### Internship Assigment"
   ]
  },
  {
   "cell_type": "markdown",
   "id": "609ee960",
   "metadata": {},
   "source": [
    "###  By Mohamad Ehthesham S"
   ]
  },
  {
   "cell_type": "markdown",
   "id": "fc45706e",
   "metadata": {},
   "source": [
    "GitHub - https://bit.ly/3V7EnOT"
   ]
  },
  {
   "cell_type": "code",
   "execution_count": 76,
   "id": "59d65e84",
   "metadata": {},
   "outputs": [],
   "source": [
    "# importing libraries\n",
    "\n",
    "import pandas as pd\n",
    "import numpy as np\n",
    "import matplotlib.pyplot as plt\n",
    "\n",
    "import datetime as dt\n",
    "\n",
    "from sklearn.linear_model import LinearRegression\n",
    "\n",
    "import seaborn as sns\n",
    "\n",
    "%matplotlib inline"
   ]
  },
  {
   "cell_type": "markdown",
   "id": "03f7657d",
   "metadata": {},
   "source": [
    "## Part 0 \n",
    " **Reading the data**"
   ]
  },
  {
   "cell_type": "markdown",
   "id": "98d9a6d4",
   "metadata": {},
   "source": [
    "1. Please find the data (Fytlyff_DS_Interview.csv) and read it as a Dataframe\n",
    "2. Observe the column names and the data types in each column."
   ]
  },
  {
   "cell_type": "code",
   "execution_count": 49,
   "id": "dcf5fa92",
   "metadata": {},
   "outputs": [],
   "source": [
    "# 1\n",
    "db=pd.read_csv('Fytlyff_DS_Interview.csv')"
   ]
  },
  {
   "cell_type": "code",
   "execution_count": 50,
   "id": "f6c0647b",
   "metadata": {
    "scrolled": true
   },
   "outputs": [
    {
     "data": {
      "text/html": [
       "<div>\n",
       "<style scoped>\n",
       "    .dataframe tbody tr th:only-of-type {\n",
       "        vertical-align: middle;\n",
       "    }\n",
       "\n",
       "    .dataframe tbody tr th {\n",
       "        vertical-align: top;\n",
       "    }\n",
       "\n",
       "    .dataframe thead th {\n",
       "        text-align: right;\n",
       "    }\n",
       "</style>\n",
       "<table border=\"1\" class=\"dataframe\">\n",
       "  <thead>\n",
       "    <tr style=\"text-align: right;\">\n",
       "      <th></th>\n",
       "      <th>Year</th>\n",
       "      <th>Month</th>\n",
       "      <th>MobileWeb_or_Web</th>\n",
       "      <th>Type_of_Customers?</th>\n",
       "      <th>Where_Are_They_comming_from?</th>\n",
       "      <th>Which_Place_in_India?</th>\n",
       "      <th>How_many_Landed_on_our_Page?</th>\n",
       "      <th>How_many_Landed_on_the_our_Page_and_clicked_on_a_button?</th>\n",
       "      <th>How_many_Landed_on_the_our_Page_and_clicked_on_a_button_and_started_filling_the_Form?</th>\n",
       "      <th>How_many_Landed_on_the_our_Page_and_clicked_on_a_button_and_started_filling_the_Form_and_Completed_and_submited_the_form?</th>\n",
       "    </tr>\n",
       "  </thead>\n",
       "  <tbody>\n",
       "    <tr>\n",
       "      <th>0</th>\n",
       "      <td>2019</td>\n",
       "      <td>Jan</td>\n",
       "      <td>Desktop_Website</td>\n",
       "      <td>Existing_Customer</td>\n",
       "      <td>Came_From_Google</td>\n",
       "      <td>Bangalore</td>\n",
       "      <td>NaN</td>\n",
       "      <td>NaN</td>\n",
       "      <td>56892</td>\n",
       "      <td>17178</td>\n",
       "    </tr>\n",
       "    <tr>\n",
       "      <th>1</th>\n",
       "      <td>2019</td>\n",
       "      <td>Jan</td>\n",
       "      <td>Desktop_Website</td>\n",
       "      <td>Existing_Customer</td>\n",
       "      <td>Came_From_Google</td>\n",
       "      <td>Chennai</td>\n",
       "      <td>NaN</td>\n",
       "      <td>NaN</td>\n",
       "      <td>41460</td>\n",
       "      <td>11916</td>\n",
       "    </tr>\n",
       "    <tr>\n",
       "      <th>2</th>\n",
       "      <td>2019</td>\n",
       "      <td>Jan</td>\n",
       "      <td>Desktop_Website</td>\n",
       "      <td>Existing_Customer</td>\n",
       "      <td>Came_From_Google</td>\n",
       "      <td>Dehradun</td>\n",
       "      <td>NaN</td>\n",
       "      <td>NaN</td>\n",
       "      <td>55561</td>\n",
       "      <td>19461</td>\n",
       "    </tr>\n",
       "    <tr>\n",
       "      <th>3</th>\n",
       "      <td>2019</td>\n",
       "      <td>Jan</td>\n",
       "      <td>Desktop_Website</td>\n",
       "      <td>Existing_Customer</td>\n",
       "      <td>Came_From_Google</td>\n",
       "      <td>Indore</td>\n",
       "      <td>NaN</td>\n",
       "      <td>NaN</td>\n",
       "      <td>320923</td>\n",
       "      <td>110667</td>\n",
       "    </tr>\n",
       "    <tr>\n",
       "      <th>4</th>\n",
       "      <td>2019</td>\n",
       "      <td>Jan</td>\n",
       "      <td>Desktop_Website</td>\n",
       "      <td>Existing_Customer</td>\n",
       "      <td>Came_From_Google</td>\n",
       "      <td>Pune</td>\n",
       "      <td>NaN</td>\n",
       "      <td>NaN</td>\n",
       "      <td>220937</td>\n",
       "      <td>46033</td>\n",
       "    </tr>\n",
       "  </tbody>\n",
       "</table>\n",
       "</div>"
      ],
      "text/plain": [
       "   Year Month MobileWeb_or_Web Type_of_Customers?  \\\n",
       "0  2019   Jan  Desktop_Website  Existing_Customer   \n",
       "1  2019   Jan  Desktop_Website  Existing_Customer   \n",
       "2  2019   Jan  Desktop_Website  Existing_Customer   \n",
       "3  2019   Jan  Desktop_Website  Existing_Customer   \n",
       "4  2019   Jan  Desktop_Website  Existing_Customer   \n",
       "\n",
       "  Where_Are_They_comming_from? Which_Place_in_India?  \\\n",
       "0             Came_From_Google             Bangalore   \n",
       "1             Came_From_Google               Chennai   \n",
       "2             Came_From_Google              Dehradun   \n",
       "3             Came_From_Google                Indore   \n",
       "4             Came_From_Google                  Pune   \n",
       "\n",
       "   How_many_Landed_on_our_Page?  \\\n",
       "0                           NaN   \n",
       "1                           NaN   \n",
       "2                           NaN   \n",
       "3                           NaN   \n",
       "4                           NaN   \n",
       "\n",
       "   How_many_Landed_on_the_our_Page_and_clicked_on_a_button?  \\\n",
       "0                                                NaN          \n",
       "1                                                NaN          \n",
       "2                                                NaN          \n",
       "3                                                NaN          \n",
       "4                                                NaN          \n",
       "\n",
       "   How_many_Landed_on_the_our_Page_and_clicked_on_a_button_and_started_filling_the_Form?  \\\n",
       "0                                              56892                                       \n",
       "1                                              41460                                       \n",
       "2                                              55561                                       \n",
       "3                                             320923                                       \n",
       "4                                             220937                                       \n",
       "\n",
       "   How_many_Landed_on_the_our_Page_and_clicked_on_a_button_and_started_filling_the_Form_and_Completed_and_submited_the_form?  \n",
       "0                                              17178                                                                          \n",
       "1                                              11916                                                                          \n",
       "2                                              19461                                                                          \n",
       "3                                             110667                                                                          \n",
       "4                                              46033                                                                          "
      ]
     },
     "execution_count": 50,
     "metadata": {},
     "output_type": "execute_result"
    }
   ],
   "source": [
    "# 2\n",
    "db.head()"
   ]
  },
  {
   "cell_type": "code",
   "execution_count": 77,
   "id": "21f603f5",
   "metadata": {
    "scrolled": false
   },
   "outputs": [
    {
     "name": "stdout",
     "output_type": "stream",
     "text": [
      "<class 'pandas.core.frame.DataFrame'>\n",
      "RangeIndex: 2160 entries, 0 to 2159\n",
      "Data columns (total 13 columns):\n",
      " #   Column                                                                                                                     Non-Null Count  Dtype  \n",
      "---  ------                                                                                                                     --------------  -----  \n",
      " 0   Year                                                                                                                       2160 non-null   int64  \n",
      " 1   Month                                                                                                                      2160 non-null   object \n",
      " 2   MobileWeb_or_Web                                                                                                           2160 non-null   object \n",
      " 3   Type_of_Customers?                                                                                                         2160 non-null   object \n",
      " 4   Where_Are_They_comming_from?                                                                                               2160 non-null   object \n",
      " 5   Which_Place_in_India?                                                                                                      2160 non-null   object \n",
      " 6   How_many_Landed_on_our_Page?                                                                                               1080 non-null   float64\n",
      " 7   How_many_Landed_on_the_our_Page_and_clicked_on_a_button?                                                                   1080 non-null   float64\n",
      " 8   How_many_Landed_on_the_our_Page_and_clicked_on_a_button_and_started_filling_the_Form?                                      2160 non-null   int64  \n",
      " 9   How_many_Landed_on_the_our_Page_and_clicked_on_a_button_and_started_filling_the_Form_and_Completed_and_submited_the_form?  2160 non-null   int64  \n",
      " 10  new_col                                                                                                                    1080 non-null   float64\n",
      " 11  predicted_values                                                                                                           720 non-null    float64\n",
      " 12  new_year_2022                                                                                                              2160 non-null   int64  \n",
      "dtypes: float64(4), int64(4), object(5)\n",
      "memory usage: 219.5+ KB\n"
     ]
    }
   ],
   "source": [
    "db.info()"
   ]
  },
  {
   "cell_type": "markdown",
   "id": "605a958c",
   "metadata": {},
   "source": [
    "## Part 1\n",
    "**Data cleaning**"
   ]
  },
  {
   "cell_type": "markdown",
   "id": "bb28c332",
   "metadata": {},
   "source": [
    "**Write a function called data_cleaning() which, when called, would perform the following\n",
    "activity:**\n",
    "- Replaces the NA values with 0s in the data\n",
    "- In column ‘B’ replace Jan with 1, feb with 2, march with 3 and so on…\n",
    "- In column ‘E’ Replace “Came_From_Google” with “Google” and\n",
    "“Landed_on_the_page_Directly” with “Direct_traffic”"
   ]
  },
  {
   "cell_type": "code",
   "execution_count": 51,
   "id": "a870dbfa",
   "metadata": {},
   "outputs": [],
   "source": [
    "#db=db.fillna(0)"
   ]
  },
  {
   "cell_type": "code",
   "execution_count": 52,
   "id": "2394b469",
   "metadata": {},
   "outputs": [
    {
     "data": {
      "text/plain": [
       "array(['Jan', 'Feb', 'Mar', 'Apr', 'May', 'Jun', 'Jul', 'Aug', 'Sep',\n",
       "       'Oct', 'Nov', 'Dec'], dtype=object)"
      ]
     },
     "execution_count": 52,
     "metadata": {},
     "output_type": "execute_result"
    }
   ],
   "source": [
    "db['Month'].unique()"
   ]
  },
  {
   "cell_type": "code",
   "execution_count": 53,
   "id": "5fb8102c",
   "metadata": {},
   "outputs": [
    {
     "data": {
      "text/html": [
       "<div>\n",
       "<style scoped>\n",
       "    .dataframe tbody tr th:only-of-type {\n",
       "        vertical-align: middle;\n",
       "    }\n",
       "\n",
       "    .dataframe tbody tr th {\n",
       "        vertical-align: top;\n",
       "    }\n",
       "\n",
       "    .dataframe thead th {\n",
       "        text-align: right;\n",
       "    }\n",
       "</style>\n",
       "<table border=\"1\" class=\"dataframe\">\n",
       "  <thead>\n",
       "    <tr style=\"text-align: right;\">\n",
       "      <th></th>\n",
       "      <th>Year</th>\n",
       "      <th>Month</th>\n",
       "      <th>MobileWeb_or_Web</th>\n",
       "      <th>Type_of_Customers?</th>\n",
       "      <th>Where_Are_They_comming_from?</th>\n",
       "      <th>Which_Place_in_India?</th>\n",
       "      <th>How_many_Landed_on_our_Page?</th>\n",
       "      <th>How_many_Landed_on_the_our_Page_and_clicked_on_a_button?</th>\n",
       "      <th>How_many_Landed_on_the_our_Page_and_clicked_on_a_button_and_started_filling_the_Form?</th>\n",
       "      <th>How_many_Landed_on_the_our_Page_and_clicked_on_a_button_and_started_filling_the_Form_and_Completed_and_submited_the_form?</th>\n",
       "    </tr>\n",
       "  </thead>\n",
       "  <tbody>\n",
       "    <tr>\n",
       "      <th>0</th>\n",
       "      <td>2019</td>\n",
       "      <td>Jan</td>\n",
       "      <td>Desktop_Website</td>\n",
       "      <td>Existing_Customer</td>\n",
       "      <td>Came_From_Google</td>\n",
       "      <td>Bangalore</td>\n",
       "      <td>NaN</td>\n",
       "      <td>NaN</td>\n",
       "      <td>56892</td>\n",
       "      <td>17178</td>\n",
       "    </tr>\n",
       "    <tr>\n",
       "      <th>1</th>\n",
       "      <td>2019</td>\n",
       "      <td>Jan</td>\n",
       "      <td>Desktop_Website</td>\n",
       "      <td>Existing_Customer</td>\n",
       "      <td>Came_From_Google</td>\n",
       "      <td>Chennai</td>\n",
       "      <td>NaN</td>\n",
       "      <td>NaN</td>\n",
       "      <td>41460</td>\n",
       "      <td>11916</td>\n",
       "    </tr>\n",
       "    <tr>\n",
       "      <th>2</th>\n",
       "      <td>2019</td>\n",
       "      <td>Jan</td>\n",
       "      <td>Desktop_Website</td>\n",
       "      <td>Existing_Customer</td>\n",
       "      <td>Came_From_Google</td>\n",
       "      <td>Dehradun</td>\n",
       "      <td>NaN</td>\n",
       "      <td>NaN</td>\n",
       "      <td>55561</td>\n",
       "      <td>19461</td>\n",
       "    </tr>\n",
       "    <tr>\n",
       "      <th>3</th>\n",
       "      <td>2019</td>\n",
       "      <td>Jan</td>\n",
       "      <td>Desktop_Website</td>\n",
       "      <td>Existing_Customer</td>\n",
       "      <td>Came_From_Google</td>\n",
       "      <td>Indore</td>\n",
       "      <td>NaN</td>\n",
       "      <td>NaN</td>\n",
       "      <td>320923</td>\n",
       "      <td>110667</td>\n",
       "    </tr>\n",
       "    <tr>\n",
       "      <th>4</th>\n",
       "      <td>2019</td>\n",
       "      <td>Jan</td>\n",
       "      <td>Desktop_Website</td>\n",
       "      <td>Existing_Customer</td>\n",
       "      <td>Came_From_Google</td>\n",
       "      <td>Pune</td>\n",
       "      <td>NaN</td>\n",
       "      <td>NaN</td>\n",
       "      <td>220937</td>\n",
       "      <td>46033</td>\n",
       "    </tr>\n",
       "  </tbody>\n",
       "</table>\n",
       "</div>"
      ],
      "text/plain": [
       "   Year Month MobileWeb_or_Web Type_of_Customers?  \\\n",
       "0  2019   Jan  Desktop_Website  Existing_Customer   \n",
       "1  2019   Jan  Desktop_Website  Existing_Customer   \n",
       "2  2019   Jan  Desktop_Website  Existing_Customer   \n",
       "3  2019   Jan  Desktop_Website  Existing_Customer   \n",
       "4  2019   Jan  Desktop_Website  Existing_Customer   \n",
       "\n",
       "  Where_Are_They_comming_from? Which_Place_in_India?  \\\n",
       "0             Came_From_Google             Bangalore   \n",
       "1             Came_From_Google               Chennai   \n",
       "2             Came_From_Google              Dehradun   \n",
       "3             Came_From_Google                Indore   \n",
       "4             Came_From_Google                  Pune   \n",
       "\n",
       "   How_many_Landed_on_our_Page?  \\\n",
       "0                           NaN   \n",
       "1                           NaN   \n",
       "2                           NaN   \n",
       "3                           NaN   \n",
       "4                           NaN   \n",
       "\n",
       "   How_many_Landed_on_the_our_Page_and_clicked_on_a_button?  \\\n",
       "0                                                NaN          \n",
       "1                                                NaN          \n",
       "2                                                NaN          \n",
       "3                                                NaN          \n",
       "4                                                NaN          \n",
       "\n",
       "   How_many_Landed_on_the_our_Page_and_clicked_on_a_button_and_started_filling_the_Form?  \\\n",
       "0                                              56892                                       \n",
       "1                                              41460                                       \n",
       "2                                              55561                                       \n",
       "3                                             320923                                       \n",
       "4                                             220937                                       \n",
       "\n",
       "   How_many_Landed_on_the_our_Page_and_clicked_on_a_button_and_started_filling_the_Form_and_Completed_and_submited_the_form?  \n",
       "0                                              17178                                                                          \n",
       "1                                              11916                                                                          \n",
       "2                                              19461                                                                          \n",
       "3                                             110667                                                                          \n",
       "4                                              46033                                                                          "
      ]
     },
     "execution_count": 53,
     "metadata": {},
     "output_type": "execute_result"
    }
   ],
   "source": [
    "db.head()"
   ]
  },
  {
   "cell_type": "code",
   "execution_count": 54,
   "id": "2b50934f",
   "metadata": {},
   "outputs": [],
   "source": [
    "def data_cleaning(db):\n",
    "    db=db.fillna(0)\n",
    "    \n",
    "    monthdict={'Jan':1,'Feb':2,'Mar':3,'Apr':4, 'May':5, 'Jun':6, 'Jul':7, 'Aug':8, 'Sep':9,'Oct':10,'Nov':11,'Dec':12}\n",
    "\n",
    "    def month_to_num(month):\n",
    "        return monthdict[month]\n",
    "    db['Month'] = db['Month'].apply(month_to_num)\n",
    "    db['Where_Are_They_comming_from?']=db['Where_Are_They_comming_from?'].replace('Came_From_Google','Google')\n",
    "    db['Where_Are_They_comming_from?']=db['Where_Are_They_comming_from?'].replace('Landed_on_the_page_Directly','Direct_traffic')\n",
    "    return db"
   ]
  },
  {
   "cell_type": "code",
   "execution_count": 55,
   "id": "6146cad9",
   "metadata": {},
   "outputs": [
    {
     "data": {
      "text/html": [
       "<div>\n",
       "<style scoped>\n",
       "    .dataframe tbody tr th:only-of-type {\n",
       "        vertical-align: middle;\n",
       "    }\n",
       "\n",
       "    .dataframe tbody tr th {\n",
       "        vertical-align: top;\n",
       "    }\n",
       "\n",
       "    .dataframe thead th {\n",
       "        text-align: right;\n",
       "    }\n",
       "</style>\n",
       "<table border=\"1\" class=\"dataframe\">\n",
       "  <thead>\n",
       "    <tr style=\"text-align: right;\">\n",
       "      <th></th>\n",
       "      <th>Year</th>\n",
       "      <th>Month</th>\n",
       "      <th>MobileWeb_or_Web</th>\n",
       "      <th>Type_of_Customers?</th>\n",
       "      <th>Where_Are_They_comming_from?</th>\n",
       "      <th>Which_Place_in_India?</th>\n",
       "      <th>How_many_Landed_on_our_Page?</th>\n",
       "      <th>How_many_Landed_on_the_our_Page_and_clicked_on_a_button?</th>\n",
       "      <th>How_many_Landed_on_the_our_Page_and_clicked_on_a_button_and_started_filling_the_Form?</th>\n",
       "      <th>How_many_Landed_on_the_our_Page_and_clicked_on_a_button_and_started_filling_the_Form_and_Completed_and_submited_the_form?</th>\n",
       "    </tr>\n",
       "  </thead>\n",
       "  <tbody>\n",
       "    <tr>\n",
       "      <th>0</th>\n",
       "      <td>2019</td>\n",
       "      <td>1</td>\n",
       "      <td>Desktop_Website</td>\n",
       "      <td>Existing_Customer</td>\n",
       "      <td>Google</td>\n",
       "      <td>Bangalore</td>\n",
       "      <td>0.0</td>\n",
       "      <td>0.0</td>\n",
       "      <td>56892</td>\n",
       "      <td>17178</td>\n",
       "    </tr>\n",
       "    <tr>\n",
       "      <th>1</th>\n",
       "      <td>2019</td>\n",
       "      <td>1</td>\n",
       "      <td>Desktop_Website</td>\n",
       "      <td>Existing_Customer</td>\n",
       "      <td>Google</td>\n",
       "      <td>Chennai</td>\n",
       "      <td>0.0</td>\n",
       "      <td>0.0</td>\n",
       "      <td>41460</td>\n",
       "      <td>11916</td>\n",
       "    </tr>\n",
       "    <tr>\n",
       "      <th>2</th>\n",
       "      <td>2019</td>\n",
       "      <td>1</td>\n",
       "      <td>Desktop_Website</td>\n",
       "      <td>Existing_Customer</td>\n",
       "      <td>Google</td>\n",
       "      <td>Dehradun</td>\n",
       "      <td>0.0</td>\n",
       "      <td>0.0</td>\n",
       "      <td>55561</td>\n",
       "      <td>19461</td>\n",
       "    </tr>\n",
       "    <tr>\n",
       "      <th>3</th>\n",
       "      <td>2019</td>\n",
       "      <td>1</td>\n",
       "      <td>Desktop_Website</td>\n",
       "      <td>Existing_Customer</td>\n",
       "      <td>Google</td>\n",
       "      <td>Indore</td>\n",
       "      <td>0.0</td>\n",
       "      <td>0.0</td>\n",
       "      <td>320923</td>\n",
       "      <td>110667</td>\n",
       "    </tr>\n",
       "    <tr>\n",
       "      <th>4</th>\n",
       "      <td>2019</td>\n",
       "      <td>1</td>\n",
       "      <td>Desktop_Website</td>\n",
       "      <td>Existing_Customer</td>\n",
       "      <td>Google</td>\n",
       "      <td>Pune</td>\n",
       "      <td>0.0</td>\n",
       "      <td>0.0</td>\n",
       "      <td>220937</td>\n",
       "      <td>46033</td>\n",
       "    </tr>\n",
       "    <tr>\n",
       "      <th>...</th>\n",
       "      <td>...</td>\n",
       "      <td>...</td>\n",
       "      <td>...</td>\n",
       "      <td>...</td>\n",
       "      <td>...</td>\n",
       "      <td>...</td>\n",
       "      <td>...</td>\n",
       "      <td>...</td>\n",
       "      <td>...</td>\n",
       "      <td>...</td>\n",
       "    </tr>\n",
       "    <tr>\n",
       "      <th>2155</th>\n",
       "      <td>2021</td>\n",
       "      <td>12</td>\n",
       "      <td>Mobile_website</td>\n",
       "      <td>New_Customer</td>\n",
       "      <td>Unidentified_Sources</td>\n",
       "      <td>Bangalore</td>\n",
       "      <td>67299.0</td>\n",
       "      <td>21255.0</td>\n",
       "      <td>6984</td>\n",
       "      <td>1882</td>\n",
       "    </tr>\n",
       "    <tr>\n",
       "      <th>2156</th>\n",
       "      <td>2021</td>\n",
       "      <td>12</td>\n",
       "      <td>Mobile_website</td>\n",
       "      <td>New_Customer</td>\n",
       "      <td>Unidentified_Sources</td>\n",
       "      <td>Chennai</td>\n",
       "      <td>430294.0</td>\n",
       "      <td>156510.0</td>\n",
       "      <td>46676</td>\n",
       "      <td>16703</td>\n",
       "    </tr>\n",
       "    <tr>\n",
       "      <th>2157</th>\n",
       "      <td>2021</td>\n",
       "      <td>12</td>\n",
       "      <td>Mobile_website</td>\n",
       "      <td>New_Customer</td>\n",
       "      <td>Unidentified_Sources</td>\n",
       "      <td>Dehradun</td>\n",
       "      <td>48713.0</td>\n",
       "      <td>27770.0</td>\n",
       "      <td>7515</td>\n",
       "      <td>2089</td>\n",
       "    </tr>\n",
       "    <tr>\n",
       "      <th>2158</th>\n",
       "      <td>2021</td>\n",
       "      <td>12</td>\n",
       "      <td>Mobile_website</td>\n",
       "      <td>New_Customer</td>\n",
       "      <td>Unidentified_Sources</td>\n",
       "      <td>Indore</td>\n",
       "      <td>593021.0</td>\n",
       "      <td>310836.0</td>\n",
       "      <td>161575</td>\n",
       "      <td>78465</td>\n",
       "    </tr>\n",
       "    <tr>\n",
       "      <th>2159</th>\n",
       "      <td>2021</td>\n",
       "      <td>12</td>\n",
       "      <td>Mobile_website</td>\n",
       "      <td>New_Customer</td>\n",
       "      <td>Unidentified_Sources</td>\n",
       "      <td>Pune</td>\n",
       "      <td>372897.0</td>\n",
       "      <td>123057.0</td>\n",
       "      <td>48802</td>\n",
       "      <td>19441</td>\n",
       "    </tr>\n",
       "  </tbody>\n",
       "</table>\n",
       "<p>2160 rows × 10 columns</p>\n",
       "</div>"
      ],
      "text/plain": [
       "      Year  Month MobileWeb_or_Web Type_of_Customers?  \\\n",
       "0     2019      1  Desktop_Website  Existing_Customer   \n",
       "1     2019      1  Desktop_Website  Existing_Customer   \n",
       "2     2019      1  Desktop_Website  Existing_Customer   \n",
       "3     2019      1  Desktop_Website  Existing_Customer   \n",
       "4     2019      1  Desktop_Website  Existing_Customer   \n",
       "...    ...    ...              ...                ...   \n",
       "2155  2021     12   Mobile_website       New_Customer   \n",
       "2156  2021     12   Mobile_website       New_Customer   \n",
       "2157  2021     12   Mobile_website       New_Customer   \n",
       "2158  2021     12   Mobile_website       New_Customer   \n",
       "2159  2021     12   Mobile_website       New_Customer   \n",
       "\n",
       "     Where_Are_They_comming_from? Which_Place_in_India?  \\\n",
       "0                          Google             Bangalore   \n",
       "1                          Google               Chennai   \n",
       "2                          Google              Dehradun   \n",
       "3                          Google                Indore   \n",
       "4                          Google                  Pune   \n",
       "...                           ...                   ...   \n",
       "2155         Unidentified_Sources             Bangalore   \n",
       "2156         Unidentified_Sources               Chennai   \n",
       "2157         Unidentified_Sources              Dehradun   \n",
       "2158         Unidentified_Sources                Indore   \n",
       "2159         Unidentified_Sources                  Pune   \n",
       "\n",
       "      How_many_Landed_on_our_Page?  \\\n",
       "0                              0.0   \n",
       "1                              0.0   \n",
       "2                              0.0   \n",
       "3                              0.0   \n",
       "4                              0.0   \n",
       "...                            ...   \n",
       "2155                       67299.0   \n",
       "2156                      430294.0   \n",
       "2157                       48713.0   \n",
       "2158                      593021.0   \n",
       "2159                      372897.0   \n",
       "\n",
       "      How_many_Landed_on_the_our_Page_and_clicked_on_a_button?  \\\n",
       "0                                                   0.0          \n",
       "1                                                   0.0          \n",
       "2                                                   0.0          \n",
       "3                                                   0.0          \n",
       "4                                                   0.0          \n",
       "...                                                 ...          \n",
       "2155                                            21255.0          \n",
       "2156                                           156510.0          \n",
       "2157                                            27770.0          \n",
       "2158                                           310836.0          \n",
       "2159                                           123057.0          \n",
       "\n",
       "      How_many_Landed_on_the_our_Page_and_clicked_on_a_button_and_started_filling_the_Form?  \\\n",
       "0                                                 56892                                       \n",
       "1                                                 41460                                       \n",
       "2                                                 55561                                       \n",
       "3                                                320923                                       \n",
       "4                                                220937                                       \n",
       "...                                                 ...                                       \n",
       "2155                                               6984                                       \n",
       "2156                                              46676                                       \n",
       "2157                                               7515                                       \n",
       "2158                                             161575                                       \n",
       "2159                                              48802                                       \n",
       "\n",
       "      How_many_Landed_on_the_our_Page_and_clicked_on_a_button_and_started_filling_the_Form_and_Completed_and_submited_the_form?  \n",
       "0                                                 17178                                                                          \n",
       "1                                                 11916                                                                          \n",
       "2                                                 19461                                                                          \n",
       "3                                                110667                                                                          \n",
       "4                                                 46033                                                                          \n",
       "...                                                 ...                                                                          \n",
       "2155                                               1882                                                                          \n",
       "2156                                              16703                                                                          \n",
       "2157                                               2089                                                                          \n",
       "2158                                              78465                                                                          \n",
       "2159                                              19441                                                                          \n",
       "\n",
       "[2160 rows x 10 columns]"
      ]
     },
     "execution_count": 55,
     "metadata": {},
     "output_type": "execute_result"
    }
   ],
   "source": [
    "new_data=data_cleaning(db)\n",
    "new_data"
   ]
  },
  {
   "cell_type": "markdown",
   "id": "97b3f7fd",
   "metadata": {},
   "source": [
    "## Part 2\n",
    "**Descriptive statistics**"
   ]
  },
  {
   "cell_type": "markdown",
   "id": "9f0a43b3",
   "metadata": {},
   "source": [
    "**Write a function called descriptive_stats() which, when called, would perform the\n",
    "following activity:**\n",
    "- Generates the summary statistics (Mean, Median, Quartile, standard deviation) of\n",
    "all the numerical columns\n",
    "\n",
    "- Produce a list of all the unique values & data types present in the non-numeric\n",
    "columns"
   ]
  },
  {
   "cell_type": "code",
   "execution_count": 56,
   "id": "b6f014b7",
   "metadata": {},
   "outputs": [],
   "source": [
    "def descriptive_stats(db):\n",
    "    unique_values=pd.concat([db['Month'],db['Type_of_Customers?'],db['Where_Are_They_comming_from?'],db['Which_Place_in_India?'],\n",
    "               db['Type_of_Customers?']]).unique()\n",
    "    print('summary statistics - ',db.describe(),'\\n \\n Unique Values - ',unique_values)\n"
   ]
  },
  {
   "cell_type": "code",
   "execution_count": 57,
   "id": "b77fb6ff",
   "metadata": {},
   "outputs": [
    {
     "name": "stdout",
     "output_type": "stream",
     "text": [
      "summary statistics -                Year  How_many_Landed_on_our_Page?  \\\n",
      "count  2160.000000                  1.080000e+03   \n",
      "mean   2020.000000                  7.844949e+05   \n",
      "std       0.816686                  1.232518e+06   \n",
      "min    2019.000000                  2.456700e+04   \n",
      "25%    2019.000000                  1.406165e+05   \n",
      "50%    2020.000000                  3.818205e+05   \n",
      "75%    2021.000000                  8.196922e+05   \n",
      "max    2021.000000                  1.127413e+07   \n",
      "\n",
      "       How_many_Landed_on_the_our_Page_and_clicked_on_a_button?  \\\n",
      "count                                       1.080000e+03          \n",
      "mean                                        3.584563e+05          \n",
      "std                                         4.981331e+05          \n",
      "min                                         8.425000e+03          \n",
      "25%                                         8.060375e+04          \n",
      "50%                                         1.731775e+05          \n",
      "75%                                         3.948560e+05          \n",
      "max                                         4.079301e+06          \n",
      "\n",
      "       How_many_Landed_on_the_our_Page_and_clicked_on_a_button_and_started_filling_the_Form?  \\\n",
      "count                                       2.160000e+03                                       \n",
      "mean                                        1.510725e+05                                       \n",
      "std                                         2.353538e+05                                       \n",
      "min                                         3.761000e+03                                       \n",
      "25%                                         3.360800e+04                                       \n",
      "50%                                         7.064950e+04                                       \n",
      "75%                                         1.659590e+05                                       \n",
      "max                                         3.022858e+06                                       \n",
      "\n",
      "       How_many_Landed_on_the_our_Page_and_clicked_on_a_button_and_started_filling_the_Form_and_Completed_and_submited_the_form?  \n",
      "count                                       2.160000e+03                                                                          \n",
      "mean                                        5.922129e+04                                                                          \n",
      "std                                         8.646564e+04                                                                          \n",
      "min                                         7.660000e+02                                                                          \n",
      "25%                                         1.157725e+04                                                                          \n",
      "50%                                         2.700450e+04                                                                          \n",
      "75%                                         7.185350e+04                                                                          \n",
      "max                                         1.251258e+06                                                                           \n",
      " \n",
      " Unique Values -  ['Jan' 'Feb' 'Mar' 'Apr' 'May' 'Jun' 'Jul' 'Aug' 'Sep' 'Oct' 'Nov' 'Dec'\n",
      " 'Existing_Customer' 'New_Customer' 'Came_From_Google'\n",
      " 'Landed_on_the_page_Directly' 'Unidentified_Sources' 'Bangalore'\n",
      " 'Chennai' 'Dehradun' 'Indore' 'Pune']\n"
     ]
    }
   ],
   "source": [
    "# making a new table from above fucntion just to check it.\n",
    "\n",
    "new_data2=descriptive_stats(db)\n",
    "new_data2"
   ]
  },
  {
   "cell_type": "code",
   "execution_count": 58,
   "id": "2dae2316",
   "metadata": {},
   "outputs": [
    {
     "name": "stdout",
     "output_type": "stream",
     "text": [
      "<class 'pandas.core.frame.DataFrame'>\n",
      "RangeIndex: 2160 entries, 0 to 2159\n",
      "Data columns (total 10 columns):\n",
      " #   Column                                                                                                                     Non-Null Count  Dtype  \n",
      "---  ------                                                                                                                     --------------  -----  \n",
      " 0   Year                                                                                                                       2160 non-null   int64  \n",
      " 1   Month                                                                                                                      2160 non-null   object \n",
      " 2   MobileWeb_or_Web                                                                                                           2160 non-null   object \n",
      " 3   Type_of_Customers?                                                                                                         2160 non-null   object \n",
      " 4   Where_Are_They_comming_from?                                                                                               2160 non-null   object \n",
      " 5   Which_Place_in_India?                                                                                                      2160 non-null   object \n",
      " 6   How_many_Landed_on_our_Page?                                                                                               1080 non-null   float64\n",
      " 7   How_many_Landed_on_the_our_Page_and_clicked_on_a_button?                                                                   1080 non-null   float64\n",
      " 8   How_many_Landed_on_the_our_Page_and_clicked_on_a_button_and_started_filling_the_Form?                                      2160 non-null   int64  \n",
      " 9   How_many_Landed_on_the_our_Page_and_clicked_on_a_button_and_started_filling_the_Form_and_Completed_and_submited_the_form?  2160 non-null   int64  \n",
      "dtypes: float64(2), int64(3), object(5)\n",
      "memory usage: 168.9+ KB\n"
     ]
    }
   ],
   "source": [
    "db.info()"
   ]
  },
  {
   "cell_type": "markdown",
   "id": "71a27374",
   "metadata": {},
   "source": [
    "## Part 3\n",
    "**Prescriptive statistics**"
   ]
  },
  {
   "cell_type": "markdown",
   "id": "17b5c82d",
   "metadata": {},
   "source": [
    "Can you write code and present the data which would help us answer (Text in “” are\n",
    "column names) :\n",
    "1. “Which_Place_in_India?” has the highest\n",
    "“How_many_Landed_on_the_our_Page?”\n",
    "2. “How_many_Landed_on_the_our_Page_and_clicked_on_a_button_and_started_f\n",
    "illing_the_Form_and_Completed_and_submited_the_form?” divided by\n",
    "“How_many_Landed_on _our_Page?” is highest for “Which_Place_in_India?”"
   ]
  },
  {
   "cell_type": "code",
   "execution_count": 60,
   "id": "fe4a989e",
   "metadata": {},
   "outputs": [
    {
     "data": {
      "text/html": [
       "<div>\n",
       "<style scoped>\n",
       "    .dataframe tbody tr th:only-of-type {\n",
       "        vertical-align: middle;\n",
       "    }\n",
       "\n",
       "    .dataframe tbody tr th {\n",
       "        vertical-align: top;\n",
       "    }\n",
       "\n",
       "    .dataframe thead th {\n",
       "        text-align: right;\n",
       "    }\n",
       "</style>\n",
       "<table border=\"1\" class=\"dataframe\">\n",
       "  <thead>\n",
       "    <tr style=\"text-align: right;\">\n",
       "      <th></th>\n",
       "      <th>Year</th>\n",
       "      <th>Month</th>\n",
       "      <th>MobileWeb_or_Web</th>\n",
       "      <th>Type_of_Customers?</th>\n",
       "      <th>Where_Are_They_comming_from?</th>\n",
       "      <th>Which_Place_in_India?</th>\n",
       "      <th>How_many_Landed_on_our_Page?</th>\n",
       "      <th>How_many_Landed_on_the_our_Page_and_clicked_on_a_button?</th>\n",
       "      <th>How_many_Landed_on_the_our_Page_and_clicked_on_a_button_and_started_filling_the_Form?</th>\n",
       "      <th>How_many_Landed_on_the_our_Page_and_clicked_on_a_button_and_started_filling_the_Form_and_Completed_and_submited_the_form?</th>\n",
       "    </tr>\n",
       "  </thead>\n",
       "  <tbody>\n",
       "    <tr>\n",
       "      <th>0</th>\n",
       "      <td>2019</td>\n",
       "      <td>Jan</td>\n",
       "      <td>Desktop_Website</td>\n",
       "      <td>Existing_Customer</td>\n",
       "      <td>Came_From_Google</td>\n",
       "      <td>Bangalore</td>\n",
       "      <td>NaN</td>\n",
       "      <td>NaN</td>\n",
       "      <td>56892</td>\n",
       "      <td>17178</td>\n",
       "    </tr>\n",
       "    <tr>\n",
       "      <th>1</th>\n",
       "      <td>2019</td>\n",
       "      <td>Jan</td>\n",
       "      <td>Desktop_Website</td>\n",
       "      <td>Existing_Customer</td>\n",
       "      <td>Came_From_Google</td>\n",
       "      <td>Chennai</td>\n",
       "      <td>NaN</td>\n",
       "      <td>NaN</td>\n",
       "      <td>41460</td>\n",
       "      <td>11916</td>\n",
       "    </tr>\n",
       "  </tbody>\n",
       "</table>\n",
       "</div>"
      ],
      "text/plain": [
       "   Year Month MobileWeb_or_Web Type_of_Customers?  \\\n",
       "0  2019   Jan  Desktop_Website  Existing_Customer   \n",
       "1  2019   Jan  Desktop_Website  Existing_Customer   \n",
       "\n",
       "  Where_Are_They_comming_from? Which_Place_in_India?  \\\n",
       "0             Came_From_Google             Bangalore   \n",
       "1             Came_From_Google               Chennai   \n",
       "\n",
       "   How_many_Landed_on_our_Page?  \\\n",
       "0                           NaN   \n",
       "1                           NaN   \n",
       "\n",
       "   How_many_Landed_on_the_our_Page_and_clicked_on_a_button?  \\\n",
       "0                                                NaN          \n",
       "1                                                NaN          \n",
       "\n",
       "   How_many_Landed_on_the_our_Page_and_clicked_on_a_button_and_started_filling_the_Form?  \\\n",
       "0                                              56892                                       \n",
       "1                                              41460                                       \n",
       "\n",
       "   How_many_Landed_on_the_our_Page_and_clicked_on_a_button_and_started_filling_the_Form_and_Completed_and_submited_the_form?  \n",
       "0                                              17178                                                                          \n",
       "1                                              11916                                                                          "
      ]
     },
     "execution_count": 60,
     "metadata": {},
     "output_type": "execute_result"
    }
   ],
   "source": [
    "db.head(2)"
   ]
  },
  {
   "cell_type": "code",
   "execution_count": 61,
   "id": "66110bdd",
   "metadata": {},
   "outputs": [
    {
     "data": {
      "text/plain": [
       "Which_Place_in_India?\n",
       "Pune         319132898.0\n",
       "Indore       282329031.0\n",
       "Chennai      132052059.0\n",
       "Dehradun      62484684.0\n",
       "Bangalore     51255804.0\n",
       "Name: How_many_Landed_on_our_Page?, dtype: float64"
      ]
     },
     "execution_count": 61,
     "metadata": {},
     "output_type": "execute_result"
    }
   ],
   "source": [
    "#1\n",
    "\n",
    "db.groupby(['Which_Place_in_India?'])['How_many_Landed_on_our_Page?'].sum().sort_values(ascending=False)"
   ]
  },
  {
   "cell_type": "code",
   "execution_count": 62,
   "id": "c493a881",
   "metadata": {},
   "outputs": [],
   "source": [
    "# creating and adding new column\n",
    "\n",
    "db['new_col']=db['How_many_Landed_on_the_our_Page_and_clicked_on_a_button_and_started_filling_the_Form_and_Completed_and_submited_the_form?']/db['How_many_Landed_on_our_Page?']"
   ]
  },
  {
   "cell_type": "code",
   "execution_count": 63,
   "id": "87933e11",
   "metadata": {},
   "outputs": [
    {
     "data": {
      "text/plain": [
       "Which_Place_in_India?\n",
       "Indore       36.588415\n",
       "Bangalore    32.240055\n",
       "Chennai      30.745497\n",
       "Pune         27.896745\n",
       "Dehradun     24.911209\n",
       "Name: new_col, dtype: float64"
      ]
     },
     "execution_count": 63,
     "metadata": {},
     "output_type": "execute_result"
    }
   ],
   "source": [
    "# 'new_Col' is highest for “Which_Place_in_India?”\n",
    "\n",
    "db.groupby(['Which_Place_in_India?'])['new_col'].sum().sort_values(ascending=False)"
   ]
  },
  {
   "cell_type": "code",
   "execution_count": 64,
   "id": "d7ebbfee",
   "metadata": {
    "scrolled": true
   },
   "outputs": [
    {
     "data": {
      "text/html": [
       "<div>\n",
       "<style scoped>\n",
       "    .dataframe tbody tr th:only-of-type {\n",
       "        vertical-align: middle;\n",
       "    }\n",
       "\n",
       "    .dataframe tbody tr th {\n",
       "        vertical-align: top;\n",
       "    }\n",
       "\n",
       "    .dataframe thead th {\n",
       "        text-align: right;\n",
       "    }\n",
       "</style>\n",
       "<table border=\"1\" class=\"dataframe\">\n",
       "  <thead>\n",
       "    <tr style=\"text-align: right;\">\n",
       "      <th></th>\n",
       "      <th>Year</th>\n",
       "      <th>Month</th>\n",
       "      <th>MobileWeb_or_Web</th>\n",
       "      <th>Type_of_Customers?</th>\n",
       "      <th>Where_Are_They_comming_from?</th>\n",
       "      <th>Which_Place_in_India?</th>\n",
       "      <th>How_many_Landed_on_our_Page?</th>\n",
       "      <th>How_many_Landed_on_the_our_Page_and_clicked_on_a_button?</th>\n",
       "      <th>How_many_Landed_on_the_our_Page_and_clicked_on_a_button_and_started_filling_the_Form?</th>\n",
       "      <th>How_many_Landed_on_the_our_Page_and_clicked_on_a_button_and_started_filling_the_Form_and_Completed_and_submited_the_form?</th>\n",
       "      <th>new_col</th>\n",
       "    </tr>\n",
       "  </thead>\n",
       "  <tbody>\n",
       "    <tr>\n",
       "      <th>0</th>\n",
       "      <td>2019</td>\n",
       "      <td>Jan</td>\n",
       "      <td>Desktop_Website</td>\n",
       "      <td>Existing_Customer</td>\n",
       "      <td>Came_From_Google</td>\n",
       "      <td>Bangalore</td>\n",
       "      <td>NaN</td>\n",
       "      <td>NaN</td>\n",
       "      <td>56892</td>\n",
       "      <td>17178</td>\n",
       "      <td>NaN</td>\n",
       "    </tr>\n",
       "    <tr>\n",
       "      <th>1</th>\n",
       "      <td>2019</td>\n",
       "      <td>Jan</td>\n",
       "      <td>Desktop_Website</td>\n",
       "      <td>Existing_Customer</td>\n",
       "      <td>Came_From_Google</td>\n",
       "      <td>Chennai</td>\n",
       "      <td>NaN</td>\n",
       "      <td>NaN</td>\n",
       "      <td>41460</td>\n",
       "      <td>11916</td>\n",
       "      <td>NaN</td>\n",
       "    </tr>\n",
       "  </tbody>\n",
       "</table>\n",
       "</div>"
      ],
      "text/plain": [
       "   Year Month MobileWeb_or_Web Type_of_Customers?  \\\n",
       "0  2019   Jan  Desktop_Website  Existing_Customer   \n",
       "1  2019   Jan  Desktop_Website  Existing_Customer   \n",
       "\n",
       "  Where_Are_They_comming_from? Which_Place_in_India?  \\\n",
       "0             Came_From_Google             Bangalore   \n",
       "1             Came_From_Google               Chennai   \n",
       "\n",
       "   How_many_Landed_on_our_Page?  \\\n",
       "0                           NaN   \n",
       "1                           NaN   \n",
       "\n",
       "   How_many_Landed_on_the_our_Page_and_clicked_on_a_button?  \\\n",
       "0                                                NaN          \n",
       "1                                                NaN          \n",
       "\n",
       "   How_many_Landed_on_the_our_Page_and_clicked_on_a_button_and_started_filling_the_Form?  \\\n",
       "0                                              56892                                       \n",
       "1                                              41460                                       \n",
       "\n",
       "   How_many_Landed_on_the_our_Page_and_clicked_on_a_button_and_started_filling_the_Form_and_Completed_and_submited_the_form?  \\\n",
       "0                                              17178                                                                           \n",
       "1                                              11916                                                                           \n",
       "\n",
       "   new_col  \n",
       "0      NaN  \n",
       "1      NaN  "
      ]
     },
     "execution_count": 64,
     "metadata": {},
     "output_type": "execute_result"
    }
   ],
   "source": [
    "db.head(2)"
   ]
  },
  {
   "cell_type": "markdown",
   "id": "cebfbad8",
   "metadata": {},
   "source": [
    "."
   ]
  },
  {
   "cell_type": "markdown",
   "id": "b79c79df",
   "metadata": {},
   "source": [
    "## Part 4\n",
    "**Simple Machine learning questions**"
   ]
  },
  {
   "cell_type": "markdown",
   "id": "c0cd610f",
   "metadata": {},
   "source": [
    "Write a function called pred_future() which, when called, would perform the following\n",
    "activity:\n",
    "1. Predict\n",
    "“How_many_Landed_on_the_our_Page_and_clicked_on_a_button_and_started_f\n",
    "illing_the_Form_and_Completed_and_submited_the_form?” for the complete\n",
    "year of 2022\n",
    "2. Generate the overall MAPE of your prediction for the year 2021."
   ]
  },
  {
   "cell_type": "code",
   "execution_count": 65,
   "id": "69fcd04c",
   "metadata": {},
   "outputs": [],
   "source": [
    "    def  pred_future(db): \n",
    "        from sklearn.model_selection import train_test_split\n",
    "\n",
    "        y = db[[\"How_many_Landed_on_the_our_Page_and_clicked_on_a_button_and_started_filling_the_Form_and_Completed_and_submited_the_form?\"]]\n",
    "        X = db[['How_many_Landed_on_the_our_Page_and_clicked_on_a_button_and_started_filling_the_Form?']]\n",
    "        X_train, X_test, y_train, y_test = train_test_split(X, y, test_size = 1/3, random_state = 10)\n",
    "\n",
    "        from sklearn.linear_model import LinearRegression\n",
    "        regressor = LinearRegression()\n",
    "        regressor.fit(X_train, y_train)\n",
    "\n",
    "        y_pred = regressor.predict(X_test)\n",
    "        return y_pred\n",
    "pred_future(db)\n",
    "        \n",
    "db['predicted_values']=pd.DataFrame(pred_future(db))\n"
   ]
  },
  {
   "cell_type": "markdown",
   "id": "bce492ed",
   "metadata": {},
   "source": [
    "**I am really Sorry I could'nt done the 2nd question of this part, the reason because I am still learning ML and Statistics concepts as part of my Data Science learning. This is the reason like I could'nt understood that concept , but I am learning and once I am thorough with this concept I surely complete it.** \n",
    "\n",
    "***I am really sorry I could'nt do in ML related questions***"
   ]
  },
  {
   "cell_type": "code",
   "execution_count": null,
   "id": "e4ca9f79",
   "metadata": {},
   "outputs": [],
   "source": []
  },
  {
   "cell_type": "markdown",
   "id": "7d552dd9",
   "metadata": {},
   "source": [
    "## Part 5\n",
    "**Visualization**"
   ]
  },
  {
   "cell_type": "markdown",
   "id": "555e2bd1",
   "metadata": {},
   "source": [
    "Please write a code to display :\n",
    "1. A line graph for\n",
    "“How_many_Landed_on_the_our_Page_and_clicked_on_a_button?” for the\n",
    "different “Which_Place_in_India?” over the months of the year 2019 & 2020.\n",
    "2. A line graph of the actual and projected number of\n",
    "“How_many_Landed_on_the_our_Page_and_clicked_on_a_button_and_started_f\n",
    "illing_the_Form_and_Completed_and_submited_the_form?” for the months of\n",
    "the year 2021 & 2022"
   ]
  },
  {
   "cell_type": "code",
   "execution_count": 66,
   "id": "aad3775b",
   "metadata": {},
   "outputs": [
    {
     "data": {
      "text/html": [
       "<div>\n",
       "<style scoped>\n",
       "    .dataframe tbody tr th:only-of-type {\n",
       "        vertical-align: middle;\n",
       "    }\n",
       "\n",
       "    .dataframe tbody tr th {\n",
       "        vertical-align: top;\n",
       "    }\n",
       "\n",
       "    .dataframe thead th {\n",
       "        text-align: right;\n",
       "    }\n",
       "</style>\n",
       "<table border=\"1\" class=\"dataframe\">\n",
       "  <thead>\n",
       "    <tr style=\"text-align: right;\">\n",
       "      <th></th>\n",
       "      <th>Year</th>\n",
       "      <th>Month</th>\n",
       "      <th>MobileWeb_or_Web</th>\n",
       "      <th>Type_of_Customers?</th>\n",
       "      <th>Where_Are_They_comming_from?</th>\n",
       "      <th>Which_Place_in_India?</th>\n",
       "      <th>How_many_Landed_on_our_Page?</th>\n",
       "      <th>How_many_Landed_on_the_our_Page_and_clicked_on_a_button?</th>\n",
       "      <th>How_many_Landed_on_the_our_Page_and_clicked_on_a_button_and_started_filling_the_Form?</th>\n",
       "      <th>How_many_Landed_on_the_our_Page_and_clicked_on_a_button_and_started_filling_the_Form_and_Completed_and_submited_the_form?</th>\n",
       "      <th>new_col</th>\n",
       "      <th>predicted_values</th>\n",
       "    </tr>\n",
       "  </thead>\n",
       "  <tbody>\n",
       "    <tr>\n",
       "      <th>0</th>\n",
       "      <td>2019</td>\n",
       "      <td>Jan</td>\n",
       "      <td>Desktop_Website</td>\n",
       "      <td>Existing_Customer</td>\n",
       "      <td>Came_From_Google</td>\n",
       "      <td>Bangalore</td>\n",
       "      <td>NaN</td>\n",
       "      <td>NaN</td>\n",
       "      <td>56892</td>\n",
       "      <td>17178</td>\n",
       "      <td>NaN</td>\n",
       "      <td>30575.727357</td>\n",
       "    </tr>\n",
       "    <tr>\n",
       "      <th>1</th>\n",
       "      <td>2019</td>\n",
       "      <td>Jan</td>\n",
       "      <td>Desktop_Website</td>\n",
       "      <td>Existing_Customer</td>\n",
       "      <td>Came_From_Google</td>\n",
       "      <td>Chennai</td>\n",
       "      <td>NaN</td>\n",
       "      <td>NaN</td>\n",
       "      <td>41460</td>\n",
       "      <td>11916</td>\n",
       "      <td>NaN</td>\n",
       "      <td>54037.150645</td>\n",
       "    </tr>\n",
       "  </tbody>\n",
       "</table>\n",
       "</div>"
      ],
      "text/plain": [
       "   Year Month MobileWeb_or_Web Type_of_Customers?  \\\n",
       "0  2019   Jan  Desktop_Website  Existing_Customer   \n",
       "1  2019   Jan  Desktop_Website  Existing_Customer   \n",
       "\n",
       "  Where_Are_They_comming_from? Which_Place_in_India?  \\\n",
       "0             Came_From_Google             Bangalore   \n",
       "1             Came_From_Google               Chennai   \n",
       "\n",
       "   How_many_Landed_on_our_Page?  \\\n",
       "0                           NaN   \n",
       "1                           NaN   \n",
       "\n",
       "   How_many_Landed_on_the_our_Page_and_clicked_on_a_button?  \\\n",
       "0                                                NaN          \n",
       "1                                                NaN          \n",
       "\n",
       "   How_many_Landed_on_the_our_Page_and_clicked_on_a_button_and_started_filling_the_Form?  \\\n",
       "0                                              56892                                       \n",
       "1                                              41460                                       \n",
       "\n",
       "   How_many_Landed_on_the_our_Page_and_clicked_on_a_button_and_started_filling_the_Form_and_Completed_and_submited_the_form?  \\\n",
       "0                                              17178                                                                           \n",
       "1                                              11916                                                                           \n",
       "\n",
       "   new_col  predicted_values  \n",
       "0      NaN      30575.727357  \n",
       "1      NaN      54037.150645  "
      ]
     },
     "execution_count": 66,
     "metadata": {},
     "output_type": "execute_result"
    }
   ],
   "source": [
    "db.head(2)"
   ]
  },
  {
   "cell_type": "code",
   "execution_count": 67,
   "id": "eabfae5f",
   "metadata": {},
   "outputs": [
    {
     "data": {
      "image/png": "[encoded data removed]",
      "text/plain": [
       "<Figure size 720x504 with 1 Axes>"
      ]
     },
     "metadata": {
      "needs_background": "light"
     },
     "output_type": "display_data"
    }
   ],
   "source": [
    "# 1 for year=2019\n",
    "\n",
    "plt.figure(figsize=(10,7))\n",
    "\n",
    "plt.style.use('ggplot')\n",
    "\n",
    "p=db[db['Year']==2019][['Which_Place_in_India?','How_many_Landed_on_the_our_Page_and_clicked_on_a_button?','Month']]\n",
    "sns.lineplot(x='Month',y='How_many_Landed_on_the_our_Page_and_clicked_on_a_button?',hue='Which_Place_in_India?',data=p,ci=None);"
   ]
  },
  {
   "cell_type": "code",
   "execution_count": 68,
   "id": "4c4bf938",
   "metadata": {},
   "outputs": [
    {
     "data": {
      "text/plain": [
       "<AxesSubplot:xlabel='Month', ylabel='How_many_Landed_on_the_our_Page_and_clicked_on_a_button?'>"
      ]
     },
     "execution_count": 68,
     "metadata": {},
     "output_type": "execute_result"
    },
    {
     "data": {
      "image/png": "[encoded data removed]",
      "text/plain": [
       "<Figure size 720x504 with 1 Axes>"
      ]
     },
     "metadata": {},
     "output_type": "display_data"
    }
   ],
   "source": [
    "# 1 for year=2020\n",
    "\n",
    "plt.figure(figsize=(10,7))\n",
    "\n",
    "h=db[db['Year']==2020][['Which_Place_in_India?','How_many_Landed_on_the_our_Page_and_clicked_on_a_button?','Month']]\n",
    "sns.lineplot(x='Month',y='How_many_Landed_on_the_our_Page_and_clicked_on_a_button?',hue='Which_Place_in_India?',data=h,ci=None)\n",
    "#r"
   ]
  },
  {
   "cell_type": "code",
   "execution_count": 70,
   "id": "3f80fe6d",
   "metadata": {},
   "outputs": [
    {
     "data": {
      "text/plain": [
       "Text(0, 0.5, '')"
      ]
     },
     "execution_count": 70,
     "metadata": {},
     "output_type": "execute_result"
    },
    {
     "data": {
      "image/png": "[encoded data removed]",
      "text/plain": [
       "<Figure size 720x504 with 1 Axes>"
      ]
     },
     "metadata": {},
     "output_type": "display_data"
    }
   ],
   "source": [
    "# 2 for year=2021\n",
    "\n",
    "plt.figure(figsize=(10,7))\n",
    "\n",
    "r=db[db['Year']==2021][['How_many_Landed_on_the_our_Page_and_clicked_on_a_button_and_started_filling_the_Form_and_Completed_and_submited_the_form?','Month']]\n",
    "sns.lineplot(x='Month',y='How_many_Landed_on_the_our_Page_and_clicked_on_a_button_and_started_filling_the_Form_and_Completed_and_submited_the_form?',data=r,ci=None)\n",
    "\n",
    "plt.ylabel(None)\n",
    "\n",
    "#r"
   ]
  },
  {
   "cell_type": "code",
   "execution_count": 73,
   "id": "caed2192",
   "metadata": {
    "scrolled": true
   },
   "outputs": [
    {
     "data": {
      "text/html": [
       "<div>\n",
       "<style scoped>\n",
       "    .dataframe tbody tr th:only-of-type {\n",
       "        vertical-align: middle;\n",
       "    }\n",
       "\n",
       "    .dataframe tbody tr th {\n",
       "        vertical-align: top;\n",
       "    }\n",
       "\n",
       "    .dataframe thead th {\n",
       "        text-align: right;\n",
       "    }\n",
       "</style>\n",
       "<table border=\"1\" class=\"dataframe\">\n",
       "  <thead>\n",
       "    <tr style=\"text-align: right;\">\n",
       "      <th></th>\n",
       "      <th>Year</th>\n",
       "      <th>Month</th>\n",
       "      <th>MobileWeb_or_Web</th>\n",
       "      <th>Type_of_Customers?</th>\n",
       "      <th>Where_Are_They_comming_from?</th>\n",
       "      <th>Which_Place_in_India?</th>\n",
       "      <th>How_many_Landed_on_our_Page?</th>\n",
       "      <th>How_many_Landed_on_the_our_Page_and_clicked_on_a_button?</th>\n",
       "      <th>How_many_Landed_on_the_our_Page_and_clicked_on_a_button_and_started_filling_the_Form?</th>\n",
       "      <th>How_many_Landed_on_the_our_Page_and_clicked_on_a_button_and_started_filling_the_Form_and_Completed_and_submited_the_form?</th>\n",
       "      <th>new_col</th>\n",
       "      <th>predicted_values</th>\n",
       "      <th>new_year_2022</th>\n",
       "    </tr>\n",
       "  </thead>\n",
       "  <tbody>\n",
       "    <tr>\n",
       "      <th>0</th>\n",
       "      <td>2019</td>\n",
       "      <td>Jan</td>\n",
       "      <td>Desktop_Website</td>\n",
       "      <td>Existing_Customer</td>\n",
       "      <td>Came_From_Google</td>\n",
       "      <td>Bangalore</td>\n",
       "      <td>NaN</td>\n",
       "      <td>NaN</td>\n",
       "      <td>56892</td>\n",
       "      <td>17178</td>\n",
       "      <td>NaN</td>\n",
       "      <td>30575.727357</td>\n",
       "      <td>2022</td>\n",
       "    </tr>\n",
       "    <tr>\n",
       "      <th>1</th>\n",
       "      <td>2019</td>\n",
       "      <td>Jan</td>\n",
       "      <td>Desktop_Website</td>\n",
       "      <td>Existing_Customer</td>\n",
       "      <td>Came_From_Google</td>\n",
       "      <td>Chennai</td>\n",
       "      <td>NaN</td>\n",
       "      <td>NaN</td>\n",
       "      <td>41460</td>\n",
       "      <td>11916</td>\n",
       "      <td>NaN</td>\n",
       "      <td>54037.150645</td>\n",
       "      <td>2022</td>\n",
       "    </tr>\n",
       "  </tbody>\n",
       "</table>\n",
       "</div>"
      ],
      "text/plain": [
       "   Year Month MobileWeb_or_Web Type_of_Customers?  \\\n",
       "0  2019   Jan  Desktop_Website  Existing_Customer   \n",
       "1  2019   Jan  Desktop_Website  Existing_Customer   \n",
       "\n",
       "  Where_Are_They_comming_from? Which_Place_in_India?  \\\n",
       "0             Came_From_Google             Bangalore   \n",
       "1             Came_From_Google               Chennai   \n",
       "\n",
       "   How_many_Landed_on_our_Page?  \\\n",
       "0                           NaN   \n",
       "1                           NaN   \n",
       "\n",
       "   How_many_Landed_on_the_our_Page_and_clicked_on_a_button?  \\\n",
       "0                                                NaN          \n",
       "1                                                NaN          \n",
       "\n",
       "   How_many_Landed_on_the_our_Page_and_clicked_on_a_button_and_started_filling_the_Form?  \\\n",
       "0                                              56892                                       \n",
       "1                                              41460                                       \n",
       "\n",
       "   How_many_Landed_on_the_our_Page_and_clicked_on_a_button_and_started_filling_the_Form_and_Completed_and_submited_the_form?  \\\n",
       "0                                              17178                                                                           \n",
       "1                                              11916                                                                           \n",
       "\n",
       "   new_col  predicted_values  new_year_2022  \n",
       "0      NaN      30575.727357           2022  \n",
       "1      NaN      54037.150645           2022  "
      ]
     },
     "execution_count": 73,
     "metadata": {},
     "output_type": "execute_result"
    }
   ],
   "source": [
    "# creating new col of year =2022\n",
    "db['new_year_2022']=2022\n",
    "db.head(2)"
   ]
  },
  {
   "cell_type": "code",
   "execution_count": 75,
   "id": "20b551ab",
   "metadata": {},
   "outputs": [
    {
     "data": {
      "text/plain": [
       "Text(0, 0.5, '')"
      ]
     },
     "execution_count": 75,
     "metadata": {},
     "output_type": "execute_result"
    },
    {
     "data": {
      "image/png": "[encoded data removed]",
      "text/plain": [
       "<Figure size 720x504 with 1 Axes>"
      ]
     },
     "metadata": {},
     "output_type": "display_data"
    }
   ],
   "source": [
    "# predicted line graph for year =2022\n",
    "\n",
    "plt.figure(figsize=(10,7))\n",
    "o=db[db['new_year_2022']==2022][['How_many_Landed_on_the_our_Page_and_clicked_on_a_button_and_started_filling_the_Form_and_Completed_and_submited_the_form?','Month']]\n",
    "\n",
    "sns.lineplot(x='Month',y='How_many_Landed_on_the_our_Page_and_clicked_on_a_button_and_started_filling_the_Form_and_Completed_and_submited_the_form?',data=o,ci=None)\n",
    "\n",
    "plt.ylabel(None)"
   ]
  },
  {
   "cell_type": "code",
   "execution_count": null,
   "id": "24f06aba",
   "metadata": {},
   "outputs": [],
   "source": []
  },
  {
   "cell_type": "markdown",
   "id": "a3554fd5",
   "metadata": {},
   "source": [
    "## Part 6\n",
    "**About the Previous projects**"
   ]
  },
  {
   "cell_type": "markdown",
   "id": "77ed419e",
   "metadata": {},
   "source": [
    "> **The interesting and really learning project I have done is Exploratory data Analysis project on Retail store dataset, and it was not related to Data Science, but it was rather a Data Analytics proeject and very engaging project , by working on that project I was able to learning very valuable things like - how to perform EDA on datasets, create visualiations of different plots and generate insigths, and also learned some new codes and functions in both pandas, matplotlib and \n",
    "seaborn.**\n",
    "\n",
    "\n",
    ">**In this project I downloaded a samplesuperstore dataset from kaggle ,most of the data was already cleaned so there was no major cleaning part. Then by using pandas I performed data exploration and data analysis on various factors like - Total sales made and total profit earned,Max sales and Max profit, total sales and profit per ship mode,total sales and profit per category,statewise sales etcc... THen I visualized these results using visuals like - piechart, barplot, lineplot, pairplots heatmap etc.. Also uncovered trends, and identified key business problems and made \n",
    "conclusions in the below each factors based on visuals.**\n",
    "\n",
    "\n",
    "\n",
    "GitHub - https://bit.ly/3V7EnOT\n",
    "\n",
    "LinkedIn - https://www.linkedin.com/in/-mohamad-ehthesham/overlay/contact-info/\n"
   ]
  },
  {
   "cell_type": "markdown",
   "id": "1c1d563c",
   "metadata": {},
   "source": [
    "## Part 7 : \n",
    "**Time management**\n",
    "\n",
    "    Can you please share your thoughts, in less than 120 words, on “If you get selected, how\n",
    "    will you manage your time for this full-time internship opportunity”"
   ]
  },
  {
   "cell_type": "markdown",
   "id": "5de90635",
   "metadata": {},
   "source": [
    ">**Firstly I would like to tell you that I am mechanical background but I have good data science concepts, I have been learning data science basics from past 5 months and I am learning it on my own from online platforms like coursera,udemy and youtube Not from some data science intstituions, because I have a strong desire and passion to become a well skilled data scientist one day and one day work on some revolutionary projects.**\n",
    "\n",
    "            \n",
    "> **I have been learning and building projects, If I get this internship at [at Fittlyf](https://internshala.com/internship/detail/business-analytics-work-from-home-job-internship-at-fittlyf1664790239) I will be able to get into boost mode,\n",
    "I will keep myself contantly engaging throught out the day by proper time managment, by learning new things about the company, by asking experts on data concepts and doubt clearing, working with experts doing real life projects , communicating with my seniors,supervisors and my peers and much more.**\n",
    "\n",
    "\n",
    "\n",
    ">  **I have been learning and gaining new skills, one thing I lack is expert guidance and exposure to real life projects and practical knwoldge and I am wholeheartedly hoping to gain this from this internship, even though it may be Unpaid.\n",
    "        So please give me a chance.**"
   ]
  },
  {
   "cell_type": "markdown",
   "id": "27aa07cf",
   "metadata": {},
   "source": [
    "###                                                                                           Thank You"
   ]
  },
  {
   "cell_type": "code",
   "execution_count": null,
   "id": "50ee1280",
   "metadata": {},
   "outputs": [],
   "source": []
  }
 ],
 "metadata": {
  "kernelspec": {
   "display_name": "Python 3 (ipykernel)",
   "language": "python",
   "name": "python3"
  },
  "language_info": {
   "codemirror_mode": {
    "name": "ipython",
    "version": 3
   },
   "file_extension": ".py",
   "mimetype": "text/x-python",
   "name": "python",
   "nbconvert_exporter": "python",
   "pygments_lexer": "ipython3",
   "version": "3.9.7"
  }
 },
 "nbformat": 4,
 "nbformat_minor": 5
}
