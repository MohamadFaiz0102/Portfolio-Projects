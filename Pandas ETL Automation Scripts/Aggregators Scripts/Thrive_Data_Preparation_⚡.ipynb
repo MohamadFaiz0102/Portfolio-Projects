{
 "cells": [
  {
   "cell_type": "markdown",
   "metadata": {},
   "source": [
    "### Linking Drive"
   ]
  },
  {
   "cell_type": "code",
   "execution_count": null,
   "metadata": {
    "colab": {
     "base_uri": "https://localhost:8080/"
    },
    "id": "qZwWB80NqHlU",
    "outputId": "cd02d1a2-fc0e-411e-d8f9-3153c174d9ea"
   },
   "outputs": [
    {
     "name": "stdout",
     "output_type": "stream",
     "text": [
      "Mounted at /content/drive/\n"
     ]
    }
   ],
   "source": [
    "from google.colab import drive\n",
    "drive.mount('/content/drive/')"
   ]
  },
  {
   "cell_type": "markdown",
   "metadata": {},
   "source": [
    "### Importing libraries"
   ]
  },
  {
   "cell_type": "code",
   "execution_count": null,
   "metadata": {
    "id": "IsDL9qtfqThW"
   },
   "outputs": [],
   "source": [
    "import pandas as pd\n",
    "import shutil\n",
    "import os\n",
    "import datetime \n",
    "import glob\n",
    "import numpy as np\n",
    "from openpyxl import load_workbook\n",
    "\n",
    "#\n",
    "import re"
   ]
  },
  {
   "cell_type": "code",
   "execution_count": null,
   "metadata": {
    "colab": {
     "base_uri": "https://localhost:8080/"
    },
    "id": "2keeUe1hqsWV",
    "outputId": "d7af513a-b855-44fb-a42b-a6c01111ce7a"
   },
   "outputs": [
    {
     "data": {
      "text/plain": [
       "192"
      ]
     },
     "execution_count": 4,
     "metadata": {},
     "output_type": "execute_result"
    }
   ],
   "source": [
    "len(os.listdir('/content/drive/MyDrive/08_Sales/01_Sales_Reports/D_Thrive/Frm April Summary report'))"
   ]
  },
  {
   "cell_type": "markdown",
   "metadata": {},
   "source": [
    "### Copying Files"
   ]
  },
  {
   "cell_type": "code",
   "execution_count": null,
   "metadata": {
    "colab": {
     "base_uri": "https://localhost:8080/"
    },
    "id": "zQwZHpOMqgQa",
    "outputId": "00118866-dec5-4e94-9237-7ee347b7713d"
   },
   "outputs": [],
   "source": [
    "source='/content/drive/MyDrive/Partners Reports 🧩/Thrive reports'\n",
    "dest='/content/drive/MyDrive/01_Sales_Reports/D_Thrive/Frm April detailed report'\n",
    "count=0\n",
    "\n",
    "for file in os.listdir(source):\n",
    "    if 'detailed_report' in file:\n",
    "        count+=1\n",
    "        src_path=os.path.join(source,file)\n",
    "        des_path=os.path.join(dest,file)\n",
    "        shutil.copy(src_path,des_path) \n",
    "print(count)"
   ]
  },
  {
   "cell_type": "markdown",
   "metadata": {
    "id": "cBFtO2d_4rBj"
   },
   "source": [
    "## Standard Format Consolidation"
   ]
  },
  {
   "cell_type": "markdown",
   "metadata": {},
   "source": [
    "### Main DC code"
   ]
  },
  {
   "cell_type": "code",
   "execution_count": null,
   "metadata": {
    "colab": {
     "base_uri": "https://localhost:8080/"
    },
    "id": "RwGxZ8_5U2Sd",
    "outputId": "631d68dd-d2dd-4591-f03a-00678bc309d9"
   },
   "outputs": [
    {
     "name": "stdout",
     "output_type": "stream",
     "text": [
      "8\n"
     ]
    }
   ],
   "source": [
    "#@title Main Code\n",
    "data=pd.DataFrame()\n",
    "path = '/content/drive/MyDrive/Partners Reports 🧩/Thrive reports frm 230123-290123' # use your path\n",
    "\n",
    "count=0\n",
    "\n",
    "files = glob.glob(os.path.join(path , \"*.csv\")) ## getting each .csv files paths\n",
    "\n",
    "for file in files:\n",
    "    if 'summary' in file:\n",
    "        read_csv=pd.read_csv(file,names=['Column1',\t'Column2'\t,\t'Column3'\t,'Column4', 'Column5','Column6'],skiprows=7)\n",
    "\n",
    "        read_csv2=pd.read_csv(file,names=['Column1',\t'Column2'\t,\t'Column3'\t,'Column4', 'Column5'])\n",
    "\n",
    "        read_csv.insert(1,'Period From',read_csv2.iloc[1]['Column2'],allow_duplicates=False)\n",
    "        read_csv.insert(2,'Period To',read_csv2.iloc[2]['Column2'],allow_duplicates=False)\n",
    "        read_csv.insert(3,'Res_name',read_csv2.iloc[0]['Column2'],allow_duplicates=False)\n",
    "        \n",
    "        data=pd.concat([data,read_csv])\n",
    "        count+=1\n",
    "        \n",
    "print(count)"
   ]
  },
  {
   "cell_type": "code",
   "execution_count": null,
   "metadata": {
    "colab": {
     "base_uri": "https://localhost:8080/",
     "height": 112
    },
    "id": "4Xh67yYZafbb",
    "outputId": "5e1f48db-b53d-421e-8050-47a7f568982f"
   },
   "outputs": [
    {
     "data": {
      "text/html": [
       "\n",
       "  <div id=\"df-d70564fd-d6ba-4295-a669-2e462e1b970e\">\n",
       "    <div class=\"colab-df-container\">\n",
       "      <div>\n",
       "<style scoped>\n",
       "    .dataframe tbody tr th:only-of-type {\n",
       "        vertical-align: middle;\n",
       "    }\n",
       "\n",
       "    .dataframe tbody tr th {\n",
       "        vertical-align: top;\n",
       "    }\n",
       "\n",
       "    .dataframe thead th {\n",
       "        text-align: right;\n",
       "    }\n",
       "</style>\n",
       "<table border=\"1\" class=\"dataframe\">\n",
       "  <thead>\n",
       "    <tr style=\"text-align: right;\">\n",
       "      <th></th>\n",
       "      <th>Column1</th>\n",
       "      <th>Period From</th>\n",
       "      <th>Period To</th>\n",
       "      <th>Res_name</th>\n",
       "      <th>Column2</th>\n",
       "      <th>Column3</th>\n",
       "      <th>Column4</th>\n",
       "      <th>Column5</th>\n",
       "      <th>Column6</th>\n",
       "    </tr>\n",
       "  </thead>\n",
       "  <tbody>\n",
       "    <tr>\n",
       "      <th>0</th>\n",
       "      <td>NaN</td>\n",
       "      <td>01-01-2023</td>\n",
       "      <td>31-01-2023</td>\n",
       "      <td>Mann Food Court</td>\n",
       "      <td>Delivery Orders</td>\n",
       "      <td>Take-Away Orders</td>\n",
       "      <td>Dine In Orders</td>\n",
       "      <td>Cancelled Orders</td>\n",
       "      <td>Total Orders</td>\n",
       "    </tr>\n",
       "    <tr>\n",
       "      <th>1</th>\n",
       "      <td>Number Of Orders</td>\n",
       "      <td>01-01-2023</td>\n",
       "      <td>31-01-2023</td>\n",
       "      <td>Mann Food Court</td>\n",
       "      <td>102</td>\n",
       "      <td>6</td>\n",
       "      <td>0</td>\n",
       "      <td>1</td>\n",
       "      <td>108</td>\n",
       "    </tr>\n",
       "  </tbody>\n",
       "</table>\n",
       "</div>\n",
       "      <button class=\"colab-df-convert\" onclick=\"convertToInteractive('df-d70564fd-d6ba-4295-a669-2e462e1b970e')\"\n",
       "              title=\"Convert this dataframe to an interactive table.\"\n",
       "              style=\"display:none;\">\n",
       "        \n",
       "  <svg xmlns=\"http://www.w3.org/2000/svg\" height=\"24px\"viewBox=\"0 0 24 24\"\n",
       "       width=\"24px\">\n",
       "    <path d=\"M0 0h24v24H0V0z\" fill=\"none\"/>\n",
       "    <path d=\"M18.56 5.44l.94 2.06.94-2.06 2.06-.94-2.06-.94-.94-2.06-.94 2.06-2.06.94zm-11 1L8.5 8.5l.94-2.06 2.06-.94-2.06-.94L8.5 2.5l-.94 2.06-2.06.94zm10 10l.94 2.06.94-2.06 2.06-.94-2.06-.94-.94-2.06-.94 2.06-2.06.94z\"/><path d=\"M17.41 7.96l-1.37-1.37c-.4-.4-.92-.59-1.43-.59-.52 0-1.04.2-1.43.59L10.3 9.45l-7.72 7.72c-.78.78-.78 2.05 0 2.83L4 21.41c.39.39.9.59 1.41.59.51 0 1.02-.2 1.41-.59l7.78-7.78 2.81-2.81c.8-.78.8-2.07 0-2.86zM5.41 20L4 18.59l7.72-7.72 1.47 1.35L5.41 20z\"/>\n",
       "  </svg>\n",
       "      </button>\n",
       "      \n",
       "  <style>\n",
       "    .colab-df-container {\n",
       "      display:flex;\n",
       "      flex-wrap:wrap;\n",
       "      gap: 12px;\n",
       "    }\n",
       "\n",
       "    .colab-df-convert {\n",
       "      background-color: #E8F0FE;\n",
       "      border: none;\n",
       "      border-radius: 50%;\n",
       "      cursor: pointer;\n",
       "      display: none;\n",
       "      fill: #1967D2;\n",
       "      height: 32px;\n",
       "      padding: 0 0 0 0;\n",
       "      width: 32px;\n",
       "    }\n",
       "\n",
       "    .colab-df-convert:hover {\n",
       "      background-color: #E2EBFA;\n",
       "      box-shadow: 0px 1px 2px rgba(60, 64, 67, 0.3), 0px 1px 3px 1px rgba(60, 64, 67, 0.15);\n",
       "      fill: #174EA6;\n",
       "    }\n",
       "\n",
       "    [theme=dark] .colab-df-convert {\n",
       "      background-color: #3B4455;\n",
       "      fill: #D2E3FC;\n",
       "    }\n",
       "\n",
       "    [theme=dark] .colab-df-convert:hover {\n",
       "      background-color: #434B5C;\n",
       "      box-shadow: 0px 1px 3px 1px rgba(0, 0, 0, 0.15);\n",
       "      filter: drop-shadow(0px 1px 2px rgba(0, 0, 0, 0.3));\n",
       "      fill: #FFFFFF;\n",
       "    }\n",
       "  </style>\n",
       "\n",
       "      <script>\n",
       "        const buttonEl =\n",
       "          document.querySelector('#df-d70564fd-d6ba-4295-a669-2e462e1b970e button.colab-df-convert');\n",
       "        buttonEl.style.display =\n",
       "          google.colab.kernel.accessAllowed ? 'block' : 'none';\n",
       "\n",
       "        async function convertToInteractive(key) {\n",
       "          const element = document.querySelector('#df-d70564fd-d6ba-4295-a669-2e462e1b970e');\n",
       "          const dataTable =\n",
       "            await google.colab.kernel.invokeFunction('convertToInteractive',\n",
       "                                                     [key], {});\n",
       "          if (!dataTable) return;\n",
       "\n",
       "          const docLinkHtml = 'Like what you see? Visit the ' +\n",
       "            '<a target=\"_blank\" href=https://colab.research.google.com/notebooks/data_table.ipynb>data table notebook</a>'\n",
       "            + ' to learn more about interactive tables.';\n",
       "          element.innerHTML = '';\n",
       "          dataTable['output_type'] = 'display_data';\n",
       "          await google.colab.output.renderOutput(dataTable, element);\n",
       "          const docLink = document.createElement('div');\n",
       "          docLink.innerHTML = docLinkHtml;\n",
       "          element.appendChild(docLink);\n",
       "        }\n",
       "      </script>\n",
       "    </div>\n",
       "  </div>\n",
       "  "
      ],
      "text/plain": [
       "            Column1 Period From   Period To         Res_name          Column2  \\\n",
       "0               NaN  01-01-2023  31-01-2023  Mann Food Court  Delivery Orders   \n",
       "1  Number Of Orders  01-01-2023  31-01-2023  Mann Food Court              102   \n",
       "\n",
       "            Column3         Column4           Column5       Column6  \n",
       "0  Take-Away Orders  Dine In Orders  Cancelled Orders  Total Orders  \n",
       "1                 6               0                 1           108  "
      ]
     },
     "execution_count": 29,
     "metadata": {},
     "output_type": "execute_result"
    }
   ],
   "source": [
    "data.head(2)"
   ]
  },
  {
   "cell_type": "markdown",
   "metadata": {},
   "source": [
    "### Droping Null Rows"
   ]
  },
  {
   "cell_type": "code",
   "execution_count": 1,
   "metadata": {
    "cellView": "form",
    "colab": {
     "base_uri": "https://localhost:8080/"
    },
    "id": "pnTwSogMY-t1",
    "outputId": "3f5d8b33-a549-4528-8fae-2863de321935"
   },
   "outputs": [],
   "source": [
    "# Droping Null Rows\n",
    "data.dropna(0,how='all',subset=['Column1',\t'Column2'\t,\t'Column3'\t,'Column4', 'Column5','Column6'],inplace=True);"
   ]
  },
  {
   "cell_type": "markdown",
   "metadata": {},
   "source": [
    "### Droping rows and Renaming the cols"
   ]
  },
  {
   "cell_type": "code",
   "execution_count": 2,
   "metadata": {
    "cellView": "form",
    "colab": {
     "base_uri": "https://localhost:8080/"
    },
    "id": "_txxJjS1bXF8",
    "outputId": "4eea8fc6-a265-4a75-e87a-8d5a8a3d5661"
   },
   "outputs": [],
   "source": [
    "# Droping rows and Renaming the cols\n",
    "\n",
    "data.dropna(0,how='any',subset=['Column1'],inplace=True)\n",
    "\n",
    "r=\t['Column1','Column2'\t,\t'Column3'\t,'Column4', 'Column5','Column6']\n",
    "d=['Particular','Delivery Orders',\t'Take-Away Orders',\t'Dine In Orders'\t,'Cancelled Orders'\t,'Total Orders']\n",
    "rename_cols=dict(zip(r,d))\n",
    "#rename_cols\n",
    "data.rename(columns=rename_cols,inplace=True);"
   ]
  },
  {
   "cell_type": "code",
   "execution_count": null,
   "metadata": {
    "colab": {
     "base_uri": "https://localhost:8080/",
     "height": 257
    },
    "id": "ySUB5VuZVrNq",
    "outputId": "b36bbfa1-a378-4493-d49a-60f47838afb5"
   },
   "outputs": [
    {
     "data": {
      "text/html": [
       "\n",
       "  <div id=\"df-736f75c4-0aad-41c0-b2a5-a13a1792135e\">\n",
       "    <div class=\"colab-df-container\">\n",
       "      <div>\n",
       "<style scoped>\n",
       "    .dataframe tbody tr th:only-of-type {\n",
       "        vertical-align: middle;\n",
       "    }\n",
       "\n",
       "    .dataframe tbody tr th {\n",
       "        vertical-align: top;\n",
       "    }\n",
       "\n",
       "    .dataframe thead th {\n",
       "        text-align: right;\n",
       "    }\n",
       "</style>\n",
       "<table border=\"1\" class=\"dataframe\">\n",
       "  <thead>\n",
       "    <tr style=\"text-align: right;\">\n",
       "      <th></th>\n",
       "      <th>Particular</th>\n",
       "      <th>Period From</th>\n",
       "      <th>Period To</th>\n",
       "      <th>Res_name</th>\n",
       "      <th>Delivery Orders</th>\n",
       "      <th>Take-Away Orders</th>\n",
       "      <th>Dine In Orders</th>\n",
       "      <th>Cancelled Orders</th>\n",
       "      <th>Total Orders</th>\n",
       "    </tr>\n",
       "  </thead>\n",
       "  <tbody>\n",
       "    <tr>\n",
       "      <th>1</th>\n",
       "      <td>Number Of Orders</td>\n",
       "      <td>01-01-2023</td>\n",
       "      <td>31-01-2023</td>\n",
       "      <td>Mann Food Court</td>\n",
       "      <td>102</td>\n",
       "      <td>6</td>\n",
       "      <td>0</td>\n",
       "      <td>1</td>\n",
       "      <td>108</td>\n",
       "    </tr>\n",
       "    <tr>\n",
       "      <th>2</th>\n",
       "      <td>Item Sub-Total</td>\n",
       "      <td>01-01-2023</td>\n",
       "      <td>31-01-2023</td>\n",
       "      <td>Mann Food Court</td>\n",
       "      <td>42989.0</td>\n",
       "      <td>1611.0</td>\n",
       "      <td>0.0</td>\n",
       "      <td>288.0</td>\n",
       "      <td>44600.0</td>\n",
       "    </tr>\n",
       "    <tr>\n",
       "      <th>3</th>\n",
       "      <td>Packaging Or Service Charges</td>\n",
       "      <td>01-01-2023</td>\n",
       "      <td>31-01-2023</td>\n",
       "      <td>Mann Food Court</td>\n",
       "      <td>2685.0</td>\n",
       "      <td>115.0</td>\n",
       "      <td>0.0</td>\n",
       "      <td>25.0</td>\n",
       "      <td>2800.0</td>\n",
       "    </tr>\n",
       "  </tbody>\n",
       "</table>\n",
       "</div>\n",
       "      <button class=\"colab-df-convert\" onclick=\"convertToInteractive('df-736f75c4-0aad-41c0-b2a5-a13a1792135e')\"\n",
       "              title=\"Convert this dataframe to an interactive table.\"\n",
       "              style=\"display:none;\">\n",
       "        \n",
       "  <svg xmlns=\"http://www.w3.org/2000/svg\" height=\"24px\"viewBox=\"0 0 24 24\"\n",
       "       width=\"24px\">\n",
       "    <path d=\"M0 0h24v24H0V0z\" fill=\"none\"/>\n",
       "    <path d=\"M18.56 5.44l.94 2.06.94-2.06 2.06-.94-2.06-.94-.94-2.06-.94 2.06-2.06.94zm-11 1L8.5 8.5l.94-2.06 2.06-.94-2.06-.94L8.5 2.5l-.94 2.06-2.06.94zm10 10l.94 2.06.94-2.06 2.06-.94-2.06-.94-.94-2.06-.94 2.06-2.06.94z\"/><path d=\"M17.41 7.96l-1.37-1.37c-.4-.4-.92-.59-1.43-.59-.52 0-1.04.2-1.43.59L10.3 9.45l-7.72 7.72c-.78.78-.78 2.05 0 2.83L4 21.41c.39.39.9.59 1.41.59.51 0 1.02-.2 1.41-.59l7.78-7.78 2.81-2.81c.8-.78.8-2.07 0-2.86zM5.41 20L4 18.59l7.72-7.72 1.47 1.35L5.41 20z\"/>\n",
       "  </svg>\n",
       "      </button>\n",
       "      \n",
       "  <style>\n",
       "    .colab-df-container {\n",
       "      display:flex;\n",
       "      flex-wrap:wrap;\n",
       "      gap: 12px;\n",
       "    }\n",
       "\n",
       "    .colab-df-convert {\n",
       "      background-color: #E8F0FE;\n",
       "      border: none;\n",
       "      border-radius: 50%;\n",
       "      cursor: pointer;\n",
       "      display: none;\n",
       "      fill: #1967D2;\n",
       "      height: 32px;\n",
       "      padding: 0 0 0 0;\n",
       "      width: 32px;\n",
       "    }\n",
       "\n",
       "    .colab-df-convert:hover {\n",
       "      background-color: #E2EBFA;\n",
       "      box-shadow: 0px 1px 2px rgba(60, 64, 67, 0.3), 0px 1px 3px 1px rgba(60, 64, 67, 0.15);\n",
       "      fill: #174EA6;\n",
       "    }\n",
       "\n",
       "    [theme=dark] .colab-df-convert {\n",
       "      background-color: #3B4455;\n",
       "      fill: #D2E3FC;\n",
       "    }\n",
       "\n",
       "    [theme=dark] .colab-df-convert:hover {\n",
       "      background-color: #434B5C;\n",
       "      box-shadow: 0px 1px 3px 1px rgba(0, 0, 0, 0.15);\n",
       "      filter: drop-shadow(0px 1px 2px rgba(0, 0, 0, 0.3));\n",
       "      fill: #FFFFFF;\n",
       "    }\n",
       "  </style>\n",
       "\n",
       "      <script>\n",
       "        const buttonEl =\n",
       "          document.querySelector('#df-736f75c4-0aad-41c0-b2a5-a13a1792135e button.colab-df-convert');\n",
       "        buttonEl.style.display =\n",
       "          google.colab.kernel.accessAllowed ? 'block' : 'none';\n",
       "\n",
       "        async function convertToInteractive(key) {\n",
       "          const element = document.querySelector('#df-736f75c4-0aad-41c0-b2a5-a13a1792135e');\n",
       "          const dataTable =\n",
       "            await google.colab.kernel.invokeFunction('convertToInteractive',\n",
       "                                                     [key], {});\n",
       "          if (!dataTable) return;\n",
       "\n",
       "          const docLinkHtml = 'Like what you see? Visit the ' +\n",
       "            '<a target=\"_blank\" href=https://colab.research.google.com/notebooks/data_table.ipynb>data table notebook</a>'\n",
       "            + ' to learn more about interactive tables.';\n",
       "          element.innerHTML = '';\n",
       "          dataTable['output_type'] = 'display_data';\n",
       "          await google.colab.output.renderOutput(dataTable, element);\n",
       "          const docLink = document.createElement('div');\n",
       "          docLink.innerHTML = docLinkHtml;\n",
       "          element.appendChild(docLink);\n",
       "        }\n",
       "      </script>\n",
       "    </div>\n",
       "  </div>\n",
       "  "
      ],
      "text/plain": [
       "                     Particular Period From   Period To         Res_name  \\\n",
       "1              Number Of Orders  01-01-2023  31-01-2023  Mann Food Court   \n",
       "2                Item Sub-Total  01-01-2023  31-01-2023  Mann Food Court   \n",
       "3  Packaging Or Service Charges  01-01-2023  31-01-2023  Mann Food Court   \n",
       "\n",
       "  Delivery Orders Take-Away Orders Dine In Orders Cancelled Orders  \\\n",
       "1             102                6              0                1   \n",
       "2         42989.0           1611.0            0.0            288.0   \n",
       "3          2685.0            115.0            0.0             25.0   \n",
       "\n",
       "  Total Orders  \n",
       "1          108  \n",
       "2      44600.0  \n",
       "3       2800.0  "
      ]
     },
     "execution_count": 32,
     "metadata": {},
     "output_type": "execute_result"
    }
   ],
   "source": [
    "data.head(3)"
   ]
  },
  {
   "cell_type": "markdown",
   "metadata": {},
   "source": [
    "### Setting alphabetical serials for particulars"
   ]
  },
  {
   "cell_type": "code",
   "execution_count": null,
   "metadata": {
    "cellView": "form",
    "id": "RLktI-V_CCdd"
   },
   "outputs": [],
   "source": [
    "#alpha serials for particulars\n",
    "\t\n",
    "alpha_serials={'Number Of Orders':\t'A',\n",
    "              'Item Sub-Total':\t'B',\n",
    "              'Packaging Or Service Charges':\t'C',\n",
    "              'Delivery Charges'\t:'D',\n",
    "              'Discounts':\t'E',\n",
    "              'Net Bill Value'\t:'F',\n",
    "              'GST Charged to Customer':\t'G',\n",
    "              'Total Customer Payable':\t'H',\n",
    "              'Hashtag Loyalty Service Fees':\t'I',\n",
    "              'Razorpay Transaction Fee':\t'J',\n",
    "              'Delivery Fee':\t'K',\n",
    "              'Total GST over fees'\t:'L',\n",
    "              'Total Service Fees':\t'M',\n",
    "              'GST Deducted':\t'N',\n",
    "              'TCS Deducted'\t:'O',\n",
    "              'TDS Deducted':\t'P',\n",
    "              'Net Payable'\t:'Q'}\n",
    "data['Alpha_serials']=data['Particular'].map(alpha_serials)"
   ]
  },
  {
   "cell_type": "markdown",
   "metadata": {},
   "source": [
    "### Adding Month and report periods columns & droping unneccessary colms"
   ]
  },
  {
   "cell_type": "code",
   "execution_count": null,
   "metadata": {
    "cellView": "form",
    "id": "6rvr4MhStrNA"
   },
   "outputs": [],
   "source": [
    "#Adding Month and report periods, droping cols\n",
    "\n",
    "\n",
    "data['Frm day']=data['Period From'].str.split('-',expand=True)[0]\n",
    "data['Frm Mon']=data['Period From'].str.split('-',expand=True)[1]\n",
    "data['Frm Mon name']=pd.to_datetime(data['Frm Mon'],format='%m').dt.month_name().str.slice(stop=3)\n",
    "\n",
    "\n",
    "data['To day']=data['Period To'].str.split('-',expand=True)[0]\n",
    "data['To Mon']=data['Period To'].str.split('-',expand=True)[1]\n",
    "data['To Mon name']=pd.to_datetime(data['To Mon'],format='%m').dt.month_name().str.slice(stop=3)\n",
    "\n",
    "\n",
    "\n",
    "data['New Period From']= data['Frm day'] + \" \" + data['Frm Mon name'].astype(str)\n",
    "data['New Period To']= data['To day'] + \" \" + data['To Mon name'].astype(str)\n",
    "\n",
    "\n",
    "data['Report Period']=data['New Period From']+\"-\"+data['New Period To']\n",
    "\n",
    "\n",
    "data.drop(columns=['Frm Mon','Frm day','To day','To Mon','To Mon name','New Period From','New Period To'],inplace=True)\n",
    "data.rename(columns={'Frm Mon name':'Month'},inplace=True)"
   ]
  },
  {
   "cell_type": "code",
   "execution_count": null,
   "metadata": {
    "colab": {
     "base_uri": "https://localhost:8080/",
     "height": 159
    },
    "id": "Q3gtAfjxvypa",
    "outputId": "639b95bd-7ea5-4710-f546-ea99ad38e441"
   },
   "outputs": [
    {
     "data": {
      "text/html": [
       "\n",
       "  <div id=\"df-33376d14-d76d-4e17-a5f2-b454e944949e\">\n",
       "    <div class=\"colab-df-container\">\n",
       "      <div>\n",
       "<style scoped>\n",
       "    .dataframe tbody tr th:only-of-type {\n",
       "        vertical-align: middle;\n",
       "    }\n",
       "\n",
       "    .dataframe tbody tr th {\n",
       "        vertical-align: top;\n",
       "    }\n",
       "\n",
       "    .dataframe thead th {\n",
       "        text-align: right;\n",
       "    }\n",
       "</style>\n",
       "<table border=\"1\" class=\"dataframe\">\n",
       "  <thead>\n",
       "    <tr style=\"text-align: right;\">\n",
       "      <th></th>\n",
       "      <th>Particular</th>\n",
       "      <th>Period From</th>\n",
       "      <th>Period To</th>\n",
       "      <th>Res_name</th>\n",
       "      <th>Delivery Orders</th>\n",
       "      <th>Take-Away Orders</th>\n",
       "      <th>Dine In Orders</th>\n",
       "      <th>Cancelled Orders</th>\n",
       "      <th>Total Orders</th>\n",
       "      <th>Alpha_serials</th>\n",
       "      <th>Month</th>\n",
       "      <th>Report Period</th>\n",
       "    </tr>\n",
       "  </thead>\n",
       "  <tbody>\n",
       "    <tr>\n",
       "      <th>1</th>\n",
       "      <td>Number Of Orders</td>\n",
       "      <td>01-01-2023</td>\n",
       "      <td>31-01-2023</td>\n",
       "      <td>Mann Food Court</td>\n",
       "      <td>102</td>\n",
       "      <td>6</td>\n",
       "      <td>0</td>\n",
       "      <td>1</td>\n",
       "      <td>108</td>\n",
       "      <td>A</td>\n",
       "      <td>Jan</td>\n",
       "      <td>01 Jan-31 Jan</td>\n",
       "    </tr>\n",
       "  </tbody>\n",
       "</table>\n",
       "</div>\n",
       "      <button class=\"colab-df-convert\" onclick=\"convertToInteractive('df-33376d14-d76d-4e17-a5f2-b454e944949e')\"\n",
       "              title=\"Convert this dataframe to an interactive table.\"\n",
       "              style=\"display:none;\">\n",
       "        \n",
       "  <svg xmlns=\"http://www.w3.org/2000/svg\" height=\"24px\"viewBox=\"0 0 24 24\"\n",
       "       width=\"24px\">\n",
       "    <path d=\"M0 0h24v24H0V0z\" fill=\"none\"/>\n",
       "    <path d=\"M18.56 5.44l.94 2.06.94-2.06 2.06-.94-2.06-.94-.94-2.06-.94 2.06-2.06.94zm-11 1L8.5 8.5l.94-2.06 2.06-.94-2.06-.94L8.5 2.5l-.94 2.06-2.06.94zm10 10l.94 2.06.94-2.06 2.06-.94-2.06-.94-.94-2.06-.94 2.06-2.06.94z\"/><path d=\"M17.41 7.96l-1.37-1.37c-.4-.4-.92-.59-1.43-.59-.52 0-1.04.2-1.43.59L10.3 9.45l-7.72 7.72c-.78.78-.78 2.05 0 2.83L4 21.41c.39.39.9.59 1.41.59.51 0 1.02-.2 1.41-.59l7.78-7.78 2.81-2.81c.8-.78.8-2.07 0-2.86zM5.41 20L4 18.59l7.72-7.72 1.47 1.35L5.41 20z\"/>\n",
       "  </svg>\n",
       "      </button>\n",
       "      \n",
       "  <style>\n",
       "    .colab-df-container {\n",
       "      display:flex;\n",
       "      flex-wrap:wrap;\n",
       "      gap: 12px;\n",
       "    }\n",
       "\n",
       "    .colab-df-convert {\n",
       "      background-color: #E8F0FE;\n",
       "      border: none;\n",
       "      border-radius: 50%;\n",
       "      cursor: pointer;\n",
       "      display: none;\n",
       "      fill: #1967D2;\n",
       "      height: 32px;\n",
       "      padding: 0 0 0 0;\n",
       "      width: 32px;\n",
       "    }\n",
       "\n",
       "    .colab-df-convert:hover {\n",
       "      background-color: #E2EBFA;\n",
       "      box-shadow: 0px 1px 2px rgba(60, 64, 67, 0.3), 0px 1px 3px 1px rgba(60, 64, 67, 0.15);\n",
       "      fill: #174EA6;\n",
       "    }\n",
       "\n",
       "    [theme=dark] .colab-df-convert {\n",
       "      background-color: #3B4455;\n",
       "      fill: #D2E3FC;\n",
       "    }\n",
       "\n",
       "    [theme=dark] .colab-df-convert:hover {\n",
       "      background-color: #434B5C;\n",
       "      box-shadow: 0px 1px 3px 1px rgba(0, 0, 0, 0.15);\n",
       "      filter: drop-shadow(0px 1px 2px rgba(0, 0, 0, 0.3));\n",
       "      fill: #FFFFFF;\n",
       "    }\n",
       "  </style>\n",
       "\n",
       "      <script>\n",
       "        const buttonEl =\n",
       "          document.querySelector('#df-33376d14-d76d-4e17-a5f2-b454e944949e button.colab-df-convert');\n",
       "        buttonEl.style.display =\n",
       "          google.colab.kernel.accessAllowed ? 'block' : 'none';\n",
       "\n",
       "        async function convertToInteractive(key) {\n",
       "          const element = document.querySelector('#df-33376d14-d76d-4e17-a5f2-b454e944949e');\n",
       "          const dataTable =\n",
       "            await google.colab.kernel.invokeFunction('convertToInteractive',\n",
       "                                                     [key], {});\n",
       "          if (!dataTable) return;\n",
       "\n",
       "          const docLinkHtml = 'Like what you see? Visit the ' +\n",
       "            '<a target=\"_blank\" href=https://colab.research.google.com/notebooks/data_table.ipynb>data table notebook</a>'\n",
       "            + ' to learn more about interactive tables.';\n",
       "          element.innerHTML = '';\n",
       "          dataTable['output_type'] = 'display_data';\n",
       "          await google.colab.output.renderOutput(dataTable, element);\n",
       "          const docLink = document.createElement('div');\n",
       "          docLink.innerHTML = docLinkHtml;\n",
       "          element.appendChild(docLink);\n",
       "        }\n",
       "      </script>\n",
       "    </div>\n",
       "  </div>\n",
       "  "
      ],
      "text/plain": [
       "         Particular Period From   Period To         Res_name Delivery Orders  \\\n",
       "1  Number Of Orders  01-01-2023  31-01-2023  Mann Food Court             102   \n",
       "\n",
       "  Take-Away Orders Dine In Orders Cancelled Orders Total Orders Alpha_serials  \\\n",
       "1                6              0                1          108             A   \n",
       "\n",
       "  Month  Report Period  \n",
       "1   Jan  01 Jan-31 Jan  "
      ]
     },
     "execution_count": 35,
     "metadata": {},
     "output_type": "execute_result"
    }
   ],
   "source": [
    "data.head(1)"
   ]
  },
  {
   "cell_type": "code",
   "execution_count": null,
   "metadata": {
    "cellView": "form",
    "id": "p7GJrKRJkdw3"
   },
   "outputs": [],
   "source": [
    "# Excluding Feb\n",
    "data=data[~data['Month'].isin(['Feb'])]"
   ]
  },
  {
   "cell_type": "markdown",
   "metadata": {},
   "source": [
    "### Setting Serial numbers for months "
   ]
  },
  {
   "cell_type": "code",
   "execution_count": null,
   "metadata": {
    "cellView": "form",
    "id": "YMww3llOkNY5"
   },
   "outputs": [],
   "source": [
    "#@title Serial no. fr months\n",
    "#data['Month'].unique()\n",
    "months=['Mar','Apr','May','Jun', 'Jul','Aug','Sep','Oct','Nov', 'Dec','Jan']\n",
    "serial_no=dict(zip(months,[mon for mon in range(1,len(months)+1)]))\n",
    "#serial_no\n",
    "data['Mon_Serialno']=data['Month'].map(serial_no)\n",
    "\n",
    "\n",
    "#serial for particulars\n",
    "l=list(data['Particular'].unique())\n",
    "\n",
    "o=dict(zip(l,[i for i in range(1,len(l)+1)]))\n",
    "                               \n",
    "data['Serial_no']=data['Particular'].map(o)\n"
   ]
  },
  {
   "cell_type": "markdown",
   "metadata": {},
   "source": [
    "### setting and Adding report_period_serials numbers colm"
   ]
  },
  {
   "cell_type": "code",
   "execution_count": null,
   "metadata": {
    "cellView": "form",
    "code_folding": [],
    "id": "wG4qNaZ42SzQ"
   },
   "outputs": [],
   "source": [
    "#dding report_period_serials colm\n",
    "report_period_serials={'28 Mar-03 Apr'\t:1,\n",
    "                        '04 Apr-10 Apr'\t:2,\n",
    "                        '11 Apr-17 Apr'\t:3,\n",
    "                        '18 Apr-24 Apr'\t:4,\n",
    "                        '25 Apr-01 May'\t:5,\n",
    "                        '30 May-05 Jun'\t:10,\n",
    "                        '23 May-29 May'\t:9,\n",
    "                        '02 May-08 May'\t:6,\n",
    "                        '16 May-22 May'\t:8,\n",
    "                        '09 May-15 May'\t:7,\n",
    "                        '20 Jun-26 Jun'\t:13,\n",
    "                        '13 Jun-19 Jun'\t:12,\n",
    "                        '27 Jun-03 Jul'\t:14,\n",
    "                        '06 Jun-12 Jun'\t:11,\n",
    "                        '25 Jul-31 Jul'\t:18,\n",
    "                        '18 Jul-24 Jul'\t:17,\n",
    "                        '11 Jul-17 Jul'\t:16,\n",
    "                        '04 Jul-10 Jul'\t:15,\n",
    "                        '29 Aug-04 Sep'\t:23,\n",
    "                        '01 Aug-07 Aug'\t:19,\n",
    "                        '22 Aug-28 Aug'\t:22,\n",
    "                        '15 Aug-21 Aug'\t:21,\n",
    "                        '08 Aug-14 Aug'\t:20,\n",
    "                        '19 Sep-25 Sep'\t:26,\n",
    "                        '26 Sep-02 Oct'\t:27,\n",
    "                        '05 Sep-11 Sep'\t:24,\n",
    "                        '12 Sep-18 Sep'\t:25,\n",
    "                        '17 Oct-23 Oct'\t:30,\n",
    "                        '10 Oct-16 Oct'\t:29,\n",
    "                        '24 Oct-30 Oct'\t:31,\n",
    "                        '03 Oct-09 Oct'\t:28,\n",
    "                        '31 Oct-06 Nov'\t:32,\n",
    "                        '28 Nov-04 Dec'\t:35,\n",
    "                        '14 Nov-20 Nov'\t:34,\n",
    "                        '07 Nov-13 Nov'\t:33,\n",
    "                        '26 Dec-01 Jan'\t:39,\n",
    "                        '12 Dec-18 Dec'\t:37,\n",
    "                        '05 Dec-11 Dec'\t:36,\n",
    "                        '19 Dec-25 Dec'\t:38,\n",
    "                        '09 Jan-15 Jan'\t:41,\n",
    "                        '02 Jan-08 Jan'\t:40,\n",
    "                        '16 Jan-22 Jan'\t:42,\n",
    "                        '23 Jan-29 Jan'\t:43,}\n",
    "data['Report_period_serial']=data['Report Period'].map(report_period_serials)"
   ]
  },
  {
   "cell_type": "code",
   "execution_count": null,
   "metadata": {
    "id": "lec-PVF30aPz"
   },
   "outputs": [],
   "source": [
    "data=data.sort_values(by='Report_period_serial')"
   ]
  },
  {
   "cell_type": "code",
   "execution_count": null,
   "metadata": {
    "colab": {
     "base_uri": "https://localhost:8080/",
     "height": 214
    },
    "id": "DYaa47W32i_S",
    "outputId": "52f3fe2c-1eb3-4ad0-f1cb-2a87361eb726"
   },
   "outputs": [
    {
     "data": {
      "text/html": [
       "\n",
       "  <div id=\"df-cad66bd1-d96a-4449-a19a-874f8a3a3fc7\">\n",
       "    <div class=\"colab-df-container\">\n",
       "      <div>\n",
       "<style scoped>\n",
       "    .dataframe tbody tr th:only-of-type {\n",
       "        vertical-align: middle;\n",
       "    }\n",
       "\n",
       "    .dataframe tbody tr th {\n",
       "        vertical-align: top;\n",
       "    }\n",
       "\n",
       "    .dataframe thead th {\n",
       "        text-align: right;\n",
       "    }\n",
       "</style>\n",
       "<table border=\"1\" class=\"dataframe\">\n",
       "  <thead>\n",
       "    <tr style=\"text-align: right;\">\n",
       "      <th></th>\n",
       "      <th>Particular</th>\n",
       "      <th>Period From</th>\n",
       "      <th>Period To</th>\n",
       "      <th>Res_name</th>\n",
       "      <th>Delivery Orders</th>\n",
       "      <th>Take-Away Orders</th>\n",
       "      <th>Dine In Orders</th>\n",
       "      <th>Cancelled Orders</th>\n",
       "      <th>Total Orders</th>\n",
       "      <th>Alpha_serials</th>\n",
       "      <th>Month</th>\n",
       "      <th>Report Period</th>\n",
       "      <th>Mon_Serialno</th>\n",
       "      <th>Serial_no</th>\n",
       "      <th>Report_period_serial</th>\n",
       "    </tr>\n",
       "  </thead>\n",
       "  <tbody>\n",
       "    <tr>\n",
       "      <th>1</th>\n",
       "      <td>Number Of Orders</td>\n",
       "      <td>23-01-2023</td>\n",
       "      <td>29-01-2023</td>\n",
       "      <td>Mann Food Court</td>\n",
       "      <td>29</td>\n",
       "      <td>0</td>\n",
       "      <td>0</td>\n",
       "      <td>1</td>\n",
       "      <td>29</td>\n",
       "      <td>A</td>\n",
       "      <td>Jan</td>\n",
       "      <td>23 Jan-29 Jan</td>\n",
       "      <td>11</td>\n",
       "      <td>1</td>\n",
       "      <td>43.0</td>\n",
       "    </tr>\n",
       "  </tbody>\n",
       "</table>\n",
       "</div>\n",
       "      <button class=\"colab-df-convert\" onclick=\"convertToInteractive('df-cad66bd1-d96a-4449-a19a-874f8a3a3fc7')\"\n",
       "              title=\"Convert this dataframe to an interactive table.\"\n",
       "              style=\"display:none;\">\n",
       "        \n",
       "  <svg xmlns=\"http://www.w3.org/2000/svg\" height=\"24px\"viewBox=\"0 0 24 24\"\n",
       "       width=\"24px\">\n",
       "    <path d=\"M0 0h24v24H0V0z\" fill=\"none\"/>\n",
       "    <path d=\"M18.56 5.44l.94 2.06.94-2.06 2.06-.94-2.06-.94-.94-2.06-.94 2.06-2.06.94zm-11 1L8.5 8.5l.94-2.06 2.06-.94-2.06-.94L8.5 2.5l-.94 2.06-2.06.94zm10 10l.94 2.06.94-2.06 2.06-.94-2.06-.94-.94-2.06-.94 2.06-2.06.94z\"/><path d=\"M17.41 7.96l-1.37-1.37c-.4-.4-.92-.59-1.43-.59-.52 0-1.04.2-1.43.59L10.3 9.45l-7.72 7.72c-.78.78-.78 2.05 0 2.83L4 21.41c.39.39.9.59 1.41.59.51 0 1.02-.2 1.41-.59l7.78-7.78 2.81-2.81c.8-.78.8-2.07 0-2.86zM5.41 20L4 18.59l7.72-7.72 1.47 1.35L5.41 20z\"/>\n",
       "  </svg>\n",
       "      </button>\n",
       "      \n",
       "  <style>\n",
       "    .colab-df-container {\n",
       "      display:flex;\n",
       "      flex-wrap:wrap;\n",
       "      gap: 12px;\n",
       "    }\n",
       "\n",
       "    .colab-df-convert {\n",
       "      background-color: #E8F0FE;\n",
       "      border: none;\n",
       "      border-radius: 50%;\n",
       "      cursor: pointer;\n",
       "      display: none;\n",
       "      fill: #1967D2;\n",
       "      height: 32px;\n",
       "      padding: 0 0 0 0;\n",
       "      width: 32px;\n",
       "    }\n",
       "\n",
       "    .colab-df-convert:hover {\n",
       "      background-color: #E2EBFA;\n",
       "      box-shadow: 0px 1px 2px rgba(60, 64, 67, 0.3), 0px 1px 3px 1px rgba(60, 64, 67, 0.15);\n",
       "      fill: #174EA6;\n",
       "    }\n",
       "\n",
       "    [theme=dark] .colab-df-convert {\n",
       "      background-color: #3B4455;\n",
       "      fill: #D2E3FC;\n",
       "    }\n",
       "\n",
       "    [theme=dark] .colab-df-convert:hover {\n",
       "      background-color: #434B5C;\n",
       "      box-shadow: 0px 1px 3px 1px rgba(0, 0, 0, 0.15);\n",
       "      filter: drop-shadow(0px 1px 2px rgba(0, 0, 0, 0.3));\n",
       "      fill: #FFFFFF;\n",
       "    }\n",
       "  </style>\n",
       "\n",
       "      <script>\n",
       "        const buttonEl =\n",
       "          document.querySelector('#df-cad66bd1-d96a-4449-a19a-874f8a3a3fc7 button.colab-df-convert');\n",
       "        buttonEl.style.display =\n",
       "          google.colab.kernel.accessAllowed ? 'block' : 'none';\n",
       "\n",
       "        async function convertToInteractive(key) {\n",
       "          const element = document.querySelector('#df-cad66bd1-d96a-4449-a19a-874f8a3a3fc7');\n",
       "          const dataTable =\n",
       "            await google.colab.kernel.invokeFunction('convertToInteractive',\n",
       "                                                     [key], {});\n",
       "          if (!dataTable) return;\n",
       "\n",
       "          const docLinkHtml = 'Like what you see? Visit the ' +\n",
       "            '<a target=\"_blank\" href=https://colab.research.google.com/notebooks/data_table.ipynb>data table notebook</a>'\n",
       "            + ' to learn more about interactive tables.';\n",
       "          element.innerHTML = '';\n",
       "          dataTable['output_type'] = 'display_data';\n",
       "          await google.colab.output.renderOutput(dataTable, element);\n",
       "          const docLink = document.createElement('div');\n",
       "          docLink.innerHTML = docLinkHtml;\n",
       "          element.appendChild(docLink);\n",
       "        }\n",
       "      </script>\n",
       "    </div>\n",
       "  </div>\n",
       "  "
      ],
      "text/plain": [
       "         Particular Period From   Period To         Res_name Delivery Orders  \\\n",
       "1  Number Of Orders  23-01-2023  29-01-2023  Mann Food Court              29   \n",
       "\n",
       "  Take-Away Orders Dine In Orders Cancelled Orders Total Orders Alpha_serials  \\\n",
       "1                0              0                1           29             A   \n",
       "\n",
       "  Month  Report Period  Mon_Serialno  Serial_no  Report_period_serial  \n",
       "1   Jan  23 Jan-29 Jan            11          1                  43.0  "
      ]
     },
     "execution_count": 40,
     "metadata": {},
     "output_type": "execute_result"
    }
   ],
   "source": [
    "data.head(1)"
   ]
  },
  {
   "cell_type": "markdown",
   "metadata": {},
   "source": [
    "### Searching for Whole month periods in report period column and excluding them - 1"
   ]
  },
  {
   "cell_type": "code",
   "execution_count": null,
   "metadata": {
    "cellView": "form",
    "id": "dxV7CRg-X3AC"
   },
   "outputs": [],
   "source": [
    "# Making Not Needed periods\n",
    "u=list(data['Report Period'].unique())\n",
    "whole_month_periods=[]\n",
    "j=['Mar', 'Apr', 'May', 'Jun', 'Jul', 'Aug', 'Sep', 'Oct', 'Nov','Dec', 'Jan']\n",
    "for i in u:\n",
    "    for k in j:\n",
    "        if f'01 {k}-31 {k}' in i:\n",
    "            whole_month_periods.append(i)\n",
    "        if f'01 {k}-30 {k}' in i:\n",
    "            whole_month_periods.append(i) \n",
    "      #print(i)\n",
    "# #whole_month_periods=['01 Mar-31 Mar','01 Jul-31 Jul','01 Apr-30 Apr','01 Jul-31 Jul','01 Aug-31 Aug','01 Sep-30 Sep','01 Oct-31 Oct','01 Nov-30 Nov','01 Dec-31 Dec']\n"
   ]
  },
  {
   "cell_type": "markdown",
   "metadata": {},
   "source": [
    "### Searching for Whole month periods in report period column and excluding them - 2"
   ]
  },
  {
   "cell_type": "code",
   "execution_count": null,
   "metadata": {
    "colab": {
     "base_uri": "https://localhost:8080/",
     "height": 309
    },
    "id": "EOBQCvNuZ-0U",
    "outputId": "e7a6b448-7ec4-4f15-d474-07eae892dd2f"
   },
   "outputs": [
    {
     "data": {
      "text/html": [
       "\n",
       "  <div id=\"df-15d63f0b-3baf-457f-af9e-387e348aff32\">\n",
       "    <div class=\"colab-df-container\">\n",
       "      <div>\n",
       "<style scoped>\n",
       "    .dataframe tbody tr th:only-of-type {\n",
       "        vertical-align: middle;\n",
       "    }\n",
       "\n",
       "    .dataframe tbody tr th {\n",
       "        vertical-align: top;\n",
       "    }\n",
       "\n",
       "    .dataframe thead th {\n",
       "        text-align: right;\n",
       "    }\n",
       "</style>\n",
       "<table border=\"1\" class=\"dataframe\">\n",
       "  <thead>\n",
       "    <tr style=\"text-align: right;\">\n",
       "      <th></th>\n",
       "      <th>Particular</th>\n",
       "      <th>Period From</th>\n",
       "      <th>Period To</th>\n",
       "      <th>Res_name</th>\n",
       "      <th>Delivery Orders</th>\n",
       "      <th>Take-Away Orders</th>\n",
       "      <th>Dine In Orders</th>\n",
       "      <th>Cancelled Orders</th>\n",
       "      <th>Total Orders</th>\n",
       "      <th>Alpha_serials</th>\n",
       "      <th>Month</th>\n",
       "      <th>Month Report Period</th>\n",
       "      <th>Mon_Serialno</th>\n",
       "      <th>Serial_no</th>\n",
       "    </tr>\n",
       "  </thead>\n",
       "  <tbody>\n",
       "    <tr>\n",
       "      <th>1</th>\n",
       "      <td>Number Of Orders</td>\n",
       "      <td>01-01-2023</td>\n",
       "      <td>31-01-2023</td>\n",
       "      <td>Mann Food Court</td>\n",
       "      <td>102</td>\n",
       "      <td>6</td>\n",
       "      <td>0</td>\n",
       "      <td>1</td>\n",
       "      <td>108</td>\n",
       "      <td>A</td>\n",
       "      <td>Jan</td>\n",
       "      <td>01 Jan-31 Jan</td>\n",
       "      <td>11</td>\n",
       "      <td>1</td>\n",
       "    </tr>\n",
       "    <tr>\n",
       "      <th>3</th>\n",
       "      <td>Packaging Or Service Charges</td>\n",
       "      <td>01-01-2023</td>\n",
       "      <td>31-01-2023</td>\n",
       "      <td>Chinese Chaska</td>\n",
       "      <td>450.0</td>\n",
       "      <td>80.0</td>\n",
       "      <td>0.0</td>\n",
       "      <td>50.0</td>\n",
       "      <td>530.0</td>\n",
       "      <td>C</td>\n",
       "      <td>Jan</td>\n",
       "      <td>01 Jan-31 Jan</td>\n",
       "      <td>11</td>\n",
       "      <td>3</td>\n",
       "    </tr>\n",
       "    <tr>\n",
       "      <th>4</th>\n",
       "      <td>Delivery Charges</td>\n",
       "      <td>01-01-2023</td>\n",
       "      <td>31-01-2023</td>\n",
       "      <td>Chinese Chaska</td>\n",
       "      <td>795.0</td>\n",
       "      <td>0.0</td>\n",
       "      <td>0.0</td>\n",
       "      <td>55.0</td>\n",
       "      <td>795.0</td>\n",
       "      <td>D</td>\n",
       "      <td>Jan</td>\n",
       "      <td>01 Jan-31 Jan</td>\n",
       "      <td>11</td>\n",
       "      <td>4</td>\n",
       "    </tr>\n",
       "  </tbody>\n",
       "</table>\n",
       "</div>\n",
       "      <button class=\"colab-df-convert\" onclick=\"convertToInteractive('df-15d63f0b-3baf-457f-af9e-387e348aff32')\"\n",
       "              title=\"Convert this dataframe to an interactive table.\"\n",
       "              style=\"display:none;\">\n",
       "        \n",
       "  <svg xmlns=\"http://www.w3.org/2000/svg\" height=\"24px\"viewBox=\"0 0 24 24\"\n",
       "       width=\"24px\">\n",
       "    <path d=\"M0 0h24v24H0V0z\" fill=\"none\"/>\n",
       "    <path d=\"M18.56 5.44l.94 2.06.94-2.06 2.06-.94-2.06-.94-.94-2.06-.94 2.06-2.06.94zm-11 1L8.5 8.5l.94-2.06 2.06-.94-2.06-.94L8.5 2.5l-.94 2.06-2.06.94zm10 10l.94 2.06.94-2.06 2.06-.94-2.06-.94-.94-2.06-.94 2.06-2.06.94z\"/><path d=\"M17.41 7.96l-1.37-1.37c-.4-.4-.92-.59-1.43-.59-.52 0-1.04.2-1.43.59L10.3 9.45l-7.72 7.72c-.78.78-.78 2.05 0 2.83L4 21.41c.39.39.9.59 1.41.59.51 0 1.02-.2 1.41-.59l7.78-7.78 2.81-2.81c.8-.78.8-2.07 0-2.86zM5.41 20L4 18.59l7.72-7.72 1.47 1.35L5.41 20z\"/>\n",
       "  </svg>\n",
       "      </button>\n",
       "      \n",
       "  <style>\n",
       "    .colab-df-container {\n",
       "      display:flex;\n",
       "      flex-wrap:wrap;\n",
       "      gap: 12px;\n",
       "    }\n",
       "\n",
       "    .colab-df-convert {\n",
       "      background-color: #E8F0FE;\n",
       "      border: none;\n",
       "      border-radius: 50%;\n",
       "      cursor: pointer;\n",
       "      display: none;\n",
       "      fill: #1967D2;\n",
       "      height: 32px;\n",
       "      padding: 0 0 0 0;\n",
       "      width: 32px;\n",
       "    }\n",
       "\n",
       "    .colab-df-convert:hover {\n",
       "      background-color: #E2EBFA;\n",
       "      box-shadow: 0px 1px 2px rgba(60, 64, 67, 0.3), 0px 1px 3px 1px rgba(60, 64, 67, 0.15);\n",
       "      fill: #174EA6;\n",
       "    }\n",
       "\n",
       "    [theme=dark] .colab-df-convert {\n",
       "      background-color: #3B4455;\n",
       "      fill: #D2E3FC;\n",
       "    }\n",
       "\n",
       "    [theme=dark] .colab-df-convert:hover {\n",
       "      background-color: #434B5C;\n",
       "      box-shadow: 0px 1px 3px 1px rgba(0, 0, 0, 0.15);\n",
       "      filter: drop-shadow(0px 1px 2px rgba(0, 0, 0, 0.3));\n",
       "      fill: #FFFFFF;\n",
       "    }\n",
       "  </style>\n",
       "\n",
       "      <script>\n",
       "        const buttonEl =\n",
       "          document.querySelector('#df-15d63f0b-3baf-457f-af9e-387e348aff32 button.colab-df-convert');\n",
       "        buttonEl.style.display =\n",
       "          google.colab.kernel.accessAllowed ? 'block' : 'none';\n",
       "\n",
       "        async function convertToInteractive(key) {\n",
       "          const element = document.querySelector('#df-15d63f0b-3baf-457f-af9e-387e348aff32');\n",
       "          const dataTable =\n",
       "            await google.colab.kernel.invokeFunction('convertToInteractive',\n",
       "                                                     [key], {});\n",
       "          if (!dataTable) return;\n",
       "\n",
       "          const docLinkHtml = 'Like what you see? Visit the ' +\n",
       "            '<a target=\"_blank\" href=https://colab.research.google.com/notebooks/data_table.ipynb>data table notebook</a>'\n",
       "            + ' to learn more about interactive tables.';\n",
       "          element.innerHTML = '';\n",
       "          dataTable['output_type'] = 'display_data';\n",
       "          await google.colab.output.renderOutput(dataTable, element);\n",
       "          const docLink = document.createElement('div');\n",
       "          docLink.innerHTML = docLinkHtml;\n",
       "          element.appendChild(docLink);\n",
       "        }\n",
       "      </script>\n",
       "    </div>\n",
       "  </div>\n",
       "  "
      ],
      "text/plain": [
       "                     Particular Period From   Period To         Res_name  \\\n",
       "1              Number Of Orders  01-01-2023  31-01-2023  Mann Food Court   \n",
       "3  Packaging Or Service Charges  01-01-2023  31-01-2023   Chinese Chaska   \n",
       "4              Delivery Charges  01-01-2023  31-01-2023   Chinese Chaska   \n",
       "\n",
       "  Delivery Orders Take-Away Orders Dine In Orders Cancelled Orders  \\\n",
       "1             102                6              0                1   \n",
       "3           450.0             80.0            0.0             50.0   \n",
       "4           795.0              0.0            0.0             55.0   \n",
       "\n",
       "  Total Orders Alpha_serials Month Month Report Period  Mon_Serialno  \\\n",
       "1          108             A   Jan       01 Jan-31 Jan            11   \n",
       "3        530.0             C   Jan       01 Jan-31 Jan            11   \n",
       "4        795.0             D   Jan       01 Jan-31 Jan            11   \n",
       "\n",
       "   Serial_no  \n",
       "1          1  \n",
       "3          3  \n",
       "4          4  "
      ]
     },
     "execution_count": 42,
     "metadata": {},
     "output_type": "execute_result"
    }
   ],
   "source": [
    "# Seprating months data and savng to excel\n",
    "month_data=data[data['Report Period'].isin(whole_month_periods)]\n",
    "month_data=month_data.sort_values(by='Mon_Serialno')\n",
    "month_data.drop(columns=['Report_period_serial'],inplace=True)\n",
    "month_data.rename(columns={'Report Period':'Month Report Period'},inplace=True)\n",
    "month_data.head(3)\n"
   ]
  },
  {
   "cell_type": "markdown",
   "metadata": {},
   "source": [
    "### Excluding Not Needed periods"
   ]
  },
  {
   "cell_type": "code",
   "execution_count": null,
   "metadata": {
    "cellView": "form",
    "id": "rsJzs6A5WUHt"
   },
   "outputs": [],
   "source": [
    "# Excluding Not Needed periods\n",
    "data=data[~data['Report Period'].isin(whole_month_periods)]"
   ]
  },
  {
   "cell_type": "markdown",
   "metadata": {},
   "source": [
    "### Saving as excel in drive"
   ]
  },
  {
   "cell_type": "code",
   "execution_count": null,
   "metadata": {
    "id": "tg9qAalncUaZ"
   },
   "outputs": [],
   "source": [
    "data.to_excel('/content/drive/MyDrive/13_Data_Analyst/Thrive/Thrive Dashboard File/Thrive frm April 2022.xlsx')"
   ]
  },
  {
   "cell_type": "markdown",
   "metadata": {
    "id": "zXpZtnTDXPCL"
   },
   "source": [
    "## Pivoting data📌"
   ]
  },
  {
   "cell_type": "code",
   "execution_count": null,
   "metadata": {
    "cellView": "form",
    "id": "mysX5tbAoDfW"
   },
   "outputs": [],
   "source": [
    "#@title Pivoted data\n",
    "pivoted_data=pd.pivot_table(data,values='Total Orders',index=['Serial_no','Particular','Res_name'],columns=['Mon_Serialno','Report Period'],aggfunc='sum').sort_values(by='Serial_no')\n",
    "#pivoted_data.head(3)\n"
   ]
  },
  {
   "cell_type": "markdown",
   "metadata": {},
   "source": [
    "### Creating New DataFrame"
   ]
  },
  {
   "cell_type": "code",
   "execution_count": null,
   "metadata": {
    "cellView": "form",
    "colab": {
     "base_uri": "https://localhost:8080/",
     "height": 112
    },
    "id": "acXJB2qr4tPS",
    "outputId": "9af0946e-93c5-44a8-d3ef-00a956015506"
   },
   "outputs": [
    {
     "data": {
      "text/html": [
       "\n",
       "  <div id=\"df-a6ad3733-6385-4f0e-9467-d29f2787e9ab\">\n",
       "    <div class=\"colab-df-container\">\n",
       "      <div>\n",
       "<style scoped>\n",
       "    .dataframe tbody tr th:only-of-type {\n",
       "        vertical-align: middle;\n",
       "    }\n",
       "\n",
       "    .dataframe tbody tr th {\n",
       "        vertical-align: top;\n",
       "    }\n",
       "\n",
       "    .dataframe thead th {\n",
       "        text-align: right;\n",
       "    }\n",
       "</style>\n",
       "<table border=\"1\" class=\"dataframe\">\n",
       "  <thead>\n",
       "    <tr style=\"text-align: right;\">\n",
       "      <th>Report Period</th>\n",
       "      <th>Serial_no</th>\n",
       "      <th>Particular</th>\n",
       "      <th>Res_name</th>\n",
       "      <th>23 Jan-29 Jan</th>\n",
       "    </tr>\n",
       "  </thead>\n",
       "  <tbody>\n",
       "    <tr>\n",
       "      <th>0</th>\n",
       "      <td>1</td>\n",
       "      <td>Number Of Orders</td>\n",
       "      <td>Chinese Chaska</td>\n",
       "      <td>9</td>\n",
       "    </tr>\n",
       "    <tr>\n",
       "      <th>1</th>\n",
       "      <td>1</td>\n",
       "      <td>Number Of Orders</td>\n",
       "      <td>Dilli Darbar</td>\n",
       "      <td>20</td>\n",
       "    </tr>\n",
       "  </tbody>\n",
       "</table>\n",
       "</div>\n",
       "      <button class=\"colab-df-convert\" onclick=\"convertToInteractive('df-a6ad3733-6385-4f0e-9467-d29f2787e9ab')\"\n",
       "              title=\"Convert this dataframe to an interactive table.\"\n",
       "              style=\"display:none;\">\n",
       "        \n",
       "  <svg xmlns=\"http://www.w3.org/2000/svg\" height=\"24px\"viewBox=\"0 0 24 24\"\n",
       "       width=\"24px\">\n",
       "    <path d=\"M0 0h24v24H0V0z\" fill=\"none\"/>\n",
       "    <path d=\"M18.56 5.44l.94 2.06.94-2.06 2.06-.94-2.06-.94-.94-2.06-.94 2.06-2.06.94zm-11 1L8.5 8.5l.94-2.06 2.06-.94-2.06-.94L8.5 2.5l-.94 2.06-2.06.94zm10 10l.94 2.06.94-2.06 2.06-.94-2.06-.94-.94-2.06-.94 2.06-2.06.94z\"/><path d=\"M17.41 7.96l-1.37-1.37c-.4-.4-.92-.59-1.43-.59-.52 0-1.04.2-1.43.59L10.3 9.45l-7.72 7.72c-.78.78-.78 2.05 0 2.83L4 21.41c.39.39.9.59 1.41.59.51 0 1.02-.2 1.41-.59l7.78-7.78 2.81-2.81c.8-.78.8-2.07 0-2.86zM5.41 20L4 18.59l7.72-7.72 1.47 1.35L5.41 20z\"/>\n",
       "  </svg>\n",
       "      </button>\n",
       "      \n",
       "  <style>\n",
       "    .colab-df-container {\n",
       "      display:flex;\n",
       "      flex-wrap:wrap;\n",
       "      gap: 12px;\n",
       "    }\n",
       "\n",
       "    .colab-df-convert {\n",
       "      background-color: #E8F0FE;\n",
       "      border: none;\n",
       "      border-radius: 50%;\n",
       "      cursor: pointer;\n",
       "      display: none;\n",
       "      fill: #1967D2;\n",
       "      height: 32px;\n",
       "      padding: 0 0 0 0;\n",
       "      width: 32px;\n",
       "    }\n",
       "\n",
       "    .colab-df-convert:hover {\n",
       "      background-color: #E2EBFA;\n",
       "      box-shadow: 0px 1px 2px rgba(60, 64, 67, 0.3), 0px 1px 3px 1px rgba(60, 64, 67, 0.15);\n",
       "      fill: #174EA6;\n",
       "    }\n",
       "\n",
       "    [theme=dark] .colab-df-convert {\n",
       "      background-color: #3B4455;\n",
       "      fill: #D2E3FC;\n",
       "    }\n",
       "\n",
       "    [theme=dark] .colab-df-convert:hover {\n",
       "      background-color: #434B5C;\n",
       "      box-shadow: 0px 1px 3px 1px rgba(0, 0, 0, 0.15);\n",
       "      filter: drop-shadow(0px 1px 2px rgba(0, 0, 0, 0.3));\n",
       "      fill: #FFFFFF;\n",
       "    }\n",
       "  </style>\n",
       "\n",
       "      <script>\n",
       "        const buttonEl =\n",
       "          document.querySelector('#df-a6ad3733-6385-4f0e-9467-d29f2787e9ab button.colab-df-convert');\n",
       "        buttonEl.style.display =\n",
       "          google.colab.kernel.accessAllowed ? 'block' : 'none';\n",
       "\n",
       "        async function convertToInteractive(key) {\n",
       "          const element = document.querySelector('#df-a6ad3733-6385-4f0e-9467-d29f2787e9ab');\n",
       "          const dataTable =\n",
       "            await google.colab.kernel.invokeFunction('convertToInteractive',\n",
       "                                                     [key], {});\n",
       "          if (!dataTable) return;\n",
       "\n",
       "          const docLinkHtml = 'Like what you see? Visit the ' +\n",
       "            '<a target=\"_blank\" href=https://colab.research.google.com/notebooks/data_table.ipynb>data table notebook</a>'\n",
       "            + ' to learn more about interactive tables.';\n",
       "          element.innerHTML = '';\n",
       "          dataTable['output_type'] = 'display_data';\n",
       "          await google.colab.output.renderOutput(dataTable, element);\n",
       "          const docLink = document.createElement('div');\n",
       "          docLink.innerHTML = docLinkHtml;\n",
       "          element.appendChild(docLink);\n",
       "        }\n",
       "      </script>\n",
       "    </div>\n",
       "  </div>\n",
       "  "
      ],
      "text/plain": [
       "Report Period  Serial_no        Particular        Res_name 23 Jan-29 Jan\n",
       "0                      1  Number Of Orders  Chinese Chaska             9\n",
       "1                      1  Number Of Orders    Dilli Darbar            20"
      ]
     },
     "execution_count": 46,
     "metadata": {},
     "output_type": "execute_result"
    }
   ],
   "source": [
    "#Creating New DataFrame\n",
    "db=pd.DataFrame(pivoted_data)\n",
    "db=db.reset_index()\n",
    "db.fillna(0,inplace=True)\n",
    "db.columns=db.columns.droplevel(0)\n",
    "\n",
    "db.columns.values[0]='Serial_no'\n",
    "db.columns.values[2]='Res_name'\n",
    "db.columns.values[1]='Particular'\n",
    "db.head(2)"
   ]
  },
  {
   "cell_type": "markdown",
   "metadata": {},
   "source": [
    "### import google sheets libraries"
   ]
  },
  {
   "cell_type": "code",
   "execution_count": null,
   "metadata": {
    "id": "7i6ukUcP4yQG"
   },
   "outputs": [],
   "source": [
    "# import google sheets libraries\n",
    "from google.colab import auth\n",
    "from google.colab import auth\n",
    "from google.auth import default\n",
    "from pydrive.auth import GoogleAuth\n",
    "from pydrive.drive import GoogleDrive\n",
    "import gspread\n",
    "\n",
    "auth.authenticate_user()\n",
    "creds, _ = default()\n",
    "gc = gspread.authorize(creds)"
   ]
  },
  {
   "cell_type": "markdown",
   "metadata": {},
   "source": [
    "### opening different sheets and also appedning from last row of data in sheet"
   ]
  },
  {
   "cell_type": "code",
   "execution_count": null,
   "metadata": {
    "cellView": "form",
    "id": "5rlhrkyXIcRi"
   },
   "outputs": [],
   "source": [
    "# opening different sheets and also appedning from last row\n",
    "import gspread_dataframe as gd\n",
    "wc=gc.open_by_key('1ZYlLQJ2Nq_Isk6jsaGFaVfJ714U5TgF8k6mELPiZIY0')\n",
    "\n",
    "#wd=gc.open_by_url('https://docs.google.com/spreadsheets/d/1ZYlLQJ2Nq_Isk6jsaGFaVfJ714U5TgF8k6mELPiZIY0/edit#gid=643907605')\n",
    "\n",
    "new=wc.worksheet('Month wise')\n",
    "rows=new.get_all_values()\n",
    "df12=pd.DataFrame.from_records(rows[1:],columns=rows[0]) # viewing the google sheet data\n",
    "#df12\n",
    "\n",
    "existing_data=gd.get_as_dataframe(new)\n",
    "update=existing_data.append(month_data)\n",
    "gd.set_with_dataframe(new,update)\n",
    "\n"
   ]
  },
  {
   "cell_type": "code",
   "execution_count": null,
   "metadata": {
    "id": "pUGedlhZ5Ldq"
   },
   "outputs": [],
   "source": [
    "# update the google sheet by by cell \n",
    "\n",
    "\n",
    "cell_list = worksheet.range('AT2:AT500')\n",
    "cell_values = db['16 Jan-22 Jan'].tolist()\n",
    "\n",
    "for i, val in enumerate(cell_values):  #gives us a tuple of an index and value\n",
    "    cell_list[i].value = val    #use the index on cell_list and the val from cell_values\n",
    "\n",
    "worksheet.update_cells(cell_list)\n",
    "worksheet.update_acell('AT1','16 Jan-22 Jan')"
   ]
  },
  {
   "cell_type": "markdown",
   "metadata": {},
   "source": [
    "### Adding Credit% Rows to pivoted data and saving"
   ]
  },
  {
   "cell_type": "code",
   "execution_count": null,
   "metadata": {
    "cellView": "form",
    "id": "4j3Tqccy_DyP"
   },
   "outputs": [],
   "source": [
    "# Adding Credit% Rows\n",
    "p=db[db['Particular']=='Net Bill Value'].groupby(['Res_name'])[db.columns.values[3:]].sum()\n",
    "#p\n",
    "\n",
    "\n",
    "\n",
    "e=db[db['Particular']=='Net Payable'].groupby(['Res_name'])[db.columns.values[3:]].sum()\n",
    "#e\n",
    "\n",
    "Credit_percent=pd.DataFrame(round(((p/e)*100),0))\n",
    "Credit_percent.insert(0,'Particular',value='Credit%',allow_duplicates=False)\n",
    "Credit_percent=Credit_percent.reset_index() \n",
    "Credit_percent\n",
    "\n",
    "\n",
    "# credit_per_order= 'net payable'/No. of orders\n",
    "\n",
    "\n",
    "db.to_excel('/content/drive/MyDrive/13_Data_Analyst/Thrive/Thrive Dashboard File/Thrive frm April 2022 pivoted.xlsx')"
   ]
  },
  {
   "cell_type": "markdown",
   "metadata": {
    "id": "4RM4KrXBjddY"
   },
   "source": []
  }
 ],
 "metadata": {
  "colab": {
   "provenance": []
  },
  "kernelspec": {
   "display_name": "Python 3 (ipykernel)",
   "language": "python",
   "name": "python3"
  },
  "language_info": {
   "codemirror_mode": {
    "name": "ipython",
    "version": 3
   },
   "file_extension": ".py",
   "mimetype": "text/x-python",
   "name": "python",
   "nbconvert_exporter": "python",
   "pygments_lexer": "ipython3",
   "version": "3.9.7"
  },
  "toc": {
   "base_numbering": 1,
   "nav_menu": {},
   "number_sections": true,
   "sideBar": true,
   "skip_h1_title": false,
   "title_cell": "Table of Contents",
   "title_sidebar": "Contents",
   "toc_cell": false,
   "toc_position": {},
   "toc_section_display": true,
   "toc_window_display": false
  },
  "varInspector": {
   "cols": {
    "lenName": 16,
    "lenType": 16,
    "lenVar": 40
   },
   "kernels_config": {
    "python": {
     "delete_cmd_postfix": "",
     "delete_cmd_prefix": "del ",
     "library": "var_list.py",
     "varRefreshCmd": "print(var_dic_list())"
    },
    "r": {
     "delete_cmd_postfix": ") ",
     "delete_cmd_prefix": "rm(",
     "library": "var_list.r",
     "varRefreshCmd": "cat(var_dic_list()) "
    }
   },
   "types_to_exclude": [
    "module",
    "function",
    "builtin_function_or_method",
    "instance",
    "_Feature"
   ],
   "window_display": false
  }
 },
 "nbformat": 4,
 "nbformat_minor": 1
}
